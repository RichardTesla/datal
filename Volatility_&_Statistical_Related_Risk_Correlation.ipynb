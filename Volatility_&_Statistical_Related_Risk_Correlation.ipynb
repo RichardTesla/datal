{
  "nbformat": 4,
  "nbformat_minor": 0,
  "metadata": {
    "colab": {
      "provenance": [],
      "include_colab_link": true
    },
    "kernelspec": {
      "name": "python3",
      "display_name": "Python 3"
    },
    "language_info": {
      "name": "python"
    }
  },
  "cells": [
    {
      "cell_type": "markdown",
      "metadata": {
        "id": "view-in-github",
        "colab_type": "text"
      },
      "source": [
        "<a href=\"https://colab.research.google.com/github/RichardTesla/datal/blob/main/Volatility_%26_Statistical_Related_Risk_Correlation.ipynb\" target=\"_parent\"><img src=\"https://colab.research.google.com/assets/colab-badge.svg\" alt=\"Open In Colab\"/></a>"
      ]
    },
    {
      "cell_type": "markdown",
      "source": [
        "###  Theme : Statistical Related Risk: Volatility & Statistical Related Risk: Correlation"
      ],
      "metadata": {
        "id": "Wzztt7ADkTD5"
      }
    },
    {
      "cell_type": "markdown",
      "source": [
        "## Onukwufor Chizaram Richard"
      ],
      "metadata": {
        "id": "IAhTU33OVZBe"
      }
    },
    {
      "cell_type": "markdown",
      "source": [
        "# Section 1.1 Volatility"
      ],
      "metadata": {
        "id": "xtk_hddAOaXH"
      }
    },
    {
      "cell_type": "markdown",
      "source": [
        "### a. Volatility\n",
        "\n",
        "Volatility refers to the rate at which the price of a financial asset fluctuates, or changes, over time. It is often used as a measure of risk in the stock market, with higher volatility meaning that the price of a stock can move dramatically in a short period of time. This can result in substantial gains or losses for investors who hold these assets\n",
        "\n",
        "### b. Types of volatility\n",
        "There are several types of volatility that are commonly referred to in finance:\n",
        "\n",
        "Historical Volatility: This measures the actual price changes of a financial asset over a specific period of time.\n",
        "\n",
        "Implied Volatility: This is a market-based estimate of how much a stock price is expected to fluctuate in the future. It is derived from options prices and reflects the market's expectations for the future level of volatility.\n",
        "\n",
        "Realized Volatility: This is a measure of the actual price changes of a financial asset over a specific period of time, adjusted for dividends and other cash flows.\n",
        "\n",
        "Local Volatility: This measures the volatility of a financial asset at a specific point in time and space, taking into account the current price and rate of change of the asset.\n",
        "\n",
        "Stochastic Volatility: This type of volatility models the changes in the volatility of a financial asset over time as a random process.\n",
        "\n",
        "Each of these flavors of volatility serves a different purpose and provides different information to market participants.\n",
        "\n",
        "\n",
        "### c. How to compute historical volatility\n",
        "\n",
        "In order to compute historical volatility, we simply use formula for standard deviation of past market prices. This can easily be done by using the following steps:\n",
        "\n",
        "1.Security’s past prices (price series) are collected.\n",
        "2.Mean price of the series is calculated.\n",
        "3.Differences between individual prices and mean price are calculated.\n",
        "4.Differences from the previous steps are squared.\n",
        "5.Squared differences from the previous step are added together.\n",
        "6.The sum of squared differences is divided by the total number of prices in the series minus 1 (this gives the variance). (The rationale behind using (n-1) while estimating variance is that this leads to an unbiased estimator of variance.)\n",
        "7.Square-root of variance is taken.\n",
        "\n",
        "\n",
        "### d. Formula\n",
        "Equations for standard deviation:\n",
        "\n",
        "$\\sigma_{security} = \\surd[(∑_{t=1}^n(y_t - \\bar{y_t})^2)\\div(t-1)]$\n",
        "\n",
        "where\n",
        "- $\\sigma_{security}$ = volatility of a stock (*security*) price in the past $n$ days,\n",
        "- $y_t$ = the stock price at time $t$,\n",
        "- $ \\bar{y_t}$ = the average stock price for a given time interval.\n",
        "\n",
        "### e. How to compute Implied Volatility\n",
        "In order to compute Implied Volatility, we observe the price of an option (for a given strike and given maturity). Using this price, we back-calculate the σ parameter one has to push into the Black-Scholes formula in order to\n",
        "find that market observed price. As it turns out, the market has adjusted for the shortcomings of the Black–Scholes model and the market-implied distribution is not lognormal anymore. However, the beauty of the Black–Scholes formula is that we can tune our σ parameter such that we match this market price of the option. Clearly, this computation can only be done if there are option quotes available in the market."
      ],
      "metadata": {
        "id": "P-0lIRDwNn2W"
      }
    },
    {
      "cell_type": "markdown",
      "source": [
        "# Section 1.2 Correlation\n",
        "\n"
      ],
      "metadata": {
        "id": "B2aYrckpNPnz"
      }
    },
    {
      "cell_type": "markdown",
      "source": [
        "### a. Correlation\n",
        "Correlation refers to the relationship between two variables, typically measured on a scale from -1 to 1. A positive correlation means that as one variable increases, the other variable tends to increase as well. A negative correlation means that as one variable increases, the other tends to decrease. A correlation of zero means that there is no relationship between the variables.\n",
        "\n",
        "In finance, correlation is used to understand the relationship between two different financial assets or between a financial asset and an external factor, such as economic indicators. For example, a high positive correlation between two stocks might indicate that they are likely to move in the same direction, while a low or negative correlation might suggest that they are not likely to be impacted by the same factors. Understanding correlations can be useful for portfolio management, as it can help investors to diversify their portfolios and reduce overall risk.\n",
        "\n",
        "There are three common measures of correlation are Pearson correlation, Spearman rank correlation, Kendall rank correlation.\n",
        "The assumptions behind all three measures are specified below.\n",
        "\n",
        "### Pearson Correlation\n",
        "Both variables should have a pair of values.\n",
        "Both variables should be continuous.\n",
        "Both variables should be normally distributed.\n",
        "Outliers should be absent.\n",
        "Pearson Correlation assumes linearity and homoscedasticity.\n",
        "\n",
        "### Spearman Rank Correlation and Kendall Rank Correlation\n",
        "The pair of observations should be independent.\n",
        "The two variables under consideration should be measured on an interval, ordinal or ratio scale.\n",
        "Both these measures assume there is a monotonic relationship between the two variables under consideration.\n",
        "\n",
        "\n",
        "\n",
        "\n",
        "Given a variety of securities traded on the financial market, some of these securities express a linear relationship in prices, that is, as the price of one security moves up/down, another security's price moves up/down depending on the relationship. Hence, the commonly used metric used for calculating correlation is Pearson correlation coefficient.\n",
        "\n",
        "Portfolio managers uses correlation as a measure of risk of a group of assets in a portfolio. Highly correlated assets in a portfolio are more risky compared to less correlated. Correlation is linked to diversification of an investment portfolio. Investors use correlation to minimise certain risk and therefore preferably invest in assets that are not correlated (Hayes, 2022).\n",
        "\n",
        "Correlation between stocks can be either negative or positive. It is calculated as a correlation coefficient which has a values that ranges from -1 to 1 inclusively.\n",
        "\n",
        "### b. How to compute Pearson correlation\n",
        "\n",
        "Steps:\n",
        "\n",
        "1. Gather past market price data for your $asset_x$ and $asset_y$ variable.\n",
        "2. Calculate the average price of both $asset_x$ and $asset_y$.\n",
        "3. Subtract the average price of $asset_x$ from each price of $asset_x$. Repeat this step 3 for $asset_y$.\n",
        "4. Compute the product of each difference between price of $asset_x$ and the the average price of $asset_x$, with that of the corresponding differences of $aaset_y$.\n",
        "5. Compute the square of these differences and add the results.\n",
        "6. Determine the square root of the result obtained in Step 5.\n",
        "7. Divide the result in Step 4 by the resut obtained in Step 6.\n",
        "\n",
        "### c. Formula\n",
        "\n",
        " $top = \\sum(asset_x - \\bar{x})(asset_y - \\bar{y})$\n",
        "\n",
        " $bottom = \\surd[\\sum(asset_x - \\bar{x})^2 * ∑(asset_y - \\bar{y})^2]$\n",
        "\n",
        "$r_{x,y} = top\\div bottom$\n",
        "\n",
        "where;\n",
        "\n",
        "- $r_{x,y}$ = correlation coefficient between $asset_x$ and $asset_y$,\n",
        "\n",
        "- $\\bar{x}$ = average price of $asset_x$,\n",
        "\n",
        "- $\\bar{y}$ = average price of $asset_y$,\n"
      ],
      "metadata": {
        "id": "v8I0zNLAQ9Dd"
      }
    },
    {
      "cell_type": "markdown",
      "source": [
        "## Section 2: concepts explained using at least two asset classes with real-world data.\n",
        "\n",
        "*(2-4 pages), illustrate what you wrote about with original examples\n",
        "using real-world data. Your group will import historical datasets. The asset class, frequency, and country are all choices your group makes.*"
      ],
      "metadata": {
        "id": "P2uT7wxXmqku"
      }
    },
    {
      "cell_type": "markdown",
      "source": [
        "### Volatility and correlation using real-world data"
      ],
      "metadata": {
        "id": "GXQzBSwHvyA9"
      }
    },
    {
      "cell_type": "code",
      "source": [
        "import numpy as np\n",
        "import pandas as pd\n",
        "import pandas_datareader.data as web\n",
        "\n",
        "pd.options.display.float_format = \"{:,.4f}\".format\n",
        "\n",
        "import datetime as dt\n",
        "from datetime import date\n",
        "\n",
        "import matplotlib as mpl\n",
        "mpl.style.use(\"seaborn\")"
      ],
      "metadata": {
        "id": "gS2pmQS3mtcB"
      },
      "execution_count": null,
      "outputs": []
    },
    {
      "cell_type": "code",
      "source": [
        "# specify time frame\n",
        "# start = dt.date(2017, 11, 25)\n",
        "# end = dt.date(2021, 11, 22)\n",
        "start = dt.date.today()-dt.timedelta(365*5)\n",
        "end = dt.date.today()\n",
        "\n",
        "# chosen assets' ticker symbols\n",
        "tickers = [\"CBBTCUSD\", \"sp500\"]\n",
        "\n",
        "# Get the prices for the past 5 years\n",
        "prices = web.DataReader(tickers, \"fred\", start, end)\n",
        "\n",
        "# Rename column to make names more intuitive\n",
        "prices = prices.rename(columns={\"CBBTCUSD\": \"bitcoin\", \"sp500\": \"sp500\"})\n",
        "# drop missing vlaues\n",
        "prices = prices.dropna()\n",
        "\n",
        "# compute returns of each series\n",
        "prices[\"sp500_rt\"] = np.log(prices.sp500) - np.log(prices.sp500.shift(1))\n",
        "prices[\"bitcoin_rt\"] = np.log(prices.bitcoin) - np.log(prices.bitcoin.shift(1))\n",
        "\n",
        "# filter returns data\n",
        "prices = prices.iloc[1:,:]\n",
        "\n",
        "# calculate the mean prices\n",
        "ave_price_sp500 = prices.sp500_rt.mean()\n",
        "ave_price_btc = prices.bitcoin_rt.mean()\n",
        "\n",
        "# calculate the differences\n",
        "prices[\"sp500_diff\"] = (prices[\"sp500_rt\"] - ave_price_sp500)\n",
        "prices[\"btc_diff\"] = (prices[\"bitcoin_rt\"] - ave_price_btc)\n",
        "prices[\"btc_sp500_diff\"] = (prices[\"sp500_diff\"] * prices[\"btc_diff\"])\n",
        "\n",
        "# Calculate squared differences\n",
        "prices[\"sp500_sqrd_diff\"] = (prices[\"sp500_diff\"])**2\n",
        "prices[\"btc_sqrd_diff\"] = (prices[\"btc_diff\"])**2\n",
        "\n",
        "# sum the squared differences together\n",
        "sp500_ss_diff = prices.sp500_sqrd_diff.sum()\n",
        "btc_ss_diff = prices.btc_sqrd_diff.sum()\n",
        "btc_sp500_ss_diff = prices.btc_sp500_diff.sum()\n",
        "\n",
        "# compute variance of each series\n",
        "sp500_var = sp500_ss_diff/(len(prices) -1)\n",
        "bitcoin_var = btc_ss_diff/(len(prices) -1)\n",
        "\n",
        "# compute volatility (standard deviation)\n",
        "vol_sp500 = sp500_var**0.5\n",
        "vol_bitcoin = bitcoin_var**0.5\n",
        "\n",
        "# compute correlation between S&P500 and Bitcoin\n",
        "corr = (btc_sp500_ss_diff/(sp500_ss_diff*btc_ss_diff)**0.5)\n",
        "\n",
        "print(f\"\\nThe standard deviation (volatility) of S&P500 is {vol_sp500.round(4)}.\")\n",
        "print(f\"==\"*30)\n",
        "print(f\"\\nThe standard deviation (volatility) of Bitcoin is {vol_bitcoin.round(4)}.\")\n",
        "print(f\"==\"*30)\n",
        "print(f\"\\nThe correlation between Bitcoin and S&P500 is {corr.round(4)}.\")\n",
        "print(f\"==\"*27)"
      ],
      "metadata": {
        "colab": {
          "base_uri": "https://localhost:8080/",
          "height": 246
        },
        "id": "btCtQ3xfm1sQ",
        "outputId": "a6fc9b65-9ff6-4ab1-cc11-7a31bb24f7fa"
      },
      "execution_count": null,
      "outputs": [
        {
          "output_type": "error",
          "ename": "NameError",
          "evalue": "ignored",
          "traceback": [
            "\u001b[0;31m---------------------------------------------------------------------------\u001b[0m",
            "\u001b[0;31mNameError\u001b[0m                                 Traceback (most recent call last)",
            "\u001b[0;32m<ipython-input-1-4423e79c82e5>\u001b[0m in \u001b[0;36m<cell line: 4>\u001b[0;34m()\u001b[0m\n\u001b[1;32m      2\u001b[0m \u001b[0;31m# start = dt.date(2017, 11, 25)\u001b[0m\u001b[0;34m\u001b[0m\u001b[0;34m\u001b[0m\u001b[0m\n\u001b[1;32m      3\u001b[0m \u001b[0;31m# end = dt.date(2021, 11, 22)\u001b[0m\u001b[0;34m\u001b[0m\u001b[0;34m\u001b[0m\u001b[0m\n\u001b[0;32m----> 4\u001b[0;31m \u001b[0mstart\u001b[0m \u001b[0;34m=\u001b[0m \u001b[0mdt\u001b[0m\u001b[0;34m.\u001b[0m\u001b[0mdate\u001b[0m\u001b[0;34m.\u001b[0m\u001b[0mtoday\u001b[0m\u001b[0;34m(\u001b[0m\u001b[0;34m)\u001b[0m\u001b[0;34m-\u001b[0m\u001b[0mdt\u001b[0m\u001b[0;34m.\u001b[0m\u001b[0mtimedelta\u001b[0m\u001b[0;34m(\u001b[0m\u001b[0;36m365\u001b[0m\u001b[0;34m*\u001b[0m\u001b[0;36m5\u001b[0m\u001b[0;34m)\u001b[0m\u001b[0;34m\u001b[0m\u001b[0;34m\u001b[0m\u001b[0m\n\u001b[0m\u001b[1;32m      5\u001b[0m \u001b[0mend\u001b[0m \u001b[0;34m=\u001b[0m \u001b[0mdt\u001b[0m\u001b[0;34m.\u001b[0m\u001b[0mdate\u001b[0m\u001b[0;34m.\u001b[0m\u001b[0mtoday\u001b[0m\u001b[0;34m(\u001b[0m\u001b[0;34m)\u001b[0m\u001b[0;34m\u001b[0m\u001b[0;34m\u001b[0m\u001b[0m\n\u001b[1;32m      6\u001b[0m \u001b[0;34m\u001b[0m\u001b[0m\n",
            "\u001b[0;31mNameError\u001b[0m: name 'dt' is not defined"
          ]
        }
      ]
    },
    {
      "cell_type": "markdown",
      "source": [
        "### Verification of the above calculations using other methods"
      ],
      "metadata": {
        "id": "Gy8A0Wgh27Tq"
      }
    },
    {
      "cell_type": "code",
      "source": [
        "# Verification using std and corr function\n",
        "vol_sp500 = prices.sp500_rt.std()\n",
        "vol_btc = prices.bitcoin_rt.std()\n",
        "\n",
        "# filter required cols\n",
        "df = prices[[\"sp500_rt\", \"bitcoin_rt\"]]\n",
        "\n",
        "# correlation of sp500 and bitcoin\n",
        "corr_coef = df.corr()\n",
        "\n",
        "# display the results\n",
        "print(f\"Volatility:\\n\")\n",
        "print(f\"1. S&P500: {vol_sp500.round(4)} \\n2. Bitcoin: {vol_btc.round(4)}\")\n",
        "print(f\"\\nCorrelation between S&P500 and Bitcoin:\\n1. r = {corr_coef.iloc[1,0].round(4)}.\")"
      ],
      "metadata": {
        "colab": {
          "base_uri": "https://localhost:8080/"
        },
        "id": "BnHgv4bOtojX",
        "outputId": "080ca921-3950-4939-9edc-4335a726c334"
      },
      "execution_count": null,
      "outputs": [
        {
          "output_type": "stream",
          "name": "stdout",
          "text": [
            "Volatility:\n",
            "\n",
            "1. S&P500: 0.0136 \n",
            "2. Bitcoin: 0.0486\n",
            "\n",
            "Correlation between S&P500 and Bitcoin:\n",
            "1. r = 0.2682.\n"
          ]
        }
      ]
    },
    {
      "cell_type": "markdown",
      "source": [
        "### *Step 5: Show side-by-side graphs that illustrate the presence and absence of the item.*"
      ],
      "metadata": {
        "id": "i_7ykx9qodgf"
      }
    },
    {
      "cell_type": "code",
      "source": [
        "import seaborn as sns\n",
        "from matplotlib import pyplot as plt\n",
        "import plotly.express as px"
      ],
      "metadata": {
        "id": "zDOGu9ODVLYB"
      },
      "execution_count": null,
      "outputs": []
    },
    {
      "cell_type": "code",
      "source": [],
      "metadata": {
        "id": "cH4WdAyIlFxA"
      },
      "execution_count": null,
      "outputs": []
    },
    {
      "cell_type": "code",
      "source": [
        "data = pd.DataFrame(index=np.array([\"Bitcoin\", \"SP500\"]))\n",
        "data[\"Volatility\"] = [vol_btc, vol_sp500]\n",
        "data.head()"
      ],
      "metadata": {
        "colab": {
          "base_uri": "https://localhost:8080/",
          "height": 112
        },
        "id": "wQFd63iIVLOe",
        "outputId": "7b197604-0b9e-4e8a-8e34-bf8c33048279"
      },
      "execution_count": null,
      "outputs": [
        {
          "output_type": "execute_result",
          "data": {
            "text/plain": [
              "         Volatility\n",
              "Bitcoin      0.0486\n",
              "SP500        0.0136"
            ],
            "text/html": [
              "\n",
              "  <div id=\"df-40f9c314-f55b-47e8-816a-be23bd43ee62\">\n",
              "    <div class=\"colab-df-container\">\n",
              "      <div>\n",
              "<style scoped>\n",
              "    .dataframe tbody tr th:only-of-type {\n",
              "        vertical-align: middle;\n",
              "    }\n",
              "\n",
              "    .dataframe tbody tr th {\n",
              "        vertical-align: top;\n",
              "    }\n",
              "\n",
              "    .dataframe thead th {\n",
              "        text-align: right;\n",
              "    }\n",
              "</style>\n",
              "<table border=\"1\" class=\"dataframe\">\n",
              "  <thead>\n",
              "    <tr style=\"text-align: right;\">\n",
              "      <th></th>\n",
              "      <th>Volatility</th>\n",
              "    </tr>\n",
              "  </thead>\n",
              "  <tbody>\n",
              "    <tr>\n",
              "      <th>Bitcoin</th>\n",
              "      <td>0.0486</td>\n",
              "    </tr>\n",
              "    <tr>\n",
              "      <th>SP500</th>\n",
              "      <td>0.0136</td>\n",
              "    </tr>\n",
              "  </tbody>\n",
              "</table>\n",
              "</div>\n",
              "      <button class=\"colab-df-convert\" onclick=\"convertToInteractive('df-40f9c314-f55b-47e8-816a-be23bd43ee62')\"\n",
              "              title=\"Convert this dataframe to an interactive table.\"\n",
              "              style=\"display:none;\">\n",
              "        \n",
              "  <svg xmlns=\"http://www.w3.org/2000/svg\" height=\"24px\"viewBox=\"0 0 24 24\"\n",
              "       width=\"24px\">\n",
              "    <path d=\"M0 0h24v24H0V0z\" fill=\"none\"/>\n",
              "    <path d=\"M18.56 5.44l.94 2.06.94-2.06 2.06-.94-2.06-.94-.94-2.06-.94 2.06-2.06.94zm-11 1L8.5 8.5l.94-2.06 2.06-.94-2.06-.94L8.5 2.5l-.94 2.06-2.06.94zm10 10l.94 2.06.94-2.06 2.06-.94-2.06-.94-.94-2.06-.94 2.06-2.06.94z\"/><path d=\"M17.41 7.96l-1.37-1.37c-.4-.4-.92-.59-1.43-.59-.52 0-1.04.2-1.43.59L10.3 9.45l-7.72 7.72c-.78.78-.78 2.05 0 2.83L4 21.41c.39.39.9.59 1.41.59.51 0 1.02-.2 1.41-.59l7.78-7.78 2.81-2.81c.8-.78.8-2.07 0-2.86zM5.41 20L4 18.59l7.72-7.72 1.47 1.35L5.41 20z\"/>\n",
              "  </svg>\n",
              "      </button>\n",
              "      \n",
              "  <style>\n",
              "    .colab-df-container {\n",
              "      display:flex;\n",
              "      flex-wrap:wrap;\n",
              "      gap: 12px;\n",
              "    }\n",
              "\n",
              "    .colab-df-convert {\n",
              "      background-color: #E8F0FE;\n",
              "      border: none;\n",
              "      border-radius: 50%;\n",
              "      cursor: pointer;\n",
              "      display: none;\n",
              "      fill: #1967D2;\n",
              "      height: 32px;\n",
              "      padding: 0 0 0 0;\n",
              "      width: 32px;\n",
              "    }\n",
              "\n",
              "    .colab-df-convert:hover {\n",
              "      background-color: #E2EBFA;\n",
              "      box-shadow: 0px 1px 2px rgba(60, 64, 67, 0.3), 0px 1px 3px 1px rgba(60, 64, 67, 0.15);\n",
              "      fill: #174EA6;\n",
              "    }\n",
              "\n",
              "    [theme=dark] .colab-df-convert {\n",
              "      background-color: #3B4455;\n",
              "      fill: #D2E3FC;\n",
              "    }\n",
              "\n",
              "    [theme=dark] .colab-df-convert:hover {\n",
              "      background-color: #434B5C;\n",
              "      box-shadow: 0px 1px 3px 1px rgba(0, 0, 0, 0.15);\n",
              "      filter: drop-shadow(0px 1px 2px rgba(0, 0, 0, 0.3));\n",
              "      fill: #FFFFFF;\n",
              "    }\n",
              "  </style>\n",
              "\n",
              "      <script>\n",
              "        const buttonEl =\n",
              "          document.querySelector('#df-40f9c314-f55b-47e8-816a-be23bd43ee62 button.colab-df-convert');\n",
              "        buttonEl.style.display =\n",
              "          google.colab.kernel.accessAllowed ? 'block' : 'none';\n",
              "\n",
              "        async function convertToInteractive(key) {\n",
              "          const element = document.querySelector('#df-40f9c314-f55b-47e8-816a-be23bd43ee62');\n",
              "          const dataTable =\n",
              "            await google.colab.kernel.invokeFunction('convertToInteractive',\n",
              "                                                     [key], {});\n",
              "          if (!dataTable) return;\n",
              "\n",
              "          const docLinkHtml = 'Like what you see? Visit the ' +\n",
              "            '<a target=\"_blank\" href=https://colab.research.google.com/notebooks/data_table.ipynb>data table notebook</a>'\n",
              "            + ' to learn more about interactive tables.';\n",
              "          element.innerHTML = '';\n",
              "          dataTable['output_type'] = 'display_data';\n",
              "          await google.colab.output.renderOutput(dataTable, element);\n",
              "          const docLink = document.createElement('div');\n",
              "          docLink.innerHTML = docLinkHtml;\n",
              "          element.appendChild(docLink);\n",
              "        }\n",
              "      </script>\n",
              "    </div>\n",
              "  </div>\n",
              "  "
            ]
          },
          "metadata": {},
          "execution_count": 5
        }
      ]
    },
    {
      "cell_type": "code",
      "source": [
        "prices.head()"
      ],
      "metadata": {
        "colab": {
          "base_uri": "https://localhost:8080/",
          "height": 238
        },
        "id": "gkUlr56qmJ7p",
        "outputId": "22e8dcad-32a4-4aa6-c731-62c7acc05c51"
      },
      "execution_count": null,
      "outputs": [
        {
          "output_type": "execute_result",
          "data": {
            "text/plain": [
              "              bitcoin      sp500  sp500_rt  bitcoin_rt  sp500_diff  btc_diff  \\\n",
              "DATE                                                                           \n",
              "2017-10-26 5,891.6100 2,560.4000    0.0013      0.0261      0.0010    0.0251   \n",
              "2017-10-27 5,780.0000 2,581.0700    0.0080     -0.0191      0.0077   -0.0201   \n",
              "2017-10-30 6,124.1600 2,572.8300   -0.0032      0.0578     -0.0035    0.0569   \n",
              "2017-10-31 6,445.0100 2,575.2600    0.0009      0.0511      0.0006    0.0501   \n",
              "2017-11-01 6,783.6900 2,579.3600    0.0016      0.0512      0.0013    0.0503   \n",
              "\n",
              "            btc_sp500_diff  sp500_sqrd_diff  btc_sqrd_diff  \n",
              "DATE                                                        \n",
              "2017-10-26          0.0000           0.0000         0.0006  \n",
              "2017-10-27         -0.0002           0.0001         0.0004  \n",
              "2017-10-30         -0.0002           0.0000         0.0032  \n",
              "2017-10-31          0.0000           0.0000         0.0025  \n",
              "2017-11-01          0.0001           0.0000         0.0025  "
            ],
            "text/html": [
              "\n",
              "  <div id=\"df-66a6ce3b-4f4d-4bbe-bac9-8511fe76f35b\">\n",
              "    <div class=\"colab-df-container\">\n",
              "      <div>\n",
              "<style scoped>\n",
              "    .dataframe tbody tr th:only-of-type {\n",
              "        vertical-align: middle;\n",
              "    }\n",
              "\n",
              "    .dataframe tbody tr th {\n",
              "        vertical-align: top;\n",
              "    }\n",
              "\n",
              "    .dataframe thead th {\n",
              "        text-align: right;\n",
              "    }\n",
              "</style>\n",
              "<table border=\"1\" class=\"dataframe\">\n",
              "  <thead>\n",
              "    <tr style=\"text-align: right;\">\n",
              "      <th></th>\n",
              "      <th>bitcoin</th>\n",
              "      <th>sp500</th>\n",
              "      <th>sp500_rt</th>\n",
              "      <th>bitcoin_rt</th>\n",
              "      <th>sp500_diff</th>\n",
              "      <th>btc_diff</th>\n",
              "      <th>btc_sp500_diff</th>\n",
              "      <th>sp500_sqrd_diff</th>\n",
              "      <th>btc_sqrd_diff</th>\n",
              "    </tr>\n",
              "    <tr>\n",
              "      <th>DATE</th>\n",
              "      <th></th>\n",
              "      <th></th>\n",
              "      <th></th>\n",
              "      <th></th>\n",
              "      <th></th>\n",
              "      <th></th>\n",
              "      <th></th>\n",
              "      <th></th>\n",
              "      <th></th>\n",
              "    </tr>\n",
              "  </thead>\n",
              "  <tbody>\n",
              "    <tr>\n",
              "      <th>2017-10-26</th>\n",
              "      <td>5,891.6100</td>\n",
              "      <td>2,560.4000</td>\n",
              "      <td>0.0013</td>\n",
              "      <td>0.0261</td>\n",
              "      <td>0.0010</td>\n",
              "      <td>0.0251</td>\n",
              "      <td>0.0000</td>\n",
              "      <td>0.0000</td>\n",
              "      <td>0.0006</td>\n",
              "    </tr>\n",
              "    <tr>\n",
              "      <th>2017-10-27</th>\n",
              "      <td>5,780.0000</td>\n",
              "      <td>2,581.0700</td>\n",
              "      <td>0.0080</td>\n",
              "      <td>-0.0191</td>\n",
              "      <td>0.0077</td>\n",
              "      <td>-0.0201</td>\n",
              "      <td>-0.0002</td>\n",
              "      <td>0.0001</td>\n",
              "      <td>0.0004</td>\n",
              "    </tr>\n",
              "    <tr>\n",
              "      <th>2017-10-30</th>\n",
              "      <td>6,124.1600</td>\n",
              "      <td>2,572.8300</td>\n",
              "      <td>-0.0032</td>\n",
              "      <td>0.0578</td>\n",
              "      <td>-0.0035</td>\n",
              "      <td>0.0569</td>\n",
              "      <td>-0.0002</td>\n",
              "      <td>0.0000</td>\n",
              "      <td>0.0032</td>\n",
              "    </tr>\n",
              "    <tr>\n",
              "      <th>2017-10-31</th>\n",
              "      <td>6,445.0100</td>\n",
              "      <td>2,575.2600</td>\n",
              "      <td>0.0009</td>\n",
              "      <td>0.0511</td>\n",
              "      <td>0.0006</td>\n",
              "      <td>0.0501</td>\n",
              "      <td>0.0000</td>\n",
              "      <td>0.0000</td>\n",
              "      <td>0.0025</td>\n",
              "    </tr>\n",
              "    <tr>\n",
              "      <th>2017-11-01</th>\n",
              "      <td>6,783.6900</td>\n",
              "      <td>2,579.3600</td>\n",
              "      <td>0.0016</td>\n",
              "      <td>0.0512</td>\n",
              "      <td>0.0013</td>\n",
              "      <td>0.0503</td>\n",
              "      <td>0.0001</td>\n",
              "      <td>0.0000</td>\n",
              "      <td>0.0025</td>\n",
              "    </tr>\n",
              "  </tbody>\n",
              "</table>\n",
              "</div>\n",
              "      <button class=\"colab-df-convert\" onclick=\"convertToInteractive('df-66a6ce3b-4f4d-4bbe-bac9-8511fe76f35b')\"\n",
              "              title=\"Convert this dataframe to an interactive table.\"\n",
              "              style=\"display:none;\">\n",
              "        \n",
              "  <svg xmlns=\"http://www.w3.org/2000/svg\" height=\"24px\"viewBox=\"0 0 24 24\"\n",
              "       width=\"24px\">\n",
              "    <path d=\"M0 0h24v24H0V0z\" fill=\"none\"/>\n",
              "    <path d=\"M18.56 5.44l.94 2.06.94-2.06 2.06-.94-2.06-.94-.94-2.06-.94 2.06-2.06.94zm-11 1L8.5 8.5l.94-2.06 2.06-.94-2.06-.94L8.5 2.5l-.94 2.06-2.06.94zm10 10l.94 2.06.94-2.06 2.06-.94-2.06-.94-.94-2.06-.94 2.06-2.06.94z\"/><path d=\"M17.41 7.96l-1.37-1.37c-.4-.4-.92-.59-1.43-.59-.52 0-1.04.2-1.43.59L10.3 9.45l-7.72 7.72c-.78.78-.78 2.05 0 2.83L4 21.41c.39.39.9.59 1.41.59.51 0 1.02-.2 1.41-.59l7.78-7.78 2.81-2.81c.8-.78.8-2.07 0-2.86zM5.41 20L4 18.59l7.72-7.72 1.47 1.35L5.41 20z\"/>\n",
              "  </svg>\n",
              "      </button>\n",
              "      \n",
              "  <style>\n",
              "    .colab-df-container {\n",
              "      display:flex;\n",
              "      flex-wrap:wrap;\n",
              "      gap: 12px;\n",
              "    }\n",
              "\n",
              "    .colab-df-convert {\n",
              "      background-color: #E8F0FE;\n",
              "      border: none;\n",
              "      border-radius: 50%;\n",
              "      cursor: pointer;\n",
              "      display: none;\n",
              "      fill: #1967D2;\n",
              "      height: 32px;\n",
              "      padding: 0 0 0 0;\n",
              "      width: 32px;\n",
              "    }\n",
              "\n",
              "    .colab-df-convert:hover {\n",
              "      background-color: #E2EBFA;\n",
              "      box-shadow: 0px 1px 2px rgba(60, 64, 67, 0.3), 0px 1px 3px 1px rgba(60, 64, 67, 0.15);\n",
              "      fill: #174EA6;\n",
              "    }\n",
              "\n",
              "    [theme=dark] .colab-df-convert {\n",
              "      background-color: #3B4455;\n",
              "      fill: #D2E3FC;\n",
              "    }\n",
              "\n",
              "    [theme=dark] .colab-df-convert:hover {\n",
              "      background-color: #434B5C;\n",
              "      box-shadow: 0px 1px 3px 1px rgba(0, 0, 0, 0.15);\n",
              "      filter: drop-shadow(0px 1px 2px rgba(0, 0, 0, 0.3));\n",
              "      fill: #FFFFFF;\n",
              "    }\n",
              "  </style>\n",
              "\n",
              "      <script>\n",
              "        const buttonEl =\n",
              "          document.querySelector('#df-66a6ce3b-4f4d-4bbe-bac9-8511fe76f35b button.colab-df-convert');\n",
              "        buttonEl.style.display =\n",
              "          google.colab.kernel.accessAllowed ? 'block' : 'none';\n",
              "\n",
              "        async function convertToInteractive(key) {\n",
              "          const element = document.querySelector('#df-66a6ce3b-4f4d-4bbe-bac9-8511fe76f35b');\n",
              "          const dataTable =\n",
              "            await google.colab.kernel.invokeFunction('convertToInteractive',\n",
              "                                                     [key], {});\n",
              "          if (!dataTable) return;\n",
              "\n",
              "          const docLinkHtml = 'Like what you see? Visit the ' +\n",
              "            '<a target=\"_blank\" href=https://colab.research.google.com/notebooks/data_table.ipynb>data table notebook</a>'\n",
              "            + ' to learn more about interactive tables.';\n",
              "          element.innerHTML = '';\n",
              "          dataTable['output_type'] = 'display_data';\n",
              "          await google.colab.output.renderOutput(dataTable, element);\n",
              "          const docLink = document.createElement('div');\n",
              "          docLink.innerHTML = docLinkHtml;\n",
              "          element.appendChild(docLink);\n",
              "        }\n",
              "      </script>\n",
              "    </div>\n",
              "  </div>\n",
              "  "
            ]
          },
          "metadata": {},
          "execution_count": 6
        }
      ]
    },
    {
      "cell_type": "code",
      "source": [
        "from pandas.io.formats.style_render import StylerRenderer\n",
        "fig, ax = plt.subplots(1, 2, figsize=(19, 8))\n",
        "fig.set_facecolor('lightblue')\n",
        "\n",
        "# Add labels to the plot\n",
        "style = dict(size=15, color='white')\n",
        "\n",
        "\n",
        "past_3_years = prices.loc[date.today() - dt.timedelta(365*2.5) : date.today()]\n",
        "\n",
        "past_3_years.plot(kind=\"scatter\", x=\"sp500_rt\", y=\"bitcoin_rt\", ax=ax[0], color=\"blue\", marker=\"*\")\n",
        "data.plot(kind=\"bar\", y=\"Volatility\", ax=ax[1], legend=False, color=[\"#1385ff\", \"#ff6d13\"])\n",
        "\n",
        "ax[0].set_xlabel(\"S&P 500 daily returns\")\n",
        "ax[0].set_ylabel(\"Biticoin daily returns\")\n",
        "ax[0].text(-0.06, 0.1, \"Two stock returns for the \\npast 3 years were selected \\nto clearly visualize the \\nreationship indicating a weak \\npositive linear relationship\", **style, ha=\"left\", bbox=dict(boxstyle=\"round4, pad=.5\", alpha=1))\n",
        "ax[0].set_title(\"Daily Percentage Returns: S&P 500 and Bitcoin\", bbox=dict(boxstyle=\"round4\", alpha=2), va=\"top\", size=18, color=\"white\")\n",
        "ax[0].set_facecolor(\"lightgreen\")\n",
        "\n",
        "# Remove the border on the margin\n",
        "for _spine in [\"right\", \"top\", \"left\", \"bottom\"]:\n",
        "  ax[0].spines[_spine].set_visible(False)\n",
        "\n",
        "ax[1].set_ylim(0, 0.08)\n",
        "ax[1].set_ylabel(\"Volatility\")\n",
        "ax[1].set_title(\"Volatility of Daily Percentge Returns: S&P 500 and Bitcoin\", bbox=dict(boxstyle=\"round4\", alpha=1), va=\"top\", size=18, color=\"white\")\n",
        "ax[1].text(0, 0.055, \"Bitcoin: \\n\"+ str(vol_btc.round(4)), ha=\"center\", **style, bbox=dict(boxstyle=\"round4\", alpha=2))\n",
        "ax[1].text(1, 0.018, \"SP500: \\n\"+ str(vol_sp500.round(4)), ha=\"center\", **style, bbox=dict(boxstyle=\"round4\", alpha=2))\n",
        "fig.show();"
      ],
      "metadata": {
        "id": "SXz5Jkfwoc5u",
        "colab": {
          "base_uri": "https://localhost:8080/",
          "height": 520
        },
        "outputId": "f5cc9954-f37c-4b65-f3b6-269c57c561e2"
      },
      "execution_count": null,
      "outputs": [
        {
          "output_type": "display_data",
          "data": {
            "text/plain": [
              "<Figure size 1368x576 with 2 Axes>"
            ],
            "image/png": "[encoded data removed]"
          },
          "metadata": {}
        }
      ]
    },
    {
      "cell_type": "markdown",
      "source": [
        "### Step 6:\n",
        "\n",
        "*Using research papers or financial newspapers (NOT WIKIPEDIA), in 2 to 3\n",
        "pages, summarize concepts explained using real-world applications. This is different from the previous examples because it doesn’t require specific datasets, it does NOT require coding, and it should NOT be an original example, but it should be from a serious reference such as a journal article or reputable news source.*"
      ],
      "metadata": {
        "id": "5MhU56a_oIjk"
      }
    },
    {
      "cell_type": "markdown",
      "source": [
        "### Relationship between Volatility and Correlation\n",
        "The relationship between volatility and correlation has been a topic of interest for academics and practitioners alike. Initially, it might appear that quantifying this relationship is simple if correlations and volatilites don’t change with time. But, more often than not, there are abrupt changes observed in correlations and volatilites due to a variety of reasons including structural breaks in the underlying mechanisms which determine returns for various asset classes.\n",
        "\n",
        "This paper [8] makes some interesting observations while trying to establish a relationship between volatility and correlation of returns for various asset classes. It mentions that in periods of increased market volatility, the correlations between returns of various asset classes tends to increase (this is with relative to correlations observed during periods of normal volatility).\n",
        "\n",
        "The most common explanation provided for such a phenomenon is that during periods of heightened volatility, there is an inherent change in the underlying mechanisms which drive returns for various asset classes. Although, the paper makes an interesting point here as well. It mentions that using probability theory, one can argue that correlations between asset returns depend on market volatility even if the underlying relationships between returns has not changed (i.e. changes in correlations measured over an extended period of time can simply be due to changes in realized market volatility).\n",
        "\n",
        "\n"
      ],
      "metadata": {
        "id": "MNbV0e3muc7Z"
      }
    },
    {
      "cell_type": "markdown",
      "source": [
        "###Implications of the relationship between Volatility and Correlation\n",
        "The relationship between volatility and correlation has interesting implications for practitioners.\n",
        "\n",
        "Risk managers often use data from a relatively short lookback while estimating correlations and volatilities. Also, sometimes estimation methods apply geomterically reducing weights to observations in the more distant past. The relationship discussed above leads to the conclusion that using shorter lookbacks for volatility and correlation calculations can be a big mistake. If the considered lookback is a period with relatively stable markets, it would lead to lower estimated volatilites and lower estimated correlations. This might overstate the extent of diversification in the portfolio and thus, the portfolio can be unknowingly risky. Similarly, if the considered lookback is a period with heighted volatility, it would lead to higher estimated correlations and thus can result in a overly risk-averse portfolio.\n",
        "\n",
        "On the other hand, taking larger lookbacks isn’t always a good solution as well. Financial markets are adaptive and they change. Hence, using data from too distant a past would not be useful.\n",
        "\n",
        "Thus, for while selecting lookbacks for volatility and correlation calculations, one should not be ignoring periods of increased or decreased volatilites since they have considerable information about the underlying relationship between asset returns.\n",
        "\n",
        "This relationship also has implications for risk managers who are responsible for stress-testing portfolios. The method used for stress testing a portfolio must not exclude the empirical feature that periods of high volatilites often lead to higher correlations among various asset returns.\n",
        "\n",
        "In conclusion, this observation totally defeats the overall idea of diversification. The idea of diversification is to invest in various different asset classes which are not highly correlated to weather out periods of high volatilities. But, if the observations made in this paper are significant, diversification alone won’t help the investors in sailing through periods of high volatilites."
      ],
      "metadata": {
        "id": "lFJzYCVnucsu"
      }
    },
    {
      "cell_type": "markdown",
      "source": [
        "## References\n",
        "\n",
        "1. Adam Hayes, Implied Volatility vs Historical Volatility, https://www.investopedia.com/articles/investing-strategy/071616/implied-vs-historical-volatility-main-differences.asp\n",
        "2.https://www.kaggle.com/code/kiyoung1027/correlation-pearson-spearman-and-kendall/report\n",
        "3.https://www.statisticshowto.com/kendalls-tau/\n",
        "4.https://www.statisticssolutions.com/free-resources/directory-of-statistical-analyses/spearman-rank-correlation/\n",
        "5.Mackay, K. \"What is Volatility Index (VIX)?\". 22 Sept 2021. https://www.valuethemarkets.com/education/what-is-volatility-index-vix\n",
        "6.CFI Team. \"Volatility\". 4 Feb 2022. https://corporatefinanceinstitute.com/resources/knowledge/trading-investing/volatility-vol/\n",
        "7.Danbarkhorn. \"Crypto-correlation.\" Kaggle. 10 Sep 2019. https://www.kaggle.com/code/dbarkhorn/crypto-correlation/notebook.\n",
        "8.Loretan, Mico & English, B William, Evaluating changes in correlations during periods of high market volatility, https://www.bis.org/publ/r_qt0006e.pdf\n",
        "9.https://bookdown.org/maxime_debellefroid/MyBook/all-about-volatility.html\n"
      ],
      "metadata": {
        "id": "glQr0ltrZ1ya"
      }
    }
  ]
}