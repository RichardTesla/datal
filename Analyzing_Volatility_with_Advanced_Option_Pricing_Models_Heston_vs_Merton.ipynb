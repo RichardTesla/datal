{
  "cells": [
    {
      "cell_type": "markdown",
      "metadata": {
        "id": "view-in-github",
        "colab_type": "text"
      },
      "source": [
        "<a href=\"https://colab.research.google.com/github/RichardTesla/datal/blob/main/Analyzing_Volatility_with_Advanced_Option_Pricing_Models_Heston_vs_Merton.ipynb\" target=\"_parent\"><img src=\"https://colab.research.google.com/assets/colab-badge.svg\" alt=\"Open In Colab\"/></a>"
      ]
    },
    {
      "cell_type": "markdown",
      "metadata": {
        "id": "HNZ79xo84gmd"
      },
      "source": [
        "# **Group Work Project III**"
      ]
    },
    {
      "cell_type": "markdown",
      "metadata": {
        "id": "NxfJHOky4o-A"
      },
      "source": [
        "|  |  |\n",
        "|:---|:---|\n",
        "|**Name** |  Carolina Magda Roma, Siddeshkanth Logonathan, Chizaram Onukwufor  |\n",
        "|**Prior Knowledge** |Derivative pricing, Heston model, Merton model, Monte Carlo simulation, Python    |\n",
        "|**Keywords** |Put option, call option, european x american option, jumps, simulation  |"
      ]
    },
    {
      "cell_type": "markdown",
      "metadata": {
        "id": "rkScfz3G50H1"
      },
      "source": [
        "## **Step 1**"
      ]
    },
    {
      "cell_type": "markdown",
      "metadata": {
        "id": "CP-P8lPb54IX"
      },
      "source": [
        "Q5."
      ]
    },
    {
      "cell_type": "code",
      "execution_count": null,
      "metadata": {
        "id": "h8Equ0Ap8gm3",
        "cellView": "form"
      },
      "outputs": [],
      "source": [
        "#@title #\n",
        "import matplotlib.pyplot as plt\n",
        "import numpy as np\n",
        "import scipy.stats as ss"
      ]
    },
    {
      "cell_type": "code",
      "execution_count": null,
      "metadata": {
        "id": "LaEhodLB8nJx",
        "cellView": "form"
      },
      "outputs": [],
      "source": [
        "#@title ##### Functions for Heston's model\n",
        "\n",
        "### Stochastic volatility\n",
        "def SDE_vol(v0, kappa, theta, sigma, T, M, Ite, rand, row, cho_matrix):\n",
        "    dt = T / M  # T = maturity, M = number of time steps\n",
        "    v = np.zeros((M + 1, Ite), dtype=np.float64)\n",
        "    v[0] = v0\n",
        "    sdt = np.sqrt(dt)  # Sqrt of dt\n",
        "    for t in range(1, M + 1):\n",
        "        ran = np.dot(cho_matrix, rand[:, t])\n",
        "        v[t] = np.maximum(\n",
        "            0,\n",
        "            v[t - 1]\n",
        "            + kappa * (theta - v[t - 1]) * dt\n",
        "            + np.sqrt(v[t - 1]) * sigma * ran[row] * sdt,\n",
        "        )\n",
        "    return v\n",
        "\n",
        "### Stochastic volatility equation for stock prices\n",
        "def Heston_paths(S0, r, v, row, cho_matrix):\n",
        "    S = np.zeros((M + 1, Ite), dtype=float)\n",
        "    S[0] = S0\n",
        "    sdt = np.sqrt(dt)\n",
        "    for t in range(1, M + 1, 1):\n",
        "        ran = np.dot(cho_matrix, rand[:, t])\n",
        "        S[t] = S[t - 1] * np.exp((r - 0.5 * v[t - 1]) * dt + np.sqrt(v[t - 1]) * ran[row] * sdt)\n",
        "\n",
        "    return S\n",
        "\n",
        "### Generate random numbers\n",
        "def random_number_gen(M, Ite):\n",
        "    rand = np.random.standard_normal((2, M + 1, Ite))\n",
        "    return rand"
      ]
    },
    {
      "cell_type": "code",
      "execution_count": null,
      "metadata": {
        "id": "2-LV74FN8uLR",
        "cellView": "form"
      },
      "outputs": [],
      "source": [
        "#@title #### Implementation for correlation equal to -0.30\n",
        "v0 = 0.032\n",
        "kappa_v = 1.85\n",
        "sigma_v = 0.35\n",
        "theta_v = 0.045\n",
        "rho = -0.30\n",
        "\n",
        "S0 = 80  # Current underlying asset price\n",
        "r = 0.055  # Risk-free rate\n",
        "M0 = 90  # Number of time steps in a year - daily time steps 3 months = 90 days\n",
        "T = 0.25  # Number of years\n",
        "M = int(M0 * T)  # Total time steps\n",
        "Ite = 1000000  # Number of simulations\n",
        "dt = T / M  # Length of time step\n",
        "K = 80"
      ]
    },
    {
      "cell_type": "code",
      "execution_count": null,
      "metadata": {
        "id": "hUTiJFlC8wnV",
        "cellView": "form"
      },
      "outputs": [],
      "source": [
        "#@title #### Generating random numbers from standard normal\n",
        "rand = random_number_gen(M, Ite)\n",
        "\n",
        "\n",
        "# Covariance Matrix\n",
        "covariance_matrix = np.zeros((2, 2), dtype=np.float64)\n",
        "covariance_matrix[0] = [1.0, rho]\n",
        "covariance_matrix[1] = [rho, 1.0]\n",
        "cho_matrix = np.linalg.cholesky(covariance_matrix)"
      ]
    },
    {
      "cell_type": "code",
      "execution_count": null,
      "metadata": {
        "id": "Zf2zXiLB8yyz",
        "cellView": "form"
      },
      "outputs": [],
      "source": [
        "#@title ##### Volatility process paths\n",
        "V = SDE_vol(v0, kappa_v, theta_v, sigma_v, T, M, Ite, rand, 1, cho_matrix)\n",
        "\n",
        "# Underlying price process paths\n",
        "S30 = Heston_paths(S0, r, V, 0, cho_matrix)"
      ]
    },
    {
      "cell_type": "code",
      "execution_count": null,
      "metadata": {
        "id": "kMb-Fdiz814P",
        "cellView": "form"
      },
      "outputs": [],
      "source": [
        "#@title #### Heston Model to price european call and put options\n",
        "def heston_call_mc(S, K, r, T, t):\n",
        "    payoff = np.maximum(0, S[-1, :] - K)\n",
        "\n",
        "    average = np.mean(payoff)\n",
        "\n",
        "    return np.exp(-r * (T - t)) * average\n",
        "\n",
        "def heston_put_mc(S, K, r, T, t):\n",
        "    payoff = np.maximum(0, K - S[-1, :])\n",
        "\n",
        "    average = np.mean(payoff)\n",
        "\n",
        "    return np.exp(-r * (T - t)) * average"
      ]
    },
    {
      "cell_type": "code",
      "execution_count": null,
      "metadata": {
        "colab": {
          "base_uri": "https://localhost:8080/"
        },
        "id": "sV8XWck69ANN",
        "outputId": "a6f7d52b-58ae-456b-a829-96ace2cc774a",
        "cellView": "form"
      },
      "outputs": [
        {
          "output_type": "stream",
          "name": "stdout",
          "text": [
            "European Call Price under Heston with a correlation equal to -0.30:  3.47\n",
            "European Put Price under Heston with a correlation equal to -0.30:  2.38\n"
          ]
        }
      ],
      "source": [
        "#@title #\n",
        "hcall30 = heston_call_mc(S30, K, r, T, 0)\n",
        "print(\"European Call Price under Heston with a correlation equal to -0.30: \", round(hcall30,2))\n",
        "\n",
        "hput30 = heston_put_mc(S30, K, r, T, 0)\n",
        "print(\"European Put Price under Heston with a correlation equal to -0.30: \", round(hput30,2))"
      ]
    },
    {
      "cell_type": "markdown",
      "metadata": {
        "id": "NQcOhDZPeWmu"
      },
      "source": [
        "Q7a:\n",
        "\n",
        "Considering correlation equal to -0.30"
      ]
    },
    {
      "cell_type": "code",
      "execution_count": null,
      "metadata": {
        "id": "yAGKpC2SecdX",
        "cellView": "form"
      },
      "outputs": [],
      "source": [
        "#@title ###### Delta and Gamma are obtained via the finite difference method (by shocking the underlying price and delta, respectively, up and down)\n",
        "\n",
        "def hcall_price_delta_gamma(S, K, r, T, t, dS):\n",
        "\n",
        "  # Price\n",
        "  hcall = heston_call_mc(S, K = K ,r = r, T = T, t=t)\n",
        "  hput = heston_put_mc(S, K = K ,r = r, T = T, t=t)\n",
        "\n",
        "  # Delta\n",
        "  Sup = Heston_paths(S0+dS/2, r, V, 0, cho_matrix)\n",
        "  Sdown = Heston_paths(S0-dS/2, r, V, 0, cho_matrix)\n",
        "\n",
        "  eurocall_inc = heston_call_mc(Sup, K = K ,r = r, T = T, t=t)\n",
        "  eurocall_dec = heston_call_mc(Sdown, K = K ,r = r, T = T, t=t)\n",
        "  deltacall = (eurocall_inc - eurocall_dec) / dS\n",
        "\n",
        "  europut_inc = heston_put_mc(Sup, K = K ,r = r, T = T, t=t)\n",
        "  europut_dec = heston_put_mc(Sdown, K = K ,r = r, T = T, t=t)\n",
        "  deltaput = (europut_inc - europut_dec) / dS\n",
        "\n",
        "  # Gamma\n",
        "  Supgu = Heston_paths((S0+dS/2)+dS/2, r, V, 0, cho_matrix)\n",
        "  Supgd = Heston_paths((S0+dS/2)-dS/2, r, V, 0, cho_matrix)\n",
        "  Sdgu = Heston_paths((S0-dS/2)+dS/2, r, V, 0, cho_matrix)\n",
        "  Sdgd = Heston_paths((S0-dS/2)-dS/2, r, V, 0, cho_matrix)\n",
        "\n",
        "  deltacallup = (heston_call_mc(Supgu, K = K ,r = r, T = T, t=t) - heston_call_mc(Supgd, K = K ,r = r, T = T, t=t)) / dS\n",
        "  deltacalld = (heston_call_mc(Sdgu, K = K ,r = r, T = T, t=t) - heston_call_mc(Sdgd, K = K ,r = r, T = T, t=t)) / dS\n",
        "  gammacall = (deltacallup - deltacalld) / dS\n",
        "\n",
        "  deltaputup = (heston_put_mc(Supgu, K = K ,r = r, T = T, t=t) - heston_put_mc(Supgd, K = K ,r = r, T = T, t=t)) / dS\n",
        "  deltaputd = (heston_put_mc(Sdgu, K = K ,r = r, T = T, t=t) - heston_put_mc(Sdgd, K = K ,r = r, T = T, t=t)) / dS\n",
        "  gammaput = (deltaputup - deltaputd) / dS\n",
        "\n",
        "\n",
        "  return hcall, hput, deltacall, deltaput, gammacall, gammaput"
      ]
    },
    {
      "cell_type": "code",
      "execution_count": null,
      "metadata": {
        "colab": {
          "base_uri": "https://localhost:8080/"
        },
        "id": "a7daHu3Heenz",
        "outputId": "a7866de6-e012-4bf6-9b40-1ff6fff6ebc3",
        "cellView": "form"
      },
      "outputs": [
        {
          "output_type": "stream",
          "name": "stdout",
          "text": [
            "European Call Price under Heston with a correlation equal to -0.30:  3.47\n",
            "European Put Price under Heston with a correlation equal to -0.30:  2.38\n",
            "European Call Delta under Heston with a correlation equal to -0.30:  0.6\n",
            "European Put Delta under Heston with a correlation equal to -0.30:  -0.4\n",
            "European Call Gamma under Heston with a correlation equal to -0.30:  0.05\n",
            "European Put Gamma under Heston with a correlation equal to -0.30:  0.05\n"
          ]
        }
      ],
      "source": [
        "#@title #\n",
        "# Considering correlation equal to -0.30\n",
        "dS = 1\n",
        "\n",
        "# Option prices\n",
        "hcall30 = hcall_price_delta_gamma(S30, K, r, T, 0, dS=dS)[0]\n",
        "print(\"European Call Price under Heston with a correlation equal to -0.30: \", round(hcall30,2))\n",
        "\n",
        "hput30 = hcall_price_delta_gamma(S30, K, r, T, 0, dS=dS)[1]\n",
        "print(\"European Put Price under Heston with a correlation equal to -0.30: \", round(hput30,2))\n",
        "\n",
        "# Deltas\n",
        "delta_hcall30 = hcall_price_delta_gamma(S30, K, r, T, 0, dS=dS)[2]\n",
        "print(\"European Call Delta under Heston with a correlation equal to -0.30: \", round(delta_hcall30,2))\n",
        "\n",
        "delta_hput30 = hcall_price_delta_gamma(S30, K, r, T, 0, dS=dS)[3]\n",
        "print(\"European Put Delta under Heston with a correlation equal to -0.30: \", round(delta_hput30,2))\n",
        "\n",
        "# Gammas\n",
        "gamma_hcall30 = hcall_price_delta_gamma(S30, K, r, T, 0, dS=dS)[4]\n",
        "print(\"European Call Gamma under Heston with a correlation equal to -0.30: \", round(gamma_hcall30,2))\n",
        "\n",
        "gamma_put30 = hcall_price_delta_gamma(S30, K, r, T, 0, dS=dS)[5]\n",
        "print(\"European Put Gamma under Heston with a correlation equal to -0.30: \", round(gamma_put30,2))"
      ]
    },
    {
      "cell_type": "markdown",
      "metadata": {
        "id": "ivFfnqUGa0iQ"
      },
      "source": [
        "Q6."
      ]
    },
    {
      "cell_type": "code",
      "execution_count": null,
      "metadata": {
        "id": "JBCBHpifa4UB",
        "cellView": "form"
      },
      "outputs": [],
      "source": [
        "#@title #\n",
        "v0 = 0.032\n",
        "kappa_v = 1.85\n",
        "sigma_v = 0.35\n",
        "theta_v = 0.045\n",
        "rho = -0.70\n",
        "\n",
        "S0 = 80  # Current underlying asset price\n",
        "r = 0.055  # Risk-free rate\n",
        "M0 = 90  # Number of time steps in a year\n",
        "T = 0.25  # Number of years\n",
        "M = int(M0 * T)  # Total time steps\n",
        "Ite = 1000000  # Number of simulations\n",
        "dt = T / M  # Length of time step\n",
        "K = 80\n",
        "\n",
        "# Generating random numbers from standard normal\n",
        "rand = random_number_gen(M, Ite)\n",
        "\n",
        "# Covariance Matrix\n",
        "covariance_matrix = np.zeros((2, 2), dtype=np.float64)\n",
        "covariance_matrix[0] = [1.0, rho]\n",
        "covariance_matrix[1] = [rho, 1.0]\n",
        "cho_matrix = np.linalg.cholesky(covariance_matrix)\n",
        "\n",
        "# Volatility process paths\n",
        "V = SDE_vol(v0, kappa_v, theta_v, sigma_v, T, M, Ite, rand, 1, cho_matrix)\n",
        "\n",
        "# Underlying price process paths\n",
        "S = Heston_paths(S0, r, V, 0, cho_matrix)"
      ]
    },
    {
      "cell_type": "code",
      "execution_count": null,
      "metadata": {
        "colab": {
          "base_uri": "https://localhost:8080/"
        },
        "id": "iACxWBrBbBMh",
        "outputId": "ebce1a56-585a-42a6-dc53-5d59bfc6f536",
        "cellView": "form"
      },
      "outputs": [
        {
          "output_type": "stream",
          "name": "stdout",
          "text": [
            "European Call Price under Heston with a correlation equal to -0.70:  3.5\n",
            "European Put Price under Heston with a correlation equal to -0.70:  2.39\n"
          ]
        }
      ],
      "source": [
        "#@title #\n",
        "\n",
        "hcall70 = heston_call_mc(S, K, r, T, 0)\n",
        "print(\"European Call Price under Heston with a correlation equal to -0.70: \", round(hcall70,2) )\n",
        "\n",
        "hput70 = heston_put_mc(S, K, r, T, 0)\n",
        "print(\"European Put Price under Heston with a correlation equal to -0.70: \", round(hput70,2))"
      ]
    },
    {
      "cell_type": "markdown",
      "metadata": {
        "id": "-MQyd3xHxxeW"
      },
      "source": [
        "Q7b:\n",
        "\n",
        "Considering correlation equal to -0.70"
      ]
    },
    {
      "cell_type": "code",
      "execution_count": null,
      "metadata": {
        "colab": {
          "base_uri": "https://localhost:8080/"
        },
        "id": "Fqn1OhJhcL1R",
        "outputId": "fbdaf9bd-a4ef-4c4d-ffa5-8464ce1c5c28",
        "cellView": "form"
      },
      "outputs": [
        {
          "output_type": "stream",
          "name": "stdout",
          "text": [
            "European Call Price under Heston with a correlation equal to -0.70:  3.5\n",
            "European Put Price under Heston with a correlation equal to -0.70:  2.39\n",
            "European Call Delta under Heston with a correlation equal to -0.70:  0.63\n",
            "European Put Delta under Heston with a correlation equal to -0.70:  -0.37\n",
            "European Call Gamma under Heston with a correlation equal to -0.70:  0.05\n",
            "European Put Gamma under Heston with a correlation equal to -0.70:  0.05\n"
          ]
        }
      ],
      "source": [
        "#@title #\n",
        "\n",
        "# Option prices\n",
        "hcall70 = hcall_price_delta_gamma(S, K, r, T, 0, dS=dS)[0]\n",
        "print(\"European Call Price under Heston with a correlation equal to -0.70: \", round(hcall70,2))\n",
        "\n",
        "hput70 = hcall_price_delta_gamma(S, K, r, T, 0, dS=dS)[1]\n",
        "print(\"European Put Price under Heston with a correlation equal to -0.70: \", round(hput70,2))\n",
        "\n",
        "# Deltas\n",
        "delta_hcall70 = hcall_price_delta_gamma(S, K, r, T, 0, dS=dS)[2]\n",
        "print(\"European Call Delta under Heston with a correlation equal to -0.70: \", round(delta_hcall70,2))\n",
        "\n",
        "delta_hput70 = hcall_price_delta_gamma(S, K, r, T, 0, dS=dS)[3]\n",
        "print(\"European Put Delta under Heston with a correlation equal to -0.70: \", round(delta_hput70,2))\n",
        "\n",
        "# Gammas\n",
        "gamma_hcall70 = hcall_price_delta_gamma(S, K, r, T, 0, dS=dS)[4]\n",
        "print(\"European Call Gamma under Heston with a correlation equal to -0.70: \", round(gamma_hcall70,2))\n",
        "\n",
        "gamma_put70 = hcall_price_delta_gamma(S, K, r, T, 0, dS=dS)[5]\n",
        "print(\"European Put Gamma under Heston with a correlation equal to -0.70: \", round(gamma_put70,2))"
      ]
    },
    {
      "cell_type": "markdown",
      "metadata": {
        "id": "c-V6ABk0NRuR"
      },
      "source": [
        "## Team Member B. Jump Modeler"
      ]
    },
    {
      "cell_type": "code",
      "execution_count": null,
      "metadata": {
        "id": "1VqFhGvWNX8r",
        "cellView": "form"
      },
      "outputs": [],
      "source": [
        "#@title ### Importing packages\n",
        "\n",
        "import numpy as np\n",
        "import matplotlib.pyplot as plt\n",
        "import scipy.stats as ss"
      ]
    },
    {
      "cell_type": "code",
      "execution_count": null,
      "metadata": {
        "id": "Jh4h4BWDNeB0",
        "cellView": "form"
      },
      "outputs": [],
      "source": [
        "#@title ### Variables Initialization\n",
        "\n",
        "S0 = 80\n",
        "K = 80\n",
        "r = 0.055\n",
        "sigma = 0.35\n",
        "T = 3/12\n",
        "t = 0\n",
        "N = 90\n",
        "M = 1000000\n",
        "dt = T/N\n",
        "\n",
        "mu = -0.5\n",
        "delta = 0.22"
      ]
    },
    {
      "cell_type": "code",
      "execution_count": null,
      "metadata": {
        "id": "wrcU-1i7NXeK",
        "cellView": "form"
      },
      "outputs": [],
      "source": [
        "#@title ### Merton' stock price generator, option price calculator and greeks (delta, gamma)\n",
        "def merton_stock_price(S0, sigma, T, N, M, dt, lamb):\n",
        "    SM = np.zeros((N + 1, M))\n",
        "    SM[0] = S0\n",
        "\n",
        "    # rj\n",
        "    rj = lamb * (np.exp(mu + 0.5 * delta**2) - 1)\n",
        "\n",
        "    # Random numbers\n",
        "    z1 = np.random.standard_normal((N + 1, M))\n",
        "    z2 = np.random.standard_normal((N + 1, M))\n",
        "    y = np.random.poisson(lamb * dt, (N + 1, M))\n",
        "\n",
        "    for t in range(1, N + 1):\n",
        "        SM[t] = SM[t - 1] * (\n",
        "            np.exp((r - rj - 0.5 * sigma**2) * dt + sigma * np.sqrt(dt) * z1[t])\n",
        "            + (np.exp(mu + delta * z2[t]) - 1) * y[t]\n",
        "        )\n",
        "        SM[t] = np.maximum(\n",
        "            SM[t], 0.00001\n",
        "        )  # To ensure that the price never goes below zero!\n",
        "\n",
        "    return SM\n",
        "\n",
        "def get_call_price_european(S, K):\n",
        "    call_payoff = np.maximum(S[-1, :]-K, 0)\n",
        "    call_price = np.mean(call_payoff)\n",
        "    call_price = np.exp(-r * (T - t)) * call_price\n",
        "    return call_price\n",
        "\n",
        "def get_put_price_european(S, K):\n",
        "    put_payoff = np.maximum(K-S[-1, :], 0)\n",
        "    put_price = np.mean(put_payoff)\n",
        "    put_price = np.exp(-r * (T - t)) * put_price\n",
        "    return put_price\n",
        "\n",
        "def approx_delta(S0, K, r, sigma, T, N, M, dt, lamb, dS, opt_type='call'):\n",
        "    S_merton_inc = merton_stock_price(S0=S0+dS/2, sigma=sigma, T=T, N=N, M=M, lamb=lamb, dt=dt)\n",
        "    S_merton_dec = merton_stock_price(S0=S0-dS/2, sigma=sigma, T=T, N=N, M=M, lamb=lamb, dt=dt)\n",
        "    if opt_type == 'call':\n",
        "      european_inc = get_call_price_european(S_merton_inc, K)\n",
        "      european_dec = get_call_price_european(S_merton_dec, K)\n",
        "    elif opt_type == 'put':\n",
        "      european_inc = get_put_price_european(S_merton_inc, K)\n",
        "      european_dec = get_put_price_european(S_merton_dec, K)\n",
        "    delta = (european_inc - european_dec) / dS\n",
        "    return delta\n",
        "\n",
        "def approx_gamma(S0, K, r, sigma, T, N, M, dt, lamb, opt_type='call', dS=[2,1]):\n",
        "    delta_up = approx_delta(S0, K, r, sigma, T, N, M, dt, lamb, dS=dS[0], opt_type=opt_type)\n",
        "    delta_down = approx_delta(S0, K, r, sigma, T, N, M, dt, lamb, dS=dS[1], opt_type=opt_type)\n",
        "    gamma = (delta_up-delta_down)/(dS[0]-dS[1])\n",
        "    return gamma"
      ]
    },
    {
      "cell_type": "markdown",
      "metadata": {
        "id": "g02wYpsI5_Y9"
      },
      "source": [
        "## Q8."
      ]
    },
    {
      "cell_type": "code",
      "execution_count": null,
      "metadata": {
        "id": "9fA2h3KfNqKv",
        "cellView": "form"
      },
      "outputs": [],
      "source": [
        "#@title ### setting jump intensity\n",
        "lamb = 0.75"
      ]
    },
    {
      "cell_type": "code",
      "execution_count": null,
      "metadata": {
        "id": "5vzvRDAeN01B",
        "cellView": "form"
      },
      "outputs": [],
      "source": [
        "#@title #### Generating Merton stock prices\n",
        "S_merton = merton_stock_price(S0, sigma, T, N, M, dt, lamb)"
      ]
    },
    {
      "cell_type": "code",
      "execution_count": null,
      "metadata": {
        "colab": {
          "base_uri": "https://localhost:8080/"
        },
        "id": "AGTJ9ivQN4wq",
        "outputId": "dad30a9a-c4f0-4bdf-a1e8-35db86916767",
        "cellView": "form"
      },
      "outputs": [
        {
          "output_type": "stream",
          "name": "stdout",
          "text": [
            "Call Price for the European Option based on a Merton Jump model with lambda: 0.75 is: $8.3\n",
            "Put Price for the European Option based on a Merton Jump model with lambda: 0.75 is: $7.23\n"
          ]
        }
      ],
      "source": [
        "# @title #### Calculating Put and Call price\n",
        "\n",
        "call_price = get_call_price_european(S_merton, K)\n",
        "put_price = get_put_price_european(S_merton, K)\n",
        "call_price = round(call_price, 2)\n",
        "put_price = round(put_price, 2)\n",
        "\n",
        "print(f'Call Price for the European Option based on a Merton Jump model with lambda: {lamb} is: ${call_price}')\n",
        "print(f'Put Price for the European Option based on a Merton Jump model with lambda: {lamb} is: ${put_price}')"
      ]
    },
    {
      "cell_type": "code",
      "execution_count": null,
      "metadata": {
        "colab": {
          "base_uri": "https://localhost:8080/"
        },
        "id": "BlDk0udaOR3p",
        "outputId": "cc9fa593-4f09-47ee-b693-859638de3e0c",
        "cellView": "form"
      },
      "outputs": [
        {
          "output_type": "stream",
          "name": "stdout",
          "text": [
            "Delta for European Call option: 0.68\n",
            "Delta for European Put option: -0.38\n"
          ]
        }
      ],
      "source": [
        "#@title #### Calculating Delta value call and put\n",
        "delta_call = approx_delta(S0=S0, K=K, r=r, sigma=sigma, T=T, N=N, M=M, dt=dt, dS=1, lamb=lamb, opt_type='call')\n",
        "delta_call = round(delta_call, 2)\n",
        "print(f'Delta for European Call option: {round(delta_call, 2)}')\n",
        "delta_put = approx_delta(S0=S0, K=K, r=r, sigma=sigma, T=T, N=N, M=M, dt=dt, dS=1, lamb=lamb, opt_type='put')\n",
        "delta_put = round(delta_put, 2)\n",
        "print(f'Delta for European Put option: {round(delta_put, 2)}')\n"
      ]
    },
    {
      "cell_type": "code",
      "execution_count": null,
      "metadata": {
        "colab": {
          "base_uri": "https://localhost:8080/"
        },
        "id": "UyCKZ2TBOhz9",
        "outputId": "328fc9b8-d1f3-4956-a8ef-8df1fd7c0f04",
        "cellView": "form"
      },
      "outputs": [
        {
          "output_type": "stream",
          "name": "stdout",
          "text": [
            "Gamma for European Call option: 0.02\n",
            "Gamma for European Put option: 0.01\n"
          ]
        }
      ],
      "source": [
        "#@title #### Calculating Gamma value\n",
        "gamma_call = approx_gamma(S0=S0, K=K, r=r, sigma=sigma, T=T, N=N, M=M, dt=dt, lamb=lamb, opt_type='call')\n",
        "gamma_call = round(gamma_call, 2)\n",
        "print(f'Gamma for European Call option: {round(gamma_call, 2)}')\n",
        "gamma_put = approx_gamma(S0=S0, K=K, r=r, sigma=sigma, T=T, N=N, M=M, dt=dt, lamb=lamb, opt_type='put')\n",
        "gamma_put = round(gamma_put, 2)\n",
        "print(f'Gamma for European Put option: {round(gamma_put, 2)}')"
      ]
    },
    {
      "cell_type": "markdown",
      "metadata": {
        "id": "PzvwZEGR6BF2"
      },
      "source": [
        "## Q9."
      ]
    },
    {
      "cell_type": "code",
      "execution_count": null,
      "metadata": {
        "id": "y0m75QKiOryB",
        "cellView": "form"
      },
      "outputs": [],
      "source": [
        "#@title ### Setting Jump intensity\n",
        "lamb = 0.25"
      ]
    },
    {
      "cell_type": "code",
      "execution_count": null,
      "metadata": {
        "id": "J1V3AU4_OtW0",
        "cellView": "form"
      },
      "outputs": [],
      "source": [
        "#@title ### Simulating stock prices\n",
        "S_merton = merton_stock_price(S0, sigma, T, N, M, dt, lamb)"
      ]
    },
    {
      "cell_type": "code",
      "execution_count": null,
      "metadata": {
        "colab": {
          "base_uri": "https://localhost:8080/"
        },
        "id": "B4dZn34hOtd-",
        "outputId": "3bfa2215-6384-4234-f3f1-ad4897862995",
        "cellView": "form"
      },
      "outputs": [
        {
          "output_type": "stream",
          "name": "stdout",
          "text": [
            "Call Price for the European Option based on a Merton Jump model with lambda: 0.25 is: $6.82\n",
            "Put Price for the European Option based on a Merton Jump model with lambda: 0.25 is: $5.75\n"
          ]
        }
      ],
      "source": [
        "#@title ### Pricing the European Options\n",
        "\n",
        "call_price = get_call_price_european(S_merton, K)\n",
        "put_price = get_put_price_european(S_merton, K)\n",
        "call_price = round(call_price, 2)\n",
        "put_price = round(put_price, 2)\n",
        "\n",
        "print(f'Call Price for the European Option based on a Merton Jump model with lambda: {lamb} is: ${call_price}')\n",
        "print(f'Put Price for the European Option based on a Merton Jump model with lambda: {lamb} is: ${put_price}')"
      ]
    },
    {
      "cell_type": "code",
      "execution_count": null,
      "metadata": {
        "colab": {
          "base_uri": "https://localhost:8080/"
        },
        "id": "Uz-2LOYYOyxY",
        "outputId": "a5c320f9-a796-42b4-cbca-4d9ee8bca07c",
        "cellView": "form"
      },
      "outputs": [
        {
          "output_type": "stream",
          "name": "stdout",
          "text": [
            "Delta for European Call option: 0.61\n",
            "Delta for European Put option: -0.41\n"
          ]
        }
      ],
      "source": [
        "#@title #### Calculating Delta value call and put\n",
        "delta_call = approx_delta(S0=S0, K=K, r=r, sigma=sigma, T=T, N=N, M=M, dt=dt, dS=1, lamb=lamb, opt_type='call')\n",
        "delta_call = round(delta_call, 2)\n",
        "print(f'Delta for European Call option: {round(delta_call, 2)}')\n",
        "delta_put = approx_delta(S0=S0, K=K, r=r, sigma=sigma, T=T, N=N, M=M, dt=dt, dS=1, lamb=lamb, opt_type='put')\n",
        "delta_put = round(delta_put, 2)\n",
        "print(f'Delta for European Put option: {round(delta_put, 2)}')"
      ]
    },
    {
      "cell_type": "code",
      "execution_count": null,
      "metadata": {
        "id": "fEJwaOAiO1Mz",
        "colab": {
          "base_uri": "https://localhost:8080/"
        },
        "outputId": "affe9ead-7f20-4be9-c34b-bebd1938ed6d",
        "cellView": "form"
      },
      "outputs": [
        {
          "output_type": "stream",
          "name": "stdout",
          "text": [
            "Gamma for European Call option: -0.01\n",
            "Gamma for European Put option: 0.01\n"
          ]
        }
      ],
      "source": [
        "#@title #### Calculating Gamma value\n",
        "gamma_call = approx_gamma(S0=S0, K=K, r=r, sigma=sigma, T=T, N=N, M=M, dt=dt, lamb=lamb, opt_type='call')\n",
        "gamma_call = round(gamma_call, 2)\n",
        "print(f'Gamma for European Call option: {round(gamma_call, 2)}')\n",
        "gamma_put = approx_gamma(S0=S0, K=K, r=r, sigma=sigma, T=T, N=N, M=M, dt=dt, lamb=lamb, opt_type='put')\n",
        "gamma_put = round(gamma_put, 2)\n",
        "print(f'Gamma for European Put option: {round(gamma_put, 2)}')"
      ]
    },
    {
      "cell_type": "markdown",
      "metadata": {
        "id": "AV46Sg3o6Cdj"
      },
      "source": [
        "Q10."
      ]
    },
    {
      "cell_type": "markdown",
      "metadata": {
        "id": "XcSJoF9lPldI"
      },
      "source": [
        "Considering a specific simulation, for Lambda value of 0.75, the Delta and Gamma of the European Call and Put option is the following:\n",
        "  - Delta European Call: 0.65\n",
        "  - Delta European Put: -0.35\n",
        "  - Gamma European Call: 0.01\n",
        "  - Gamma European Put: 0.01\n",
        "\n",
        "For the Lambda value of 0.25, the Delta and Gamma of the following Call and Puts are:\n",
        "  - Delta European Call: 0.59\n",
        "  - Delta European Put: -0.41\n",
        "  - Gamma European Call: 0.01\n",
        "  - Gamma European Put: 0.02\n",
        "\n",
        "  We can see that by reducing the Jump Intensity of the Merton model, the Delta of European Call reduced whereas the Delta of the European put increased. The Gamma values of the Call stayed the same whereas the Gamma value of the put increased by 0.01.\n",
        "\n",
        "\n",
        "Please refer to **Table 1** for the final output based on current simulation."
      ]
    },
    {
      "cell_type": "markdown",
      "metadata": {
        "id": "0_PtB2GZ1PAq"
      },
      "source": [
        "### Team Member C. Model Validator"
      ]
    },
    {
      "cell_type": "markdown",
      "metadata": {
        "id": "7qhPYHBV6EnM"
      },
      "source": [
        "Q11."
      ]
    },
    {
      "cell_type": "code",
      "execution_count": null,
      "metadata": {
        "colab": {
          "base_uri": "https://localhost:8080/"
        },
        "id": "lviSPz13Eg5z",
        "outputId": "514dd538-0d01-4ed1-e7fd-ec29c5e0e361",
        "cellView": "form"
      },
      "outputs": [
        {
          "output_type": "stream",
          "name": "stdout",
          "text": [
            "European Call Price under Heston with a correlation equal to -0.30:  3.47\n",
            "European Put Price under Heston with a correlation equal to -0.30:  2.38\n",
            "Verifying Put-Call Parity:\n",
            "Call Price + S * exp(-r * T):  82.37467158006382\n",
            "Put Price + S:  82.3804123038521\n",
            "Put-Call Parity Test:  False\n",
            "Put-Call Parity Difference: 0.005740723788282498\n"
          ]
        }
      ],
      "source": [
        "#@title ### Heston Model\n",
        "print(\"European Call Price under Heston with a correlation equal to -0.30: \", round(hcall30,2))\n",
        "\n",
        "print(\"European Put Price under Heston with a correlation equal to -0.30: \", round(hput30,2))\n",
        "\n",
        "# Check put-call parity\n",
        "print(\"Verifying Put-Call Parity:\")\n",
        "print(\"Call Price + S * exp(-r * T): \", hcall30 + S0 * np.exp(-r * T))\n",
        "print(\"Put Price + S: \", hput30 + S0)\n",
        "print(\"Put-Call Parity Test: \", round(hcall30 + S0 * np.exp(-r * T), 2) == round(hput30 + S0, 2))\n",
        "put_call_parity_diff = hput30 - (hcall30 - S0 + K * np.exp(-r * T))\n",
        "print(\"Put-Call Parity Difference:\", put_call_parity_diff)"
      ]
    },
    {
      "cell_type": "code",
      "execution_count": null,
      "metadata": {
        "colab": {
          "base_uri": "https://localhost:8080/"
        },
        "id": "fmxYQFCn9nci",
        "outputId": "853824b6-c153-41eb-8e08-c2d08c17a4cb",
        "cellView": "form"
      },
      "outputs": [
        {
          "output_type": "stream",
          "name": "stdout",
          "text": [
            "European Call Price under Heston with a correlation equal to -0.70:  3.5\n",
            "European Put Price under Heston with a correlation equal to -0.70:  2.39\n",
            "Verifying Put-Call Parity:\n",
            "Call Price + S * exp(-r * T):  82.40671520272645\n",
            "Put Price + S:  82.39497274402027\n",
            "Put-Call Parity Test:  False\n",
            "Put-Call Parity Difference: -0.011742458706183179\n"
          ]
        }
      ],
      "source": [
        "#@title #\n",
        "print(\"European Call Price under Heston with a correlation equal to -0.70: \", round(hcall70,2) )\n",
        "\n",
        "print(\"European Put Price under Heston with a correlation equal to -0.70: \", round(hput70,2))\n",
        "# Check put-call parity\n",
        "print(\"Verifying Put-Call Parity:\")\n",
        "print(\"Call Price + S * exp(-r * T): \", hcall70 + S0 * np.exp(-r * T))\n",
        "print(\"Put Price + S: \", hput70 + S0)\n",
        "print(\"Put-Call Parity Test: \", round(hcall70 + S0 * np.exp(-r * T), 2) == round(hput70 + S0, 2))\n",
        "put_call_parity_diff = hput70 - (hcall70 - S0 + K * np.exp(-r * T))\n",
        "print(\"Put-Call Parity Difference:\",  put_call_parity_diff)"
      ]
    },
    {
      "cell_type": "markdown",
      "source": [
        "It is important to note that although the test result is false for the Heston model, this depends on the simulation and the difference is very small.When running different simulations, we could confirm that the test result is true. Overall, the put-call parity **holds** for both model specifications."
      ],
      "metadata": {
        "id": "xRo-ieNjFKHg"
      }
    },
    {
      "cell_type": "code",
      "execution_count": null,
      "metadata": {
        "colab": {
          "base_uri": "https://localhost:8080/"
        },
        "id": "5iWmuszgBz_0",
        "outputId": "d21ee01e-1550-4916-e5bd-a6ca7c1ddfcb",
        "cellView": "form"
      },
      "outputs": [
        {
          "output_type": "stream",
          "name": "stdout",
          "text": [
            "Call Price for the European Option based on a Merton Jump model with lambda: 0.75 is: $6.82\n",
            "Put Price for the European Option based on a Merton Jump model with lambda: 0.75 is: $5.75\n",
            "Verifying Put-Call Parity:\n",
            "Call Price + S * exp(-r * T):  85.72752795736352\n",
            "Put Price + S:  85.75\n",
            "Put-Call Parity Test:  False\n",
            "Put-Call Parity Difference: 0.022472042636479728\n"
          ]
        }
      ],
      "source": [
        " #@title ### Merton Model\n",
        "lamb = 0.75\n",
        "call_price = get_call_price_european(S_merton, K)\n",
        "put_price = get_put_price_european(S_merton, K)\n",
        "call_price = round(call_price, 2)\n",
        "put_price = round(put_price, 2)\n",
        "\n",
        "print(f'Call Price for the European Option based on a Merton Jump model with lambda: {lamb} is: ${call_price}')\n",
        "print(f'Put Price for the European Option based on a Merton Jump model with lambda: {lamb} is: ${put_price}')\n",
        "\n",
        "# Check put-call parity\n",
        "print(\"Verifying Put-Call Parity:\")\n",
        "print(\"Call Price + S * exp(-r * T): \", call_price + S0 * np.exp(-r * T))\n",
        "print(\"Put Price + S: \", put_price + S0)\n",
        "print(\"Put-Call Parity Test: \", round(call_price + S0 * np.exp(-r * T), 2) == round(put_price + S0, 2))\n",
        "put_call_parity_diff = put_price - (call_price - S0 + K * np.exp(-r * T))\n",
        "print(\"Put-Call Parity Difference:\", put_call_parity_diff)"
      ]
    },
    {
      "cell_type": "code",
      "execution_count": null,
      "metadata": {
        "colab": {
          "base_uri": "https://localhost:8080/"
        },
        "id": "5M9p8LNqNI3K",
        "outputId": "9d79adb2-451b-4d3d-dd40-575e71cd6523",
        "cellView": "form"
      },
      "outputs": [
        {
          "output_type": "stream",
          "name": "stdout",
          "text": [
            "Call Price for the European Option based on a Merton Jump model with lambda: 0.25 is: $6.82\n",
            "Put Price for the European Option based on a Merton Jump model with lambda: 0.25 is: $5.75\n",
            "Verifying Put-Call Parity:\n",
            "Call Price + S * exp(-r * T):  85.72752795736352\n",
            "Put Price + S:  85.75\n",
            "Put-Call Parity Test:  False\n",
            "Put-Call Parity Difference: 0.005740723788282498\n"
          ]
        }
      ],
      "source": [
        "#@title #\n",
        "lamb = 0.25\n",
        "call_price = get_call_price_european(S_merton, K)\n",
        "put_price = get_put_price_european(S_merton, K)\n",
        "call_price = round(call_price, 2)\n",
        "put_price = round(put_price, 2)\n",
        "\n",
        "print(f'Call Price for the European Option based on a Merton Jump model with lambda: {lamb} is: ${call_price}')\n",
        "print(f'Put Price for the European Option based on a Merton Jump model with lambda: {lamb} is: ${put_price}')\n",
        "\n",
        "# Check put-call parity\n",
        "print(\"Verifying Put-Call Parity:\")\n",
        "print(\"Call Price + S * exp(-r * T): \", call_price + S0 * np.exp(-r * T))\n",
        "print(\"Put Price + S: \", put_price + S0)\n",
        "print(\"Put-Call Parity Test: \", round(call_price + S0 * np.exp(-r * T), 2) == round(put_price + S0, 2))\n",
        "put_call_parity_diff = hput30 - (hcall30 - S0 + K * np.exp(-r * T))\n",
        "print(\"Put-Call Parity Difference:\", put_call_parity_diff)"
      ]
    },
    {
      "cell_type": "markdown",
      "source": [
        "Again, in general the put-call parity holds for european options as expected. The difference shown above is very small and depends on the simulation."
      ],
      "metadata": {
        "id": "kH2GOyXYuukS"
      }
    },
    {
      "cell_type": "markdown",
      "metadata": {
        "id": "J58RzU7U6F7G"
      },
      "source": [
        "Q12.\n",
        "\n",
        "Heston Model and Merton Model for 7 different strikes"
      ]
    },
    {
      "cell_type": "code",
      "execution_count": null,
      "metadata": {
        "colab": {
          "base_uri": "https://localhost:8080/"
        },
        "id": "RcMN7zIDEj5w",
        "outputId": "b9a6d9a7-5a80-4766-806f-e06df388a453",
        "cellView": "form"
      },
      "outputs": [
        {
          "output_type": "stream",
          "name": "stdout",
          "text": [
            "Strike: 94.12\n",
            "Option Type: OTM\n",
            "Option Price: 0.00\n",
            "---\n",
            "Strike: 88.89\n",
            "Option Type: OTM\n",
            "Option Price: 0.00\n",
            "---\n",
            "Strike: 84.21\n",
            "Option Type: OTM\n",
            "Option Price: 0.00\n",
            "---\n",
            "Strike: 80.00\n",
            "Option Type: ATM\n",
            "Option Price: 0.99\n",
            "---\n",
            "Strike: 76.19\n",
            "Option Type: ITM\n",
            "Option Price: 4.65\n",
            "---\n",
            "Strike: 72.73\n",
            "Option Type: ITM\n",
            "Option Price: 8.07\n",
            "---\n",
            "Strike: 69.57\n",
            "Option Type: ITM\n",
            "Option Price: 11.19\n",
            "---\n"
          ]
        }
      ],
      "source": [
        "#@title ### Heston Model  for 7 different strikes\n",
        "import numpy as np\n",
        "\n",
        "import numpy as np\n",
        "\n",
        "def heston_call_mc(S, K, r, T, t, v0, kappa_v, theta_v, sigma_v, rho, M, Ite):\n",
        "    dt = (T - t) / M\n",
        "    payoff = np.maximum(0, S[:, -1] - K)\n",
        "    average = np.mean(payoff)\n",
        "    return np.exp(-r * (T - t)) * average\n",
        "\n",
        "# Set up parameters\n",
        "S0 = 80  # Current underlying asset price\n",
        "r = 0.055  # Risk-free rate\n",
        "v0 = 0.032  # Initial variance\n",
        "kappa_v = 1.85  # Mean reversion rate of variance\n",
        "theta_v = 0.045  # Long-term variance\n",
        "sigma_v = 0.35  # Volatility of variance\n",
        "rho = -0.3  # Correlation between asset price and variance\n",
        "M0 = 90  # Number of time steps in a year\n",
        "T = 0.25  # Number of years\n",
        "M = int(M0 * T)  # Total time steps\n",
        "Ite = 1000000  # Number of simulations\n",
        "\n",
        "moneyness_values = [0.85, 0.90, 0.95, 1, 1.05, 1.10, 1.15]\n",
        "strikes = S0 / np.array(moneyness_values)\n",
        "\n",
        "# Simulate the Heston Model paths\n",
        "rand = np.random.standard_normal((2, M + 1, Ite))\n",
        "V = SDE_vol(v0, kappa_v, theta_v, sigma_v, T, M, Ite, rand, 1, cho_matrix)\n",
        "S = Heston_paths(S0, r, V, 0, cho_matrix)\n",
        "\n",
        "# Run the Heston Model for different strikes\n",
        "option_types = ['OTM', 'OTM', 'OTM', 'ATM', 'ITM', 'ITM', 'ITM']\n",
        "for i, strike in enumerate(strikes):\n",
        "    option_type = option_types[i]\n",
        "\n",
        "    # Calculate option price\n",
        "    if option_type == 'OTM':\n",
        "        option_price = heston_call_mc(S, strike, r, T, 0, v0, kappa_v, theta_v, sigma_v, rho, M, Ite)\n",
        "    elif option_type == 'ATM':\n",
        "        option_price = heston_call_mc(S, strike, r, T, 0, v0, kappa_v, theta_v, sigma_v, rho, M, Ite)\n",
        "    else:\n",
        "        option_price = heston_call_mc(S, strike, r, T, 0, v0, kappa_v, theta_v, sigma_v, rho, M, Ite)\n",
        "\n",
        "    # Print the results\n",
        "    print(f\"Strike: {strike:.2f}\")\n",
        "    print(f\"Option Type: {option_type}\")\n",
        "    print(f\"Option Price: {option_price:.2f}\")\n",
        "    print(\"---\")\n"
      ]
    },
    {
      "cell_type": "code",
      "execution_count": null,
      "metadata": {
        "colab": {
          "base_uri": "https://localhost:8080/"
        },
        "id": "uX0LZXjAI7wm",
        "outputId": "92bde8a9-67df-4a40-fa55-7e0d4bdba1d2",
        "cellView": "form"
      },
      "outputs": [
        {
          "output_type": "stream",
          "name": "stdout",
          "text": [
            "Strike: 94.12\n",
            "Option Type: OTM\n",
            "Option Price: 2.00\n",
            "---\n",
            "Strike: 88.89\n",
            "Option Type: OTM\n",
            "Option Price: 3.28\n",
            "---\n",
            "Strike: 84.21\n",
            "Option Type: OTM\n",
            "Option Price: 4.90\n",
            "---\n",
            "Strike: 80.00\n",
            "Option Type: ATM\n",
            "Option Price: 6.82\n",
            "---\n",
            "Strike: 76.19\n",
            "Option Type: ITM\n",
            "Option Price: 8.96\n",
            "---\n",
            "Strike: 72.73\n",
            "Option Type: ITM\n",
            "Option Price: 11.24\n",
            "---\n",
            "Strike: 69.57\n",
            "Option Type: ITM\n",
            "Option Price: 13.56\n",
            "---\n"
          ]
        }
      ],
      "source": [
        "#@title #\n",
        "import numpy as np\n",
        "\n",
        "def merton_stock_price(S0, sigma, T, N, M, dt, lamb):\n",
        "    SM = np.zeros((N + 1, M))\n",
        "    SM[0] = S0\n",
        "\n",
        "    # Random numbers\n",
        "    z1 = np.random.standard_normal((N + 1, M))\n",
        "    z2 = np.random.standard_normal((N + 1, M))\n",
        "    y = np.random.poisson(lamb * dt, (N + 1, M))\n",
        "\n",
        "    for t in range(1, N + 1):\n",
        "        SM[t] = SM[t - 1] * (\n",
        "            np.exp((r - 0.5 * sigma**2) * dt + sigma * np.sqrt(dt) * z1[t])\n",
        "            + (np.exp(mu + delta * z2[t]) - 1) * y[t]\n",
        "        )\n",
        "        SM[t] = np.maximum(\n",
        "            SM[t], 0.00001\n",
        "        )  # To ensure that the price never goes below zero!\n",
        "\n",
        "    return SM\n",
        "\n",
        "def get_call_price_european(S, K, r, T, t):\n",
        "    call_payoff = np.maximum(S[-1, :] - K, 0)\n",
        "    call_price = np.mean(call_payoff)\n",
        "    call_price = np.exp(-r * (T - t)) * call_price\n",
        "    return call_price\n",
        "\n",
        "def get_put_price_european(S, K, r, T, t):\n",
        "    put_payoff = np.maximum(K - S[-1, :], 0)\n",
        "    put_price = np.mean(put_payoff)\n",
        "    put_price = np.exp(-r * (T - t)) * put_price\n",
        "    return put_price\n",
        "\n",
        "\n",
        "# Set up parameters\n",
        "S0 = 80  # Current underlying asset price\n",
        "r = 0.055  # Risk-free rate\n",
        "M0 = 90  # Number of time steps in a year\n",
        "T = 0.25  # Number of years\n",
        "M = int(M0 * T)  # Total time steps\n",
        "N = 100  # Number of subintervals per time step\n",
        "Ite = 1000000  # Number of simulations\n",
        "dt = T / (M * N)  # Length of time step\n",
        "\n",
        "moneyness_values = [0.85, 0.90, 0.95, 1, 1.05, 1.10, 1.15]\n",
        "strikes = S0 / np.array(moneyness_values)\n",
        "\n",
        "# Run the Merton Model for different strikes\n",
        "option_types = ['OTM', 'OTM', 'OTM', 'ATM', 'ITM', 'ITM', 'ITM']\n",
        "for i, strike in enumerate(strikes):\n",
        "    option_type = option_types[i]\n",
        "\n",
        "    # Calculate option price\n",
        "    if option_type == 'OTM':\n",
        "        option_price = get_call_price_european(S_merton, strike, r, T, 0)\n",
        "    elif option_type == 'ATM':\n",
        "        option_price = get_call_price_european(S_merton, strike, r, T, 0)\n",
        "    else:\n",
        "        option_price = get_call_price_european(S_merton, strike, r, T, 0)\n",
        "\n",
        "    # Print the results\n",
        "    print(f\"Strike: {strike:.2f}\")\n",
        "    print(f\"Option Type: {option_type}\")\n",
        "    print(f\"Option Price: {option_price:.2f}\")\n",
        "    print(\"---\")\n"
      ]
    },
    {
      "cell_type": "markdown",
      "metadata": {
        "id": "PqIJ5Iz_6IGx"
      },
      "source": [
        "# **Step 2**"
      ]
    },
    {
      "cell_type": "markdown",
      "metadata": {
        "id": "4mqJCNqV6Mng"
      },
      "source": [
        "Q13.\n"
      ]
    },
    {
      "cell_type": "markdown",
      "metadata": {
        "id": "WX2qnuzIQBAo"
      },
      "source": [
        "\n",
        "\n",
        "*   Considering the Heston model in Q5\n",
        "\n",
        "\n"
      ]
    },
    {
      "cell_type": "code",
      "execution_count": null,
      "metadata": {
        "id": "RZL1mxwo2D67",
        "cellView": "form"
      },
      "outputs": [],
      "source": [
        "#@title #### Pricing an American Call option with Heston Model\n",
        "def price_call_american_heston(S, K):\n",
        "    C = np.zeros_like(S)\n",
        "    call_payoff_exp = np.maximum(S[-1, :]-K, 0)\n",
        "    C[-1, :] = call_payoff_exp\n",
        "    discount_factor = np.exp(-r*dt)\n",
        "\n",
        "    for i in range(S.shape[0]-2, -1, -1):\n",
        "        call_payoff_value = np.maximum(S[i, :]-K, 0)\n",
        "        call_holding_value = discount_factor*C[i+1, :]\n",
        "        C[i,:] = np.maximum(call_payoff_value, call_holding_value)\n",
        "\n",
        "    return C[0, :].mean(), C"
      ]
    },
    {
      "cell_type": "code",
      "execution_count": null,
      "metadata": {
        "colab": {
          "base_uri": "https://localhost:8080/"
        },
        "id": "KakToVW34psg",
        "outputId": "e64c6126-a5ff-4920-869c-c40b51618ecc",
        "cellView": "form"
      },
      "outputs": [
        {
          "output_type": "stream",
          "name": "stdout",
          "text": [
            "American Call Price with Heston model and correlation equal to -0.30:  5.48\n"
          ]
        }
      ],
      "source": [
        "#@title #\n",
        "hcall30_ame = price_call_american_heston(S30, 80)[0]\n",
        "print(\"American Call Price with Heston model and correlation equal to -0.30: \", round(hcall30_ame, 2))\n"
      ]
    },
    {
      "cell_type": "markdown",
      "metadata": {
        "id": "wQMaDd9dQDT6"
      },
      "source": [
        "*   Considering the Merton model in Q8"
      ]
    },
    {
      "cell_type": "code",
      "execution_count": null,
      "metadata": {
        "id": "eKmyv4ZEQHVX",
        "cellView": "form"
      },
      "outputs": [],
      "source": [
        "#@title #### Pricing American Call option based on a Merton model stock price dynamic\n",
        "def get_call_american(S, K):\n",
        "    C = np.zeros_like(S)\n",
        "    call_payoff_exp = np.maximum(S[-1, :]-K, 0)\n",
        "    C[-1, :] = call_payoff_exp\n",
        "    discount_factor = np.exp(-r*dt)\n",
        "\n",
        "    for i in range(S.shape[0]-2, -1, -1):\n",
        "        call_payoff_value = np.maximum(S[i, :]-K, 0)\n",
        "        call_holding_value = discount_factor*C[i+1, :]\n",
        "        C[i,:] = np.maximum(call_payoff_value, call_holding_value)\n",
        "\n",
        "    return C[0, :].mean(), C"
      ]
    },
    {
      "cell_type": "code",
      "execution_count": null,
      "metadata": {
        "colab": {
          "base_uri": "https://localhost:8080/"
        },
        "id": "0WfCrul5QNCU",
        "outputId": "001b7fa6-c2ba-49ba-d182-f27229800954",
        "cellView": "form"
      },
      "outputs": [
        {
          "output_type": "stream",
          "name": "stdout",
          "text": [
            "American Call value based on Merton model: $10.65\n"
          ]
        }
      ],
      "source": [
        "#@title #### Pricing an American Call based on a Merton Model\n",
        "S0 = 80\n",
        "K = 80\n",
        "r = 0.055\n",
        "sigma = 0.35\n",
        "T = 3/12\n",
        "t = 0\n",
        "N = 90\n",
        "M = 1000000\n",
        "dt = T/N\n",
        "\n",
        "mu = -0.5\n",
        "delta = 0.22\n",
        "\n",
        "lamb = 0.75\n",
        "S_merton = merton_stock_price(S0, sigma, T, N, M, dt, lamb)\n",
        "call_price, _ = get_call_american(S_merton, K)\n",
        "call_price = round(call_price, 2)\n",
        "\n",
        "print(f'American Call value based on Merton model: ${call_price}')"
      ]
    },
    {
      "cell_type": "markdown",
      "metadata": {
        "id": "E5RdnuJP6XRq"
      },
      "source": [
        "We observe that the american call prices for both methods are higher than the european counterpart as the price dynamic incorporates stochastic volatility or jumps, respectively."
      ]
    },
    {
      "cell_type": "markdown",
      "metadata": {
        "id": "uGcyDIPD6OJR"
      },
      "source": [
        "Q14.\n",
        "\n",
        "Using a Heston model to price an European Up-and-in call option."
      ]
    },
    {
      "cell_type": "code",
      "execution_count": null,
      "metadata": {
        "id": "N_wTwljvRMjp",
        "cellView": "form"
      },
      "outputs": [],
      "source": [
        "#@title ##### Implementation for correlation equal to -0.70 (same of Q6)\n",
        "v0 = 0.032\n",
        "kappa_v = 1.85\n",
        "sigma_v = 0.35\n",
        "theta_v = 0.045\n",
        "rho = -0.70\n",
        "\n",
        "S0 = 95  # Current underlying asset price\n",
        "B = 95\n",
        "r = 0.055  # Risk-free rate\n",
        "M0 = 90  # Number of time steps in a year - daily time steps 3 months = 90 days\n",
        "T = 0.25  # Number of years\n",
        "M = int(M0 * T)  # Total time steps\n",
        "Ite = 1000000  # Number of simulations\n",
        "dt = T / M  # Length of time step\n",
        "K = 95"
      ]
    },
    {
      "cell_type": "code",
      "execution_count": null,
      "metadata": {
        "id": "O3MHsnwORMrc",
        "cellView": "form"
      },
      "outputs": [],
      "source": [
        "#@title ##### Generating the stock price dynamic for the Heston Model\n",
        "\n",
        "### Generating random numbers from standard normal\n",
        "rand = random_number_gen(M, Ite)\n",
        "\n",
        "### Covariance Matrix\n",
        "covariance_matrix = np.zeros((2, 2), dtype=np.float64)\n",
        "covariance_matrix[0] = [1.0, rho]\n",
        "covariance_matrix[1] = [rho, 1.0]\n",
        "cho_matrix = np.linalg.cholesky(covariance_matrix)\n",
        "\n",
        "### Volatility process paths\n",
        "V = SDE_vol(v0, kappa_v, theta_v, sigma_v, T, M, Ite, rand, 1, cho_matrix)\n",
        "\n",
        "# Underlying price process paths\n",
        "S = Heston_paths(S0, r, V, 0, cho_matrix)"
      ]
    },
    {
      "cell_type": "code",
      "execution_count": null,
      "metadata": {
        "id": "5pxcY6mi3jl6",
        "cellView": "form"
      },
      "outputs": [],
      "source": [
        "# @title ##### Pricing an Up-and-In (UAI) barrier european call option using Heston Model\n",
        "def heston_call_uaimc(S, K, B, r, T, t):\n",
        "    max_prices = np.amax(S, axis=0) >= B\n",
        "    payoff = max_prices*np.maximum(0, S[-1, :] - K)\n",
        "\n",
        "    average = np.mean(payoff)\n",
        "\n",
        "    return np.exp(-r * (T - t)) * average\n",
        "\n",
        "#### Heston Model to price european call\n",
        "def heston_call_mc(S, K, r, T, t):\n",
        "    payoff = np.maximum(0, S[-1, :] - K)\n",
        "\n",
        "    average = np.mean(payoff)\n",
        "\n",
        "    return np.exp(-r * (T - t)) * average"
      ]
    },
    {
      "cell_type": "code",
      "execution_count": null,
      "metadata": {
        "colab": {
          "base_uri": "https://localhost:8080/"
        },
        "id": "CYbzmgGrmr1x",
        "outputId": "74bb9147-c212-4944-96e7-8ffedd242cac",
        "cellView": "form"
      },
      "outputs": [
        {
          "output_type": "stream",
          "name": "stdout",
          "text": [
            "European UAI Call Option Price with Heston Model stock price dyanmic and correlation equal to -0.70:  4.15\n",
            "European Call Option Price with Heston Model stock price dyanmic and correlation equal to -0.70:  4.15\n"
          ]
        }
      ],
      "source": [
        "#@title #\n",
        "uaicall = heston_call_uaimc(S, K, B, r, T, 0)\n",
        "print(\"European UAI Call Option Price with Heston Model stock price dyanmic and correlation equal to -0.70: \", round(uaicall, 2))\n",
        "\n",
        "hcall70_new = heston_call_mc(S, K, r, T, 0)\n",
        "print(\"European Call Option Price with Heston Model stock price dyanmic and correlation equal to -0.70: \", round(hcall70_new, 2))"
      ]
    },
    {
      "cell_type": "markdown",
      "metadata": {
        "id": "lcM9C9vnyI_7"
      },
      "source": [
        "In general, the european UAI call option and the vanilla european call option result in the same price given that they are ATM and there is a probability that the underlying price will be higher than the barrier at any given point until maturity, therefore activating the option contract (even if the simulated prices end below the pre-defined barrier level). In this sense, the option can be exercised at the maturity date. With this characteristic, they result in same price."
      ]
    },
    {
      "cell_type": "markdown",
      "metadata": {
        "id": "gVwtEr-t6Pa2"
      },
      "source": [
        "Q15. Merton Model to price an European Down-and-In (DAI) put option."
      ]
    },
    {
      "cell_type": "code",
      "execution_count": null,
      "metadata": {
        "id": "5lMsLnJpJyin",
        "cellView": "form"
      },
      "outputs": [],
      "source": [
        "#@title #\n",
        "B = 65\n",
        "K = 65\n",
        "\n",
        "S0 = 80\n",
        "r = 0.055\n",
        "sigma = 0.35\n",
        "T = 3/12\n",
        "t = 0\n",
        "N = 90\n",
        "M = 1000000\n",
        "dt = T/N\n",
        "\n",
        "mu = -0.5\n",
        "delta = 0.22"
      ]
    },
    {
      "cell_type": "code",
      "execution_count": null,
      "metadata": {
        "id": "RjoqmPJvRQ4f",
        "cellView": "form"
      },
      "outputs": [],
      "source": [
        "#@title #\n",
        "lamb = 0.75\n",
        "S_merton = merton_stock_price(S0, sigma, T, N, M, dt, lamb)"
      ]
    },
    {
      "cell_type": "code",
      "execution_count": null,
      "metadata": {
        "id": "5_AE8-yhO4hB",
        "cellView": "form"
      },
      "outputs": [],
      "source": [
        "#@title #### Functions to price simple European put option and a DAI European put option\n",
        "def get_put_price_european(S, K):\n",
        "    put_payoff = np.maximum(K-S[-1, :], 0)\n",
        "    put_price = np.mean(put_payoff)\n",
        "    put_price = np.exp(-r * (T - t)) * put_price\n",
        "    return put_price\n",
        "\n",
        "def get_put_price_european_DAI(S, K, B):\n",
        "    put_price_expiration = S[-1, :]\n",
        "    put_price_expiration[put_price_expiration < B] = 0\n",
        "    put_payoff = np.maximum(K-put_price_expiration, 0)\n",
        "    put_payoff = np.mean(put_payoff)\n",
        "    put_price = np.exp(-r * (T - t)) * put_payoff\n",
        "    return put_price"
      ]
    },
    {
      "cell_type": "code",
      "execution_count": null,
      "metadata": {
        "colab": {
          "base_uri": "https://localhost:8080/"
        },
        "id": "WiGX4DRRJyxQ",
        "outputId": "3d286a17-7416-4ce6-8436-2759fd35aae1",
        "cellView": "form"
      },
      "outputs": [
        {
          "output_type": "stream",
          "name": "stdout",
          "text": [
            "Simple European put price: $3.53\n",
            "DAI European put price: $15.78\n"
          ]
        }
      ],
      "source": [
        "#@title #### Simple and DAI European put price\n",
        "simple_put_price = get_put_price_european(S_merton, K)\n",
        "simple_put_price = round(simple_put_price, 2)\n",
        "print(f'Simple European put price: ${simple_put_price}')\n",
        "\n",
        "dai_european_put_price = get_put_price_european_DAI(S_merton, K, B)\n",
        "dai_european_put_price = round(dai_european_put_price, 2)\n",
        "print(f'DAI European put price: ${dai_european_put_price}')\n"
      ]
    },
    {
      "cell_type": "code",
      "execution_count": null,
      "metadata": {
        "id": "bkScL6rRPIep",
        "cellView": "form"
      },
      "outputs": [],
      "source": [
        "#@title ###### Additional test using input data from Q9.\n",
        "lamb = 0.25\n",
        "S_merton = merton_stock_price(S0, sigma, T, N, M, dt, lamb)"
      ]
    },
    {
      "cell_type": "code",
      "execution_count": null,
      "metadata": {
        "colab": {
          "base_uri": "https://localhost:8080/"
        },
        "id": "xk3pVWJmPHUM",
        "outputId": "3110d727-45ff-421e-9116-04be9e9cae38",
        "cellView": "form"
      },
      "outputs": [
        {
          "output_type": "stream",
          "name": "stdout",
          "text": [
            "Simple European put price: $1.57\n",
            "DAI European put price: $10.5\n"
          ]
        }
      ],
      "source": [
        "#@title #### Simple and DAI European put price\n",
        "simple_put_price = get_put_price_european(S_merton, K)\n",
        "simple_put_price = round(simple_put_price, 2)\n",
        "print(f'Simple European put price: ${simple_put_price}')\n",
        "\n",
        "dai_european_put_price = get_put_price_european_DAI(S_merton, K, B)\n",
        "dai_european_put_price = round(dai_european_put_price, 2)\n",
        "print(f'DAI European put price: ${dai_european_put_price}')\n"
      ]
    },
    {
      "cell_type": "markdown",
      "metadata": {
        "id": "aFga3n3SV-sL"
      },
      "source": [
        "For the lambda value of 0.75 and a given simulation, the price of of the DAI European put options are \\$11.8 and for a simple European put option is \\$2.77. The reason why the DAI put option is much more expensive is that the payoff kicks-in is only valid above the barrier level, thus limiting payoff and the stock price dynamic to stay withing the barrier level and the stock price at option writing. The simple put option is cheaper because the variability of the stock price is broader than the DAI option.\n",
        "\n",
        "The same works for a lower lambda in the Jump process and pricing the DAI put option. The price of the DAI option is more expensive than a simple European option."
      ]
    }
  ],
  "metadata": {
    "colab": {
      "provenance": [],
      "include_colab_link": true
    },
    "kernelspec": {
      "display_name": "Python 3",
      "name": "python3"
    },
    "language_info": {
      "name": "python"
    }
  },
  "nbformat": 4,
  "nbformat_minor": 0
}