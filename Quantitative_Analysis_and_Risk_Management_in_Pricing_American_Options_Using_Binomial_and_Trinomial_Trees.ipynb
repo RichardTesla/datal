{
  "cells": [
    {
      "cell_type": "markdown",
      "metadata": {
        "id": "view-in-github",
        "colab_type": "text"
      },
      "source": [
        "<a href=\"https://colab.research.google.com/github/RichardTesla/datal/blob/main/Quantitative_Analysis_and_Risk_Management_in_Pricing_American_Options_Using_Binomial_and_Trinomial_Trees.ipynb\" target=\"_parent\"><img src=\"https://colab.research.google.com/assets/colab-badge.svg\" alt=\"Open In Colab\"/></a>"
      ]
    },
    {
      "cell_type": "markdown",
      "metadata": {
        "id": "g4r3235EyBzi"
      },
      "source": [
        "# Group Work Project"
      ]
    },
    {
      "cell_type": "markdown",
      "metadata": {
        "id": "KCw5UYIXxdu-"
      },
      "source": [
        "|  |  |\n",
        "|:---|:---|\n",
        "|**Name** |  Carolina Magda Roma, Siddeshkanth Logonathan, Chizaram Onukwufor  |\n",
        "|**Prior Knowledge** |Derivative pricing, put-call parity, binomial tree, Python    |\n",
        "|**Keywords** |Put option, call option, european x american options, put-call parity, binomial tree  |\n"
      ]
    },
    {
      "cell_type": "markdown",
      "metadata": {
        "id": "P3lnV1ARyLrh"
      },
      "source": [
        "# **Step 1**\n",
        "\n"
      ]
    },
    {
      "cell_type": "markdown",
      "metadata": {
        "id": "gGZ9R2RW55xu"
      },
      "source": [
        "Q5.\n",
        "\n",
        "a) We are using 200 steps (*N* = 200) in the binomial tree. This number of step was chosen by taking into account the convergence of the option price to different values of this variable, as shown in the plot below. Overall, we applied this procedure in order to get reliable estimates."
      ]
    },
    {
      "cell_type": "code",
      "execution_count": null,
      "metadata": {
        "id": "KYnza46GcBlG"
      },
      "outputs": [],
      "source": [
        "import numpy as np\n",
        "import matplotlib.pyplot as plt"
      ]
    },
    {
      "cell_type": "code",
      "execution_count": null,
      "metadata": {
        "id": "oLZI0S5F2Fe5"
      },
      "outputs": [],
      "source": [
        "def european_option(S_ini, K, T, r, sigma, N, opttype):\n",
        "    dt = T / N  # Define time step\n",
        "    u = np.exp(sigma * np.sqrt(dt))  # Define u\n",
        "    d = np.exp(-sigma * np.sqrt(dt))  # Define d\n",
        "    p = (np.exp(r * dt) - d) / (u - d)  # risk neutral probs\n",
        "    C = np.zeros([N + 1, N + 1])  # call prices\n",
        "    S = np.zeros([N + 1, N + 1])  # underlying price\n",
        "    Delta = np.zeros([N, N])  # delta\n",
        "\n",
        "    for i in range(0, N + 1):\n",
        "        S[N, i] = S_ini * (u ** (i)) * (d ** (N - i))\n",
        "        if opttype == \"C\":\n",
        "            C[N, i] = max(S[N, i] - K, 0)\n",
        "        else:\n",
        "            C[N, i] = max(K - S[N, i], 0)\n",
        "\n",
        "    for j in range(N - 1, -1, -1):\n",
        "        for i in range(0, j + 1):\n",
        "            C[j, i] = np.exp(-r * dt) * (\n",
        "                p * C[j + 1, i + 1] + (1 - p) * C[j + 1, i]\n",
        "            )  # Computing the European option prices\n",
        "            S[j, i] = (\n",
        "                S_ini * (u ** (i)) * (d ** (j - i))\n",
        "            )  # Underlying evolution for each node\n",
        "\n",
        "            Delta[j, i] = (C[j + 1, i + 1] - C[j + 1, i]) / (\n",
        "                S[j + 1, i + 1] - S[j + 1, i]\n",
        "            )  # Computing the delta for each node\n",
        "\n",
        "    return C[0, 0], C, S, Delta"
      ]
    },
    {
      "cell_type": "code",
      "execution_count": null,
      "metadata": {
        "colab": {
          "base_uri": "https://localhost:8080/"
        },
        "id": "MqjN9RkKJsqY",
        "outputId": "ef5b4e90-8503-485b-87db-d29809176a41"
      },
      "outputs": [
        {
          "output_type": "stream",
          "name": "stdout",
          "text": [
            "With N =   1, the price is 5.585917826057516\n",
            "With N =  10, the price is 4.516558500901181\n",
            "With N = 100, the price is 4.605026109484905\n",
            "With N = 200, the price is 4.610008441655390\n",
            "With N = 300, the price is 4.611670637189978\n",
            "With N = 400, the price is 4.612501998431896\n",
            "With N = 500, the price is 4.613000899184725\n",
            "With N = 600, the price is 4.613333534609624\n",
            "With N = 700, the price is 4.613571148432157\n",
            "With N = 800, the price is 4.613749368128763\n",
            "With N = 900, the price is 4.613887988987072\n",
            "With N = 1000, the price is 4.613998889138544\n"
          ]
        }
      ],
      "source": [
        "# Checking out the number of steps european call:\n",
        "price_array = []\n",
        "for N in [1, 10, 100, 200, 300, 400, 500, 600, 700, 800, 900, 1000]:\n",
        "    call_price, C, S_C, delta_C = european_option(100, 100, 0.25, 0.05, 0.20, N, \"C\")\n",
        "    price_array.append(call_price)\n",
        "    print(\"With N = {:3d}, the price is {:.015f}\".format(N, call_price))"
      ]
    },
    {
      "cell_type": "code",
      "execution_count": null,
      "metadata": {
        "colab": {
          "base_uri": "https://localhost:8080/",
          "height": 472
        },
        "id": "TWMW4daQK2PH",
        "outputId": "cdfc815d-181c-4d76-a3f2-1cc04487abfd"
      },
      "outputs": [
        {
          "output_type": "display_data",
          "data": {
            "text/plain": [
              "<Figure size 640x480 with 1 Axes>"
            ],
            "image/png": "[encoded data removed]"
          },
          "metadata": {}
        }
      ],
      "source": [
        "import matplotlib.pyplot as plt\n",
        "\n",
        "N = [1, 10, 100, 200, 300, 400, 500, 600, 700, 800, 900, 1000]\n",
        "plt.plot(N, np.array(price_array))\n",
        "plt.title(\"Convergency with steps - European Call\")\n",
        "plt.xlabel(\"Number of steps (N)\")\n",
        "plt.ylabel(\"Call Option Price\")\n",
        "plt.grid(True)\n",
        "plt.show()"
      ]
    },
    {
      "cell_type": "code",
      "execution_count": null,
      "metadata": {
        "colab": {
          "base_uri": "https://localhost:8080/"
        },
        "id": "5MCRnbiuYXX7",
        "outputId": "79d7871d-4d1e-4d92-b1ce-b9da324735b3"
      },
      "outputs": [
        {
          "output_type": "stream",
          "name": "stdout",
          "text": [
            "With N =   1, the price is 4.343697875445660\n",
            "With N =  10, the price is 3.274338550289259\n",
            "With N = 100, the price is 3.362806158874057\n",
            "With N = 200, the price is 3.367788491043240\n",
            "With N = 300, the price is 3.369450686576418\n",
            "With N = 400, the price is 3.370282047824417\n",
            "With N = 500, the price is 3.370780948571449\n",
            "With N = 600, the price is 3.371113584002314\n",
            "With N = 700, the price is 3.371351197820476\n",
            "With N = 800, the price is 3.371529417522917\n",
            "With N = 900, the price is 3.371668038366516\n",
            "With N = 1000, the price is 3.371778938533796\n"
          ]
        }
      ],
      "source": [
        "# Checking out the number of steps european put:\n",
        "price_array = []\n",
        "for N in [1, 10, 100, 200, 300, 400, 500, 600, 700, 800, 900, 1000]:\n",
        "    put_price, C, S_P, delta_P = european_option(100, 100, 0.25, 0.05, 0.20, N, \"P\")\n",
        "    price_array.append(put_price)\n",
        "    print(\"With N = {:3d}, the price is {:.015f}\".format(N, put_price))"
      ]
    },
    {
      "cell_type": "code",
      "execution_count": null,
      "metadata": {
        "colab": {
          "base_uri": "https://localhost:8080/",
          "height": 472
        },
        "id": "_c_GOv6EYhtq",
        "outputId": "dd17dd11-e2d8-48fb-ada8-450c94c53ad4"
      },
      "outputs": [
        {
          "output_type": "display_data",
          "data": {
            "text/plain": [
              "<Figure size 640x480 with 1 Axes>"
            ],
            "image/png": "[encoded data removed]"
          },
          "metadata": {}
        }
      ],
      "source": [
        "N = [1, 10, 100, 200, 300, 400, 500, 600, 700, 800, 900, 1000]\n",
        "plt.plot(N, np.array(price_array))\n",
        "plt.title(\"Convergency with steps - European Put\")\n",
        "plt.xlabel(\"Number of steps (N)\")\n",
        "plt.ylabel(\"Put Option Price\")\n",
        "plt.grid(True)\n",
        "plt.show()"
      ]
    },
    {
      "cell_type": "code",
      "execution_count": null,
      "metadata": {
        "colab": {
          "base_uri": "https://localhost:8080/"
        },
        "id": "Z6Jxmw3W2ytU",
        "outputId": "dd0fc2bb-b58c-4e67-afaf-b85a23d2ebb2"
      },
      "outputs": [
        {
          "output_type": "execute_result",
          "data": {
            "text/plain": [
              "4.61000844165539"
            ]
          },
          "metadata": {},
          "execution_count": 9
        }
      ],
      "source": [
        "# Pricing and ATM european call:\n",
        "call_price, C, S_C, delta_C = european_option(100, 100, 0.25, 0.05, 0.20, 200, \"C\")\n",
        "call_price"
      ]
    },
    {
      "cell_type": "code",
      "execution_count": null,
      "metadata": {
        "colab": {
          "base_uri": "https://localhost:8080/"
        },
        "id": "snc2Bd7y3pOQ",
        "outputId": "70c341f8-8b8b-47ce-e467-fc7856e168c6"
      },
      "outputs": [
        {
          "output_type": "execute_result",
          "data": {
            "text/plain": [
              "3.3677884910432403"
            ]
          },
          "metadata": {},
          "execution_count": 10
        }
      ],
      "source": [
        "# Pricing and ATM european put:\n",
        "put_price, P, S_P, delta_P = european_option(100, 100, 0.25, 0.05, 0.20, 200, \"P\")\n",
        "put_price"
      ]
    },
    {
      "cell_type": "code",
      "execution_count": null,
      "metadata": {
        "colab": {
          "base_uri": "https://localhost:8080/"
        },
        "id": "Vxr_cKOH41e7",
        "outputId": "6fbfc4f8-1ec0-4382-a026-eeaea4d8e5d2"
      },
      "outputs": [
        {
          "output_type": "execute_result",
          "data": {
            "text/plain": [
              "True"
            ]
          },
          "metadata": {},
          "execution_count": 11
        }
      ],
      "source": [
        "# Validation: Put-call parity\n",
        "round(call_price + 100 * np.exp(-0.05 * 0.25), 2) == round(S_C[0, 0] + put_price, 2)"
      ]
    },
    {
      "cell_type": "markdown",
      "metadata": {
        "id": "_fYDw_0N6Ksl"
      },
      "source": [
        "b.\n",
        "The overall process is: the binomial tree helps to estimate the option price. In this sense, we consider risk-neutral probabilities that the price will go up or down from a given starting point. If the price goes up, it will be initial price (S0) times u, where u is the positive increment in the price; on the other hand, if it goes down, the price will be S0 times d, where d is the negative increment (reduction) in the price. With the binomial tree, we also need to match the volatility of the underlying asset when computing u and d, and it is also important to check the appropriate number of steps to use in the tree, which can be done by the procedure conducted above, i.e, by verifying the option price convergence as we change the number of steps. It is possible to see from this current question that the option price is in a constant range (almost $4.6$ and $3.4$, for european call and put, respectively) when N is around 200 steps or more. Then, we chose 200 steps.\n",
        "\n",
        "\n",
        "At each step, we will have the price for the up and down filtration and we can obtain the payoff of the stock price. For an european call option, the payoff is the maximum(stock price - K, 0), where K refers to the strike price. For an european put option, the payoff is the maximum(K - stock price, 0). We obtain the payoff for the last step and from that point we calculate its discounted value (the present value at the previous path) and we do this procedure until we reach at the starting point in order to obtain the option price. From the binomial tree we can also estimate the delta hedging position, which reflects the option price sensitivity to the changes in the underlying stock price. Delta tells us how we should protect our position by buying or selling the underlying stock and it is computed in a given path-node by the difference in payoff which would be obtained when the price goes up and down divided by the difference in the prices of the underlying stock (up and down), considering the corresponding next path-nodes. Therefore, we look at the possible behavior at time t+1 to delta hedge in t."
      ]
    },
    {
      "cell_type": "markdown",
      "metadata": {
        "id": "VYZJjOg26YDN"
      },
      "source": [
        "Q6.\n"
      ]
    },
    {
      "cell_type": "code",
      "execution_count": null,
      "metadata": {
        "colab": {
          "base_uri": "https://localhost:8080/"
        },
        "id": "l4idfLc86Xf2",
        "outputId": "de15619c-ec76-45de-cc8f-861b5a63e761"
      },
      "outputs": [
        {
          "output_type": "execute_result",
          "data": {
            "text/plain": [
              "array([[0.5693749 , 0.        , 0.        , ..., 0.        , 0.        ,\n",
              "        0.        ],\n",
              "       [0.54113999, 0.59691959, 0.        , ..., 0.        , 0.        ,\n",
              "        0.        ],\n",
              "       [0.51255133, 0.56902979, 0.62412761, ..., 0.        , 0.        ,\n",
              "        0.        ],\n",
              "       ...,\n",
              "       [0.        , 0.        , 0.        , ..., 1.        , 0.        ,\n",
              "        0.        ],\n",
              "       [0.        , 0.        , 0.        , ..., 1.        , 1.        ,\n",
              "        0.        ],\n",
              "       [0.        , 0.        , 0.        , ..., 1.        , 1.        ,\n",
              "        1.        ]])"
            ]
          },
          "metadata": {},
          "execution_count": 12
        }
      ],
      "source": [
        "# Delta for european call option:\n",
        "# S_ini, K, T, r, sigma, N, opttype\n",
        "call_price, C, S_C, delta_C = european_option(100, 100, 0.25, 0.05, 0.20, 200, \"C\")\n",
        "delta_C"
      ]
    },
    {
      "cell_type": "code",
      "execution_count": null,
      "metadata": {
        "colab": {
          "base_uri": "https://localhost:8080/",
          "height": 424
        },
        "id": "s2w_zP_kWaoy",
        "outputId": "c77e9fa7-9898-40dd-be33-eca9a5b30dc0"
      },
      "outputs": [
        {
          "output_type": "execute_result",
          "data": {
            "text/plain": [
              "          0         1         2         3         4    5    6    7    8    \\\n",
              "0    0.569375  0.000000  0.000000  0.000000  0.000000  0.0  0.0  0.0  0.0   \n",
              "1    0.541140  0.596920  0.000000  0.000000  0.000000  0.0  0.0  0.0  0.0   \n",
              "2    0.512551  0.569030  0.624128  0.000000  0.000000  0.0  0.0  0.0  0.0   \n",
              "3    0.483751  0.540647  0.596719  0.650867  0.000000  0.0  0.0  0.0  0.0   \n",
              "4    0.454888  0.511909  0.568683  0.624069  0.677009  0.0  0.0  0.0  0.0   \n",
              "..        ...       ...       ...       ...       ...  ...  ...  ...  ...   \n",
              "195  0.000000  0.000000  0.000000  0.000000  0.000000  0.0  0.0  0.0  0.0   \n",
              "196  0.000000  0.000000  0.000000  0.000000  0.000000  0.0  0.0  0.0  0.0   \n",
              "197  0.000000  0.000000  0.000000  0.000000  0.000000  0.0  0.0  0.0  0.0   \n",
              "198  0.000000  0.000000  0.000000  0.000000  0.000000  0.0  0.0  0.0  0.0   \n",
              "199  0.000000  0.000000  0.000000  0.000000  0.000000  0.0  0.0  0.0  0.0   \n",
              "\n",
              "     9    ...  190  191  192  193  194  195  196  197  198  199  \n",
              "0    0.0  ...  0.0  0.0  0.0  0.0  0.0  0.0  0.0  0.0  0.0  0.0  \n",
              "1    0.0  ...  0.0  0.0  0.0  0.0  0.0  0.0  0.0  0.0  0.0  0.0  \n",
              "2    0.0  ...  0.0  0.0  0.0  0.0  0.0  0.0  0.0  0.0  0.0  0.0  \n",
              "3    0.0  ...  0.0  0.0  0.0  0.0  0.0  0.0  0.0  0.0  0.0  0.0  \n",
              "4    0.0  ...  0.0  0.0  0.0  0.0  0.0  0.0  0.0  0.0  0.0  0.0  \n",
              "..   ...  ...  ...  ...  ...  ...  ...  ...  ...  ...  ...  ...  \n",
              "195  0.0  ...  1.0  1.0  1.0  1.0  1.0  1.0  0.0  0.0  0.0  0.0  \n",
              "196  0.0  ...  1.0  1.0  1.0  1.0  1.0  1.0  1.0  0.0  0.0  0.0  \n",
              "197  0.0  ...  1.0  1.0  1.0  1.0  1.0  1.0  1.0  1.0  0.0  0.0  \n",
              "198  0.0  ...  1.0  1.0  1.0  1.0  1.0  1.0  1.0  1.0  1.0  0.0  \n",
              "199  0.0  ...  1.0  1.0  1.0  1.0  1.0  1.0  1.0  1.0  1.0  1.0  \n",
              "\n",
              "[200 rows x 200 columns]"
            ],
            "text/html": [
              "\n",
              "  <div id=\"df-56be91af-b67e-46be-a620-d8c633ec209e\">\n",
              "    <div class=\"colab-df-container\">\n",
              "      <div>\n",
              "<style scoped>\n",
              "    .dataframe tbody tr th:only-of-type {\n",
              "        vertical-align: middle;\n",
              "    }\n",
              "\n",
              "    .dataframe tbody tr th {\n",
              "        vertical-align: top;\n",
              "    }\n",
              "\n",
              "    .dataframe thead th {\n",
              "        text-align: right;\n",
              "    }\n",
              "</style>\n",
              "<table border=\"1\" class=\"dataframe\">\n",
              "  <thead>\n",
              "    <tr style=\"text-align: right;\">\n",
              "      <th></th>\n",
              "      <th>0</th>\n",
              "      <th>1</th>\n",
              "      <th>2</th>\n",
              "      <th>3</th>\n",
              "      <th>4</th>\n",
              "      <th>5</th>\n",
              "      <th>6</th>\n",
              "      <th>7</th>\n",
              "      <th>8</th>\n",
              "      <th>9</th>\n",
              "      <th>...</th>\n",
              "      <th>190</th>\n",
              "      <th>191</th>\n",
              "      <th>192</th>\n",
              "      <th>193</th>\n",
              "      <th>194</th>\n",
              "      <th>195</th>\n",
              "      <th>196</th>\n",
              "      <th>197</th>\n",
              "      <th>198</th>\n",
              "      <th>199</th>\n",
              "    </tr>\n",
              "  </thead>\n",
              "  <tbody>\n",
              "    <tr>\n",
              "      <th>0</th>\n",
              "      <td>0.569375</td>\n",
              "      <td>0.000000</td>\n",
              "      <td>0.000000</td>\n",
              "      <td>0.000000</td>\n",
              "      <td>0.000000</td>\n",
              "      <td>0.0</td>\n",
              "      <td>0.0</td>\n",
              "      <td>0.0</td>\n",
              "      <td>0.0</td>\n",
              "      <td>0.0</td>\n",
              "      <td>...</td>\n",
              "      <td>0.0</td>\n",
              "      <td>0.0</td>\n",
              "      <td>0.0</td>\n",
              "      <td>0.0</td>\n",
              "      <td>0.0</td>\n",
              "      <td>0.0</td>\n",
              "      <td>0.0</td>\n",
              "      <td>0.0</td>\n",
              "      <td>0.0</td>\n",
              "      <td>0.0</td>\n",
              "    </tr>\n",
              "    <tr>\n",
              "      <th>1</th>\n",
              "      <td>0.541140</td>\n",
              "      <td>0.596920</td>\n",
              "      <td>0.000000</td>\n",
              "      <td>0.000000</td>\n",
              "      <td>0.000000</td>\n",
              "      <td>0.0</td>\n",
              "      <td>0.0</td>\n",
              "      <td>0.0</td>\n",
              "      <td>0.0</td>\n",
              "      <td>0.0</td>\n",
              "      <td>...</td>\n",
              "      <td>0.0</td>\n",
              "      <td>0.0</td>\n",
              "      <td>0.0</td>\n",
              "      <td>0.0</td>\n",
              "      <td>0.0</td>\n",
              "      <td>0.0</td>\n",
              "      <td>0.0</td>\n",
              "      <td>0.0</td>\n",
              "      <td>0.0</td>\n",
              "      <td>0.0</td>\n",
              "    </tr>\n",
              "    <tr>\n",
              "      <th>2</th>\n",
              "      <td>0.512551</td>\n",
              "      <td>0.569030</td>\n",
              "      <td>0.624128</td>\n",
              "      <td>0.000000</td>\n",
              "      <td>0.000000</td>\n",
              "      <td>0.0</td>\n",
              "      <td>0.0</td>\n",
              "      <td>0.0</td>\n",
              "      <td>0.0</td>\n",
              "      <td>0.0</td>\n",
              "      <td>...</td>\n",
              "      <td>0.0</td>\n",
              "      <td>0.0</td>\n",
              "      <td>0.0</td>\n",
              "      <td>0.0</td>\n",
              "      <td>0.0</td>\n",
              "      <td>0.0</td>\n",
              "      <td>0.0</td>\n",
              "      <td>0.0</td>\n",
              "      <td>0.0</td>\n",
              "      <td>0.0</td>\n",
              "    </tr>\n",
              "    <tr>\n",
              "      <th>3</th>\n",
              "      <td>0.483751</td>\n",
              "      <td>0.540647</td>\n",
              "      <td>0.596719</td>\n",
              "      <td>0.650867</td>\n",
              "      <td>0.000000</td>\n",
              "      <td>0.0</td>\n",
              "      <td>0.0</td>\n",
              "      <td>0.0</td>\n",
              "      <td>0.0</td>\n",
              "      <td>0.0</td>\n",
              "      <td>...</td>\n",
              "      <td>0.0</td>\n",
              "      <td>0.0</td>\n",
              "      <td>0.0</td>\n",
              "      <td>0.0</td>\n",
              "      <td>0.0</td>\n",
              "      <td>0.0</td>\n",
              "      <td>0.0</td>\n",
              "      <td>0.0</td>\n",
              "      <td>0.0</td>\n",
              "      <td>0.0</td>\n",
              "    </tr>\n",
              "    <tr>\n",
              "      <th>4</th>\n",
              "      <td>0.454888</td>\n",
              "      <td>0.511909</td>\n",
              "      <td>0.568683</td>\n",
              "      <td>0.624069</td>\n",
              "      <td>0.677009</td>\n",
              "      <td>0.0</td>\n",
              "      <td>0.0</td>\n",
              "      <td>0.0</td>\n",
              "      <td>0.0</td>\n",
              "      <td>0.0</td>\n",
              "      <td>...</td>\n",
              "      <td>0.0</td>\n",
              "      <td>0.0</td>\n",
              "      <td>0.0</td>\n",
              "      <td>0.0</td>\n",
              "      <td>0.0</td>\n",
              "      <td>0.0</td>\n",
              "      <td>0.0</td>\n",
              "      <td>0.0</td>\n",
              "      <td>0.0</td>\n",
              "      <td>0.0</td>\n",
              "    </tr>\n",
              "    <tr>\n",
              "      <th>...</th>\n",
              "      <td>...</td>\n",
              "      <td>...</td>\n",
              "      <td>...</td>\n",
              "      <td>...</td>\n",
              "      <td>...</td>\n",
              "      <td>...</td>\n",
              "      <td>...</td>\n",
              "      <td>...</td>\n",
              "      <td>...</td>\n",
              "      <td>...</td>\n",
              "      <td>...</td>\n",
              "      <td>...</td>\n",
              "      <td>...</td>\n",
              "      <td>...</td>\n",
              "      <td>...</td>\n",
              "      <td>...</td>\n",
              "      <td>...</td>\n",
              "      <td>...</td>\n",
              "      <td>...</td>\n",
              "      <td>...</td>\n",
              "      <td>...</td>\n",
              "    </tr>\n",
              "    <tr>\n",
              "      <th>195</th>\n",
              "      <td>0.000000</td>\n",
              "      <td>0.000000</td>\n",
              "      <td>0.000000</td>\n",
              "      <td>0.000000</td>\n",
              "      <td>0.000000</td>\n",
              "      <td>0.0</td>\n",
              "      <td>0.0</td>\n",
              "      <td>0.0</td>\n",
              "      <td>0.0</td>\n",
              "      <td>0.0</td>\n",
              "      <td>...</td>\n",
              "      <td>1.0</td>\n",
              "      <td>1.0</td>\n",
              "      <td>1.0</td>\n",
              "      <td>1.0</td>\n",
              "      <td>1.0</td>\n",
              "      <td>1.0</td>\n",
              "      <td>0.0</td>\n",
              "      <td>0.0</td>\n",
              "      <td>0.0</td>\n",
              "      <td>0.0</td>\n",
              "    </tr>\n",
              "    <tr>\n",
              "      <th>196</th>\n",
              "      <td>0.000000</td>\n",
              "      <td>0.000000</td>\n",
              "      <td>0.000000</td>\n",
              "      <td>0.000000</td>\n",
              "      <td>0.000000</td>\n",
              "      <td>0.0</td>\n",
              "      <td>0.0</td>\n",
              "      <td>0.0</td>\n",
              "      <td>0.0</td>\n",
              "      <td>0.0</td>\n",
              "      <td>...</td>\n",
              "      <td>1.0</td>\n",
              "      <td>1.0</td>\n",
              "      <td>1.0</td>\n",
              "      <td>1.0</td>\n",
              "      <td>1.0</td>\n",
              "      <td>1.0</td>\n",
              "      <td>1.0</td>\n",
              "      <td>0.0</td>\n",
              "      <td>0.0</td>\n",
              "      <td>0.0</td>\n",
              "    </tr>\n",
              "    <tr>\n",
              "      <th>197</th>\n",
              "      <td>0.000000</td>\n",
              "      <td>0.000000</td>\n",
              "      <td>0.000000</td>\n",
              "      <td>0.000000</td>\n",
              "      <td>0.000000</td>\n",
              "      <td>0.0</td>\n",
              "      <td>0.0</td>\n",
              "      <td>0.0</td>\n",
              "      <td>0.0</td>\n",
              "      <td>0.0</td>\n",
              "      <td>...</td>\n",
              "      <td>1.0</td>\n",
              "      <td>1.0</td>\n",
              "      <td>1.0</td>\n",
              "      <td>1.0</td>\n",
              "      <td>1.0</td>\n",
              "      <td>1.0</td>\n",
              "      <td>1.0</td>\n",
              "      <td>1.0</td>\n",
              "      <td>0.0</td>\n",
              "      <td>0.0</td>\n",
              "    </tr>\n",
              "    <tr>\n",
              "      <th>198</th>\n",
              "      <td>0.000000</td>\n",
              "      <td>0.000000</td>\n",
              "      <td>0.000000</td>\n",
              "      <td>0.000000</td>\n",
              "      <td>0.000000</td>\n",
              "      <td>0.0</td>\n",
              "      <td>0.0</td>\n",
              "      <td>0.0</td>\n",
              "      <td>0.0</td>\n",
              "      <td>0.0</td>\n",
              "      <td>...</td>\n",
              "      <td>1.0</td>\n",
              "      <td>1.0</td>\n",
              "      <td>1.0</td>\n",
              "      <td>1.0</td>\n",
              "      <td>1.0</td>\n",
              "      <td>1.0</td>\n",
              "      <td>1.0</td>\n",
              "      <td>1.0</td>\n",
              "      <td>1.0</td>\n",
              "      <td>0.0</td>\n",
              "    </tr>\n",
              "    <tr>\n",
              "      <th>199</th>\n",
              "      <td>0.000000</td>\n",
              "      <td>0.000000</td>\n",
              "      <td>0.000000</td>\n",
              "      <td>0.000000</td>\n",
              "      <td>0.000000</td>\n",
              "      <td>0.0</td>\n",
              "      <td>0.0</td>\n",
              "      <td>0.0</td>\n",
              "      <td>0.0</td>\n",
              "      <td>0.0</td>\n",
              "      <td>...</td>\n",
              "      <td>1.0</td>\n",
              "      <td>1.0</td>\n",
              "      <td>1.0</td>\n",
              "      <td>1.0</td>\n",
              "      <td>1.0</td>\n",
              "      <td>1.0</td>\n",
              "      <td>1.0</td>\n",
              "      <td>1.0</td>\n",
              "      <td>1.0</td>\n",
              "      <td>1.0</td>\n",
              "    </tr>\n",
              "  </tbody>\n",
              "</table>\n",
              "<p>200 rows × 200 columns</p>\n",
              "</div>\n",
              "      <button class=\"colab-df-convert\" onclick=\"convertToInteractive('df-56be91af-b67e-46be-a620-d8c633ec209e')\"\n",
              "              title=\"Convert this dataframe to an interactive table.\"\n",
              "              style=\"display:none;\">\n",
              "        \n",
              "  <svg xmlns=\"http://www.w3.org/2000/svg\" height=\"24px\"viewBox=\"0 0 24 24\"\n",
              "       width=\"24px\">\n",
              "    <path d=\"M0 0h24v24H0V0z\" fill=\"none\"/>\n",
              "    <path d=\"M18.56 5.44l.94 2.06.94-2.06 2.06-.94-2.06-.94-.94-2.06-.94 2.06-2.06.94zm-11 1L8.5 8.5l.94-2.06 2.06-.94-2.06-.94L8.5 2.5l-.94 2.06-2.06.94zm10 10l.94 2.06.94-2.06 2.06-.94-2.06-.94-.94-2.06-.94 2.06-2.06.94z\"/><path d=\"M17.41 7.96l-1.37-1.37c-.4-.4-.92-.59-1.43-.59-.52 0-1.04.2-1.43.59L10.3 9.45l-7.72 7.72c-.78.78-.78 2.05 0 2.83L4 21.41c.39.39.9.59 1.41.59.51 0 1.02-.2 1.41-.59l7.78-7.78 2.81-2.81c.8-.78.8-2.07 0-2.86zM5.41 20L4 18.59l7.72-7.72 1.47 1.35L5.41 20z\"/>\n",
              "  </svg>\n",
              "      </button>\n",
              "      \n",
              "  <style>\n",
              "    .colab-df-container {\n",
              "      display:flex;\n",
              "      flex-wrap:wrap;\n",
              "      gap: 12px;\n",
              "    }\n",
              "\n",
              "    .colab-df-convert {\n",
              "      background-color: #E8F0FE;\n",
              "      border: none;\n",
              "      border-radius: 50%;\n",
              "      cursor: pointer;\n",
              "      display: none;\n",
              "      fill: #1967D2;\n",
              "      height: 32px;\n",
              "      padding: 0 0 0 0;\n",
              "      width: 32px;\n",
              "    }\n",
              "\n",
              "    .colab-df-convert:hover {\n",
              "      background-color: #E2EBFA;\n",
              "      box-shadow: 0px 1px 2px rgba(60, 64, 67, 0.3), 0px 1px 3px 1px rgba(60, 64, 67, 0.15);\n",
              "      fill: #174EA6;\n",
              "    }\n",
              "\n",
              "    [theme=dark] .colab-df-convert {\n",
              "      background-color: #3B4455;\n",
              "      fill: #D2E3FC;\n",
              "    }\n",
              "\n",
              "    [theme=dark] .colab-df-convert:hover {\n",
              "      background-color: #434B5C;\n",
              "      box-shadow: 0px 1px 3px 1px rgba(0, 0, 0, 0.15);\n",
              "      filter: drop-shadow(0px 1px 2px rgba(0, 0, 0, 0.3));\n",
              "      fill: #FFFFFF;\n",
              "    }\n",
              "  </style>\n",
              "\n",
              "      <script>\n",
              "        const buttonEl =\n",
              "          document.querySelector('#df-56be91af-b67e-46be-a620-d8c633ec209e button.colab-df-convert');\n",
              "        buttonEl.style.display =\n",
              "          google.colab.kernel.accessAllowed ? 'block' : 'none';\n",
              "\n",
              "        async function convertToInteractive(key) {\n",
              "          const element = document.querySelector('#df-56be91af-b67e-46be-a620-d8c633ec209e');\n",
              "          const dataTable =\n",
              "            await google.colab.kernel.invokeFunction('convertToInteractive',\n",
              "                                                     [key], {});\n",
              "          if (!dataTable) return;\n",
              "\n",
              "          const docLinkHtml = 'Like what you see? Visit the ' +\n",
              "            '<a target=\"_blank\" href=https://colab.research.google.com/notebooks/data_table.ipynb>data table notebook</a>'\n",
              "            + ' to learn more about interactive tables.';\n",
              "          element.innerHTML = '';\n",
              "          dataTable['output_type'] = 'display_data';\n",
              "          await google.colab.output.renderOutput(dataTable, element);\n",
              "          const docLink = document.createElement('div');\n",
              "          docLink.innerHTML = docLinkHtml;\n",
              "          element.appendChild(docLink);\n",
              "        }\n",
              "      </script>\n",
              "    </div>\n",
              "  </div>\n",
              "  "
            ]
          },
          "metadata": {},
          "execution_count": 13
        }
      ],
      "source": [
        "import pandas as pd\n",
        "pd.DataFrame(delta_C)"
      ]
    },
    {
      "cell_type": "code",
      "execution_count": null,
      "metadata": {
        "colab": {
          "base_uri": "https://localhost:8080/"
        },
        "id": "C29WujXM61g0",
        "outputId": "aac01e06-adcb-491c-ed0b-b560ca88bc9c"
      },
      "outputs": [
        {
          "output_type": "execute_result",
          "data": {
            "text/plain": [
              "0.5693748997113199"
            ]
          },
          "metadata": {},
          "execution_count": 14
        }
      ],
      "source": [
        "# At time zero delta for this option is:\n",
        "delta_C[0,0]"
      ]
    },
    {
      "cell_type": "code",
      "execution_count": null,
      "metadata": {
        "colab": {
          "base_uri": "https://localhost:8080/"
        },
        "id": "WIaMhBuE6Zcu",
        "outputId": "ecf427df-2660-49d8-9cfa-246ebd25eb93"
      },
      "outputs": [
        {
          "output_type": "execute_result",
          "data": {
            "text/plain": [
              "array([[-0.43081454,  0.        ,  0.        , ...,  0.        ,\n",
              "         0.        ,  0.        ],\n",
              "       [-0.48247218, -0.38140295,  0.        , ...,  0.        ,\n",
              "         0.        ,  0.        ],\n",
              "       [-0.5353039 , -0.43193756, -0.33306555, ...,  0.        ,\n",
              "         0.        ,  0.        ],\n",
              "       ...,\n",
              "       [-1.        , -1.        , -1.        , ...,  0.        ,\n",
              "         0.        ,  0.        ],\n",
              "       [-1.        , -1.        , -1.        , ...,  0.        ,\n",
              "         0.        ,  0.        ],\n",
              "       [-1.        , -1.        , -1.        , ...,  0.        ,\n",
              "         0.        ,  0.        ]])"
            ]
          },
          "metadata": {},
          "execution_count": 15
        }
      ],
      "source": [
        "# Delta for european put option:\n",
        "put_price, P, S_P, delta_P = european_option(100, 100, 0.25, 0.05, 0.20, 62, \"P\")\n",
        "delta_P"
      ]
    },
    {
      "cell_type": "code",
      "execution_count": null,
      "metadata": {
        "colab": {
          "base_uri": "https://localhost:8080/",
          "height": 424
        },
        "id": "FdwrC6UGWtvM",
        "outputId": "fda6b5c8-836f-4c39-dedb-79e11b9ff80c"
      },
      "outputs": [
        {
          "output_type": "execute_result",
          "data": {
            "text/plain": [
              "          0         1         2         3         4    5    6    7    8    9   \\\n",
              "0  -0.430815  0.000000  0.000000  0.000000  0.000000  0.0  0.0  0.0  0.0  0.0   \n",
              "1  -0.482472 -0.381403  0.000000  0.000000  0.000000  0.0  0.0  0.0  0.0  0.0   \n",
              "2  -0.535304 -0.431938 -0.333066  0.000000  0.000000  0.0  0.0  0.0  0.0  0.0   \n",
              "3  -0.588421 -0.484497 -0.381664 -0.286580  0.000000  0.0  0.0  0.0  0.0  0.0   \n",
              "4  -0.640871 -0.538250 -0.433080 -0.332483 -0.242674  0.0  0.0  0.0  0.0  0.0   \n",
              "..       ...       ...       ...       ...       ...  ...  ...  ...  ...  ...   \n",
              "57 -1.000000 -1.000000 -1.000000 -1.000000 -1.000000 -1.0 -1.0 -1.0 -1.0 -1.0   \n",
              "58 -1.000000 -1.000000 -1.000000 -1.000000 -1.000000 -1.0 -1.0 -1.0 -1.0 -1.0   \n",
              "59 -1.000000 -1.000000 -1.000000 -1.000000 -1.000000 -1.0 -1.0 -1.0 -1.0 -1.0   \n",
              "60 -1.000000 -1.000000 -1.000000 -1.000000 -1.000000 -1.0 -1.0 -1.0 -1.0 -1.0   \n",
              "61 -1.000000 -1.000000 -1.000000 -1.000000 -1.000000 -1.0 -1.0 -1.0 -1.0 -1.0   \n",
              "\n",
              "    ...   52   53   54   55   56   57   58   59   60   61  \n",
              "0   ...  0.0  0.0  0.0  0.0  0.0  0.0  0.0  0.0  0.0  0.0  \n",
              "1   ...  0.0  0.0  0.0  0.0  0.0  0.0  0.0  0.0  0.0  0.0  \n",
              "2   ...  0.0  0.0  0.0  0.0  0.0  0.0  0.0  0.0  0.0  0.0  \n",
              "3   ...  0.0  0.0  0.0  0.0  0.0  0.0  0.0  0.0  0.0  0.0  \n",
              "4   ...  0.0  0.0  0.0  0.0  0.0  0.0  0.0  0.0  0.0  0.0  \n",
              "..  ...  ...  ...  ...  ...  ...  ...  ...  ...  ...  ...  \n",
              "57  ...  0.0  0.0  0.0  0.0  0.0  0.0  0.0  0.0  0.0  0.0  \n",
              "58  ...  0.0  0.0  0.0  0.0  0.0  0.0  0.0  0.0  0.0  0.0  \n",
              "59  ...  0.0  0.0  0.0  0.0  0.0  0.0  0.0  0.0  0.0  0.0  \n",
              "60  ...  0.0  0.0  0.0  0.0  0.0  0.0  0.0  0.0  0.0  0.0  \n",
              "61  ...  0.0  0.0  0.0  0.0  0.0  0.0  0.0  0.0  0.0  0.0  \n",
              "\n",
              "[62 rows x 62 columns]"
            ],
            "text/html": [
              "\n",
              "  <div id=\"df-437237ab-2419-4032-977f-ec9343e5fa8e\">\n",
              "    <div class=\"colab-df-container\">\n",
              "      <div>\n",
              "<style scoped>\n",
              "    .dataframe tbody tr th:only-of-type {\n",
              "        vertical-align: middle;\n",
              "    }\n",
              "\n",
              "    .dataframe tbody tr th {\n",
              "        vertical-align: top;\n",
              "    }\n",
              "\n",
              "    .dataframe thead th {\n",
              "        text-align: right;\n",
              "    }\n",
              "</style>\n",
              "<table border=\"1\" class=\"dataframe\">\n",
              "  <thead>\n",
              "    <tr style=\"text-align: right;\">\n",
              "      <th></th>\n",
              "      <th>0</th>\n",
              "      <th>1</th>\n",
              "      <th>2</th>\n",
              "      <th>3</th>\n",
              "      <th>4</th>\n",
              "      <th>5</th>\n",
              "      <th>6</th>\n",
              "      <th>7</th>\n",
              "      <th>8</th>\n",
              "      <th>9</th>\n",
              "      <th>...</th>\n",
              "      <th>52</th>\n",
              "      <th>53</th>\n",
              "      <th>54</th>\n",
              "      <th>55</th>\n",
              "      <th>56</th>\n",
              "      <th>57</th>\n",
              "      <th>58</th>\n",
              "      <th>59</th>\n",
              "      <th>60</th>\n",
              "      <th>61</th>\n",
              "    </tr>\n",
              "  </thead>\n",
              "  <tbody>\n",
              "    <tr>\n",
              "      <th>0</th>\n",
              "      <td>-0.430815</td>\n",
              "      <td>0.000000</td>\n",
              "      <td>0.000000</td>\n",
              "      <td>0.000000</td>\n",
              "      <td>0.000000</td>\n",
              "      <td>0.0</td>\n",
              "      <td>0.0</td>\n",
              "      <td>0.0</td>\n",
              "      <td>0.0</td>\n",
              "      <td>0.0</td>\n",
              "      <td>...</td>\n",
              "      <td>0.0</td>\n",
              "      <td>0.0</td>\n",
              "      <td>0.0</td>\n",
              "      <td>0.0</td>\n",
              "      <td>0.0</td>\n",
              "      <td>0.0</td>\n",
              "      <td>0.0</td>\n",
              "      <td>0.0</td>\n",
              "      <td>0.0</td>\n",
              "      <td>0.0</td>\n",
              "    </tr>\n",
              "    <tr>\n",
              "      <th>1</th>\n",
              "      <td>-0.482472</td>\n",
              "      <td>-0.381403</td>\n",
              "      <td>0.000000</td>\n",
              "      <td>0.000000</td>\n",
              "      <td>0.000000</td>\n",
              "      <td>0.0</td>\n",
              "      <td>0.0</td>\n",
              "      <td>0.0</td>\n",
              "      <td>0.0</td>\n",
              "      <td>0.0</td>\n",
              "      <td>...</td>\n",
              "      <td>0.0</td>\n",
              "      <td>0.0</td>\n",
              "      <td>0.0</td>\n",
              "      <td>0.0</td>\n",
              "      <td>0.0</td>\n",
              "      <td>0.0</td>\n",
              "      <td>0.0</td>\n",
              "      <td>0.0</td>\n",
              "      <td>0.0</td>\n",
              "      <td>0.0</td>\n",
              "    </tr>\n",
              "    <tr>\n",
              "      <th>2</th>\n",
              "      <td>-0.535304</td>\n",
              "      <td>-0.431938</td>\n",
              "      <td>-0.333066</td>\n",
              "      <td>0.000000</td>\n",
              "      <td>0.000000</td>\n",
              "      <td>0.0</td>\n",
              "      <td>0.0</td>\n",
              "      <td>0.0</td>\n",
              "      <td>0.0</td>\n",
              "      <td>0.0</td>\n",
              "      <td>...</td>\n",
              "      <td>0.0</td>\n",
              "      <td>0.0</td>\n",
              "      <td>0.0</td>\n",
              "      <td>0.0</td>\n",
              "      <td>0.0</td>\n",
              "      <td>0.0</td>\n",
              "      <td>0.0</td>\n",
              "      <td>0.0</td>\n",
              "      <td>0.0</td>\n",
              "      <td>0.0</td>\n",
              "    </tr>\n",
              "    <tr>\n",
              "      <th>3</th>\n",
              "      <td>-0.588421</td>\n",
              "      <td>-0.484497</td>\n",
              "      <td>-0.381664</td>\n",
              "      <td>-0.286580</td>\n",
              "      <td>0.000000</td>\n",
              "      <td>0.0</td>\n",
              "      <td>0.0</td>\n",
              "      <td>0.0</td>\n",
              "      <td>0.0</td>\n",
              "      <td>0.0</td>\n",
              "      <td>...</td>\n",
              "      <td>0.0</td>\n",
              "      <td>0.0</td>\n",
              "      <td>0.0</td>\n",
              "      <td>0.0</td>\n",
              "      <td>0.0</td>\n",
              "      <td>0.0</td>\n",
              "      <td>0.0</td>\n",
              "      <td>0.0</td>\n",
              "      <td>0.0</td>\n",
              "      <td>0.0</td>\n",
              "    </tr>\n",
              "    <tr>\n",
              "      <th>4</th>\n",
              "      <td>-0.640871</td>\n",
              "      <td>-0.538250</td>\n",
              "      <td>-0.433080</td>\n",
              "      <td>-0.332483</td>\n",
              "      <td>-0.242674</td>\n",
              "      <td>0.0</td>\n",
              "      <td>0.0</td>\n",
              "      <td>0.0</td>\n",
              "      <td>0.0</td>\n",
              "      <td>0.0</td>\n",
              "      <td>...</td>\n",
              "      <td>0.0</td>\n",
              "      <td>0.0</td>\n",
              "      <td>0.0</td>\n",
              "      <td>0.0</td>\n",
              "      <td>0.0</td>\n",
              "      <td>0.0</td>\n",
              "      <td>0.0</td>\n",
              "      <td>0.0</td>\n",
              "      <td>0.0</td>\n",
              "      <td>0.0</td>\n",
              "    </tr>\n",
              "    <tr>\n",
              "      <th>...</th>\n",
              "      <td>...</td>\n",
              "      <td>...</td>\n",
              "      <td>...</td>\n",
              "      <td>...</td>\n",
              "      <td>...</td>\n",
              "      <td>...</td>\n",
              "      <td>...</td>\n",
              "      <td>...</td>\n",
              "      <td>...</td>\n",
              "      <td>...</td>\n",
              "      <td>...</td>\n",
              "      <td>...</td>\n",
              "      <td>...</td>\n",
              "      <td>...</td>\n",
              "      <td>...</td>\n",
              "      <td>...</td>\n",
              "      <td>...</td>\n",
              "      <td>...</td>\n",
              "      <td>...</td>\n",
              "      <td>...</td>\n",
              "      <td>...</td>\n",
              "    </tr>\n",
              "    <tr>\n",
              "      <th>57</th>\n",
              "      <td>-1.000000</td>\n",
              "      <td>-1.000000</td>\n",
              "      <td>-1.000000</td>\n",
              "      <td>-1.000000</td>\n",
              "      <td>-1.000000</td>\n",
              "      <td>-1.0</td>\n",
              "      <td>-1.0</td>\n",
              "      <td>-1.0</td>\n",
              "      <td>-1.0</td>\n",
              "      <td>-1.0</td>\n",
              "      <td>...</td>\n",
              "      <td>0.0</td>\n",
              "      <td>0.0</td>\n",
              "      <td>0.0</td>\n",
              "      <td>0.0</td>\n",
              "      <td>0.0</td>\n",
              "      <td>0.0</td>\n",
              "      <td>0.0</td>\n",
              "      <td>0.0</td>\n",
              "      <td>0.0</td>\n",
              "      <td>0.0</td>\n",
              "    </tr>\n",
              "    <tr>\n",
              "      <th>58</th>\n",
              "      <td>-1.000000</td>\n",
              "      <td>-1.000000</td>\n",
              "      <td>-1.000000</td>\n",
              "      <td>-1.000000</td>\n",
              "      <td>-1.000000</td>\n",
              "      <td>-1.0</td>\n",
              "      <td>-1.0</td>\n",
              "      <td>-1.0</td>\n",
              "      <td>-1.0</td>\n",
              "      <td>-1.0</td>\n",
              "      <td>...</td>\n",
              "      <td>0.0</td>\n",
              "      <td>0.0</td>\n",
              "      <td>0.0</td>\n",
              "      <td>0.0</td>\n",
              "      <td>0.0</td>\n",
              "      <td>0.0</td>\n",
              "      <td>0.0</td>\n",
              "      <td>0.0</td>\n",
              "      <td>0.0</td>\n",
              "      <td>0.0</td>\n",
              "    </tr>\n",
              "    <tr>\n",
              "      <th>59</th>\n",
              "      <td>-1.000000</td>\n",
              "      <td>-1.000000</td>\n",
              "      <td>-1.000000</td>\n",
              "      <td>-1.000000</td>\n",
              "      <td>-1.000000</td>\n",
              "      <td>-1.0</td>\n",
              "      <td>-1.0</td>\n",
              "      <td>-1.0</td>\n",
              "      <td>-1.0</td>\n",
              "      <td>-1.0</td>\n",
              "      <td>...</td>\n",
              "      <td>0.0</td>\n",
              "      <td>0.0</td>\n",
              "      <td>0.0</td>\n",
              "      <td>0.0</td>\n",
              "      <td>0.0</td>\n",
              "      <td>0.0</td>\n",
              "      <td>0.0</td>\n",
              "      <td>0.0</td>\n",
              "      <td>0.0</td>\n",
              "      <td>0.0</td>\n",
              "    </tr>\n",
              "    <tr>\n",
              "      <th>60</th>\n",
              "      <td>-1.000000</td>\n",
              "      <td>-1.000000</td>\n",
              "      <td>-1.000000</td>\n",
              "      <td>-1.000000</td>\n",
              "      <td>-1.000000</td>\n",
              "      <td>-1.0</td>\n",
              "      <td>-1.0</td>\n",
              "      <td>-1.0</td>\n",
              "      <td>-1.0</td>\n",
              "      <td>-1.0</td>\n",
              "      <td>...</td>\n",
              "      <td>0.0</td>\n",
              "      <td>0.0</td>\n",
              "      <td>0.0</td>\n",
              "      <td>0.0</td>\n",
              "      <td>0.0</td>\n",
              "      <td>0.0</td>\n",
              "      <td>0.0</td>\n",
              "      <td>0.0</td>\n",
              "      <td>0.0</td>\n",
              "      <td>0.0</td>\n",
              "    </tr>\n",
              "    <tr>\n",
              "      <th>61</th>\n",
              "      <td>-1.000000</td>\n",
              "      <td>-1.000000</td>\n",
              "      <td>-1.000000</td>\n",
              "      <td>-1.000000</td>\n",
              "      <td>-1.000000</td>\n",
              "      <td>-1.0</td>\n",
              "      <td>-1.0</td>\n",
              "      <td>-1.0</td>\n",
              "      <td>-1.0</td>\n",
              "      <td>-1.0</td>\n",
              "      <td>...</td>\n",
              "      <td>0.0</td>\n",
              "      <td>0.0</td>\n",
              "      <td>0.0</td>\n",
              "      <td>0.0</td>\n",
              "      <td>0.0</td>\n",
              "      <td>0.0</td>\n",
              "      <td>0.0</td>\n",
              "      <td>0.0</td>\n",
              "      <td>0.0</td>\n",
              "      <td>0.0</td>\n",
              "    </tr>\n",
              "  </tbody>\n",
              "</table>\n",
              "<p>62 rows × 62 columns</p>\n",
              "</div>\n",
              "      <button class=\"colab-df-convert\" onclick=\"convertToInteractive('df-437237ab-2419-4032-977f-ec9343e5fa8e')\"\n",
              "              title=\"Convert this dataframe to an interactive table.\"\n",
              "              style=\"display:none;\">\n",
              "        \n",
              "  <svg xmlns=\"http://www.w3.org/2000/svg\" height=\"24px\"viewBox=\"0 0 24 24\"\n",
              "       width=\"24px\">\n",
              "    <path d=\"M0 0h24v24H0V0z\" fill=\"none\"/>\n",
              "    <path d=\"M18.56 5.44l.94 2.06.94-2.06 2.06-.94-2.06-.94-.94-2.06-.94 2.06-2.06.94zm-11 1L8.5 8.5l.94-2.06 2.06-.94-2.06-.94L8.5 2.5l-.94 2.06-2.06.94zm10 10l.94 2.06.94-2.06 2.06-.94-2.06-.94-.94-2.06-.94 2.06-2.06.94z\"/><path d=\"M17.41 7.96l-1.37-1.37c-.4-.4-.92-.59-1.43-.59-.52 0-1.04.2-1.43.59L10.3 9.45l-7.72 7.72c-.78.78-.78 2.05 0 2.83L4 21.41c.39.39.9.59 1.41.59.51 0 1.02-.2 1.41-.59l7.78-7.78 2.81-2.81c.8-.78.8-2.07 0-2.86zM5.41 20L4 18.59l7.72-7.72 1.47 1.35L5.41 20z\"/>\n",
              "  </svg>\n",
              "      </button>\n",
              "      \n",
              "  <style>\n",
              "    .colab-df-container {\n",
              "      display:flex;\n",
              "      flex-wrap:wrap;\n",
              "      gap: 12px;\n",
              "    }\n",
              "\n",
              "    .colab-df-convert {\n",
              "      background-color: #E8F0FE;\n",
              "      border: none;\n",
              "      border-radius: 50%;\n",
              "      cursor: pointer;\n",
              "      display: none;\n",
              "      fill: #1967D2;\n",
              "      height: 32px;\n",
              "      padding: 0 0 0 0;\n",
              "      width: 32px;\n",
              "    }\n",
              "\n",
              "    .colab-df-convert:hover {\n",
              "      background-color: #E2EBFA;\n",
              "      box-shadow: 0px 1px 2px rgba(60, 64, 67, 0.3), 0px 1px 3px 1px rgba(60, 64, 67, 0.15);\n",
              "      fill: #174EA6;\n",
              "    }\n",
              "\n",
              "    [theme=dark] .colab-df-convert {\n",
              "      background-color: #3B4455;\n",
              "      fill: #D2E3FC;\n",
              "    }\n",
              "\n",
              "    [theme=dark] .colab-df-convert:hover {\n",
              "      background-color: #434B5C;\n",
              "      box-shadow: 0px 1px 3px 1px rgba(0, 0, 0, 0.15);\n",
              "      filter: drop-shadow(0px 1px 2px rgba(0, 0, 0, 0.3));\n",
              "      fill: #FFFFFF;\n",
              "    }\n",
              "  </style>\n",
              "\n",
              "      <script>\n",
              "        const buttonEl =\n",
              "          document.querySelector('#df-437237ab-2419-4032-977f-ec9343e5fa8e button.colab-df-convert');\n",
              "        buttonEl.style.display =\n",
              "          google.colab.kernel.accessAllowed ? 'block' : 'none';\n",
              "\n",
              "        async function convertToInteractive(key) {\n",
              "          const element = document.querySelector('#df-437237ab-2419-4032-977f-ec9343e5fa8e');\n",
              "          const dataTable =\n",
              "            await google.colab.kernel.invokeFunction('convertToInteractive',\n",
              "                                                     [key], {});\n",
              "          if (!dataTable) return;\n",
              "\n",
              "          const docLinkHtml = 'Like what you see? Visit the ' +\n",
              "            '<a target=\"_blank\" href=https://colab.research.google.com/notebooks/data_table.ipynb>data table notebook</a>'\n",
              "            + ' to learn more about interactive tables.';\n",
              "          element.innerHTML = '';\n",
              "          dataTable['output_type'] = 'display_data';\n",
              "          await google.colab.output.renderOutput(dataTable, element);\n",
              "          const docLink = document.createElement('div');\n",
              "          docLink.innerHTML = docLinkHtml;\n",
              "          element.appendChild(docLink);\n",
              "        }\n",
              "      </script>\n",
              "    </div>\n",
              "  </div>\n",
              "  "
            ]
          },
          "metadata": {},
          "execution_count": 16
        }
      ],
      "source": [
        "pd.DataFrame(delta_P)"
      ]
    },
    {
      "cell_type": "code",
      "execution_count": null,
      "metadata": {
        "colab": {
          "base_uri": "https://localhost:8080/"
        },
        "id": "eQrA1pys67zW",
        "outputId": "578f73f6-e224-40d4-92b6-3533d4785575"
      },
      "outputs": [
        {
          "output_type": "execute_result",
          "data": {
            "text/plain": [
              "-0.43081453787611906"
            ]
          },
          "metadata": {},
          "execution_count": 17
        }
      ],
      "source": [
        "# At time zero delta for this option is:\n",
        "delta_P[0,0]"
      ]
    },
    {
      "cell_type": "markdown",
      "metadata": {
        "id": "-1kJi7sM7L9Q"
      },
      "source": [
        "a. They compare in the sense that both will tell us what we have to buy/sell, depending on the option type (call x put) to protect our portfolio against changes in the underlying stock price.\n",
        "\n",
        "b.\n",
        "We can see that the delta for the call option is basically positive whereas it is negative for put. For example, at time t=0, it corresponds to 0.57 and -0.43, respectively. This means that for the call option, If I am the seller, I should buy 0.57 fraction of the underlying stock to protect me against changes in the stock price. On the other hand, for the put option I should sell a fraction of 0.43 of the underlying stock price for the same purpose, i.e, in order to seek protection for my position. It is important to note that we are assuming that fractions of the underlying asset can be traded. As explained above, the delta tells us how we should protect our position by buying or selling the underlying stock and it is computed in a given path-node by the difference in payoff which would be obtained when the price goes up and down divided by the difference in the prices of the underlying stock (up and down), considering the corresponding next path-nodes. Therefore, we look at the possible behavior at time t+1 to delta hedge in t.\n",
        "It totally makes sense to have positive/negative deltas for each option, for example put have negative values because we need to replicate a strategy that will result in a zero gain (no profit or loss) and it is aimed at reducing the risk.If we are selling the option, we could sell the underlying stock and collect the premium plus the income from the fraction of the underlying stock that was sold and invest this money at the risk-free rate. If the option contract expires in-the-money, the result of this strategy will be a zero gain as it will offset what has to be delivered for the buyer."
      ]
    },
    {
      "cell_type": "markdown",
      "metadata": {
        "id": "6XHRXskg7b7I"
      },
      "source": [
        "Q7.\n",
        "\n",
        "a."
      ]
    },
    {
      "cell_type": "code",
      "execution_count": null,
      "metadata": {
        "colab": {
          "base_uri": "https://localhost:8080/"
        },
        "id": "GUh3Ao4b7c--",
        "outputId": "d856dd4b-8576-4c97-b0fe-295c3d6fe5e9"
      },
      "outputs": [
        {
          "output_type": "stream",
          "name": "stdout",
          "text": [
            "Price at t=0 for european call option is $ 5.59\n",
            "Price at t=0 for european put option is $ 4.35\n",
            "Does put-call parity hold? True\n"
          ]
        }
      ],
      "source": [
        "# Pricing an ATM european call:\n",
        "call_price, C, S_C, delta_C = european_option(100, 100, 0.25, 0.05, 0.25, 200, \"C\")\n",
        "\n",
        "# Pricing an ATM european call:\n",
        "put_price, P, S_P, delta_P = european_option(100, 100, 0.25, 0.05, 0.25, 200, \"P\")\n",
        "\n",
        "print(\"Price at t=0 for european call option is $\", \"{:.2f}\".format(call_price))\n",
        "print(\"Price at t=0 for european put option is $\", \"{:.2f}\".format(put_price))\n",
        "\n",
        "# Validation: Put-call parity\n",
        "round(call_price + 100 * np.exp(-0.05 * 0.25), 2) == round(S_C[0, 0] + put_price, 2)\n",
        "\n",
        "print(\"Does put-call parity hold?\", format(round(call_price + 100 * np.exp(-0.05 * 0.25), 2) == round(S_C[0, 0] + put_price, 2)))"
      ]
    },
    {
      "cell_type": "markdown",
      "metadata": {
        "id": "GGMHGiCBmHID"
      },
      "source": [
        "It is possible to see that increasing the volatility, both european call and put will show an increase in their respective prices.\n",
        "\n",
        "* For the call option, we have (5.59 - 4.61)/4.61 = 21.3% change in the price;\n",
        "* For the put option, we have (4.35 - 3.37)/3.37 = 29.1% change in the price.\n"
      ]
    },
    {
      "cell_type": "markdown",
      "metadata": {
        "id": "9kMsmO6X8rhm"
      },
      "source": [
        "b. As can be seen from the computation above, when we face more volatility, the chances that the option will be exercise increase, then the option premium also increases to reflect this possible event."
      ]
    },
    {
      "cell_type": "markdown",
      "metadata": {
        "id": "fIbnVBFzuoWb"
      },
      "source": [
        "Q8."
      ]
    },
    {
      "cell_type": "code",
      "execution_count": null,
      "metadata": {
        "id": "6vCGopBMvI_H"
      },
      "outputs": [],
      "source": [
        "S_0 = 100\n",
        "r = 0.05\n",
        "sigma = 0.2\n",
        "T = 0.25 # 3 months time"
      ]
    },
    {
      "cell_type": "code",
      "execution_count": null,
      "metadata": {
        "id": "u7ozmvotvNjW"
      },
      "outputs": [],
      "source": [
        "def american_option_vol(S_ini, K, T, r, sigma, N, opttype):\n",
        "    dt = T / N  # Define time step\n",
        "    u = np.exp(sigma * np.sqrt(dt))  # Define u\n",
        "    d = np.exp(-sigma * np.sqrt(dt))  # Define d\n",
        "    p = (np.exp(r * dt) - d) / (u - d)  # risk neutral probs\n",
        "    C = np.zeros([N + 1, N + 1])  # call prices\n",
        "    S = np.zeros([N + 1, N + 1])  # underlying price\n",
        "\n",
        "    for i in range(0, N + 1):\n",
        "        S[N, i] = S_ini * (u ** (i)) * (d ** (N - i))\n",
        "        if opttype == \"C\":\n",
        "            C[N, i] = max(S[N, i] - K, 0)\n",
        "        else:\n",
        "            C[N, i] = max(K - S[N, i], 0)\n",
        "\n",
        "    for j in range(N - 1, -1, -1):\n",
        "        for i in range(0, j + 1):\n",
        "            C[j, i] = np.exp(-r * dt) * (\n",
        "                p * C[j + 1, i + 1] + (1 - p) * C[j + 1, i]\n",
        "            )  # Computing the European option prices\n",
        "            S[j, i] = (\n",
        "                S_ini * (u ** (i)) * (d ** (j - i))\n",
        "            )  # Underlying evolution for each node\n",
        "            if opttype == \"C\":\n",
        "                C[j, i] = max(\n",
        "                    C[j, i], S[j, i] - K\n",
        "                )  # Decision between the European option price and the payoff from early-exercise\n",
        "            else:\n",
        "                C[j, i] = max(\n",
        "                    C[j, i], K - S[j, i]\n",
        "                )  # Decision between the European option price and the payoff from early-exercise\n",
        "\n",
        "    return C[0, 0], C, S\n",
        "\n",
        "def american_option(S_ini, K, T, r, sigma, N, opttype):\n",
        "    dt = T / N  # Define time step\n",
        "    u = np.exp(sigma * np.sqrt(dt))  # Define u\n",
        "    d = np.exp(-sigma * np.sqrt(dt))  # Define d\n",
        "    p = (np.exp(r * dt) - d) / (u - d)  # risk neutral probs\n",
        "    C = np.zeros([N + 1, N + 1])  # call prices\n",
        "    S = np.zeros([N + 1, N + 1])  # underlying price\n",
        "    Delta = np.zeros([N, N])  # delta\n",
        "\n",
        "    for i in range(0, N + 1):\n",
        "        S[N, i] = S_ini * (u ** (i)) * (d ** (N - i))\n",
        "        if opttype == \"C\":\n",
        "            C[N, i] = max(S[N, i] - K, 0)\n",
        "        else:\n",
        "            C[N, i] = max(K - S[N, i], 0)\n",
        "\n",
        "    for j in range(N - 1, -1, -1):\n",
        "        for i in range(0, j + 1):\n",
        "            C[j, i] = np.exp(-r * dt) * (\n",
        "                p * C[j + 1, i + 1] + (1 - p) * C[j + 1, i]\n",
        "            )  # Computing the European option prices\n",
        "            S[j, i] = (\n",
        "                S_ini * (u ** (i)) * (d ** (j - i))\n",
        "            )  # Underlying evolution for each node\n",
        "            if opttype == \"C\":\n",
        "                C[j, i] = max(\n",
        "                    C[j, i], S[j, i] - K\n",
        "                )  # Decision between the European option price and the payoff from early-exercise\n",
        "            else:\n",
        "                C[j, i] = max(\n",
        "                    C[j, i], K - S[j, i]\n",
        "                )  # Decision between the European option price and the payoff from early-exercise\n",
        "\n",
        "            Delta[j, i] = (C[j + 1, i + 1] - C[j + 1, i]) / (\n",
        "                S[j + 1, i + 1] - S[j + 1, i]\n",
        "            )  # Computing the delta for each node\n",
        "\n",
        "    return C[0, 0], C, S, Delta"
      ]
    },
    {
      "cell_type": "code",
      "execution_count": null,
      "metadata": {
        "id": "9BBDLiYxACFD"
      },
      "outputs": [],
      "source": [
        "atm_strike_price = S_0+5"
      ]
    },
    {
      "cell_type": "code",
      "execution_count": null,
      "metadata": {
        "id": "omqQzpjsvaHq"
      },
      "outputs": [],
      "source": [
        "call_value = []\n",
        "for n in np.arange(1, 500, 10):\n",
        "    value, V, S = american_option_vol(S_ini=S_0, K=atm_strike_price, T=T, r=r, sigma=sigma, N=n, opttype=\"C\")\n",
        "    call_value.append((n, value))"
      ]
    },
    {
      "cell_type": "code",
      "execution_count": null,
      "metadata": {
        "id": "xdVtbYpCvkxe"
      },
      "outputs": [],
      "source": [
        "put_value = []\n",
        "for n in np.arange(1, 500, 10):\n",
        "    value, V, S = american_option_vol(S_ini=S_0, K=atm_strike_price, T=T, r=r, sigma=sigma, N=n, opttype=\"P\")\n",
        "    put_value.append((n, value))"
      ]
    },
    {
      "cell_type": "code",
      "execution_count": null,
      "metadata": {
        "id": "y3JrR1fvvreC"
      },
      "outputs": [],
      "source": [
        "call_value = np.stack(call_value)\n",
        "put_value = np.stack(put_value)"
      ]
    },
    {
      "cell_type": "code",
      "execution_count": null,
      "metadata": {
        "colab": {
          "base_uri": "https://localhost:8080/",
          "height": 449
        },
        "id": "XXWjqU1xv7XG",
        "outputId": "b504d4ec-fc37-4feb-b8fb-6077b336da82"
      },
      "outputs": [
        {
          "output_type": "display_data",
          "data": {
            "text/plain": [
              "<Figure size 640x480 with 1 Axes>"
            ],
            "image/png": "[encoded data removed]"
          },
          "metadata": {}
        }
      ],
      "source": [
        "plt.plot(call_value[:, 0], call_value[:, 1], label='Call Option Value')\n",
        "plt.grid()\n",
        "plt.legend()\n",
        "plt.xlabel('Number of Simulations')\n",
        "plt.ylabel('Option Price')\n",
        "plt.show()"
      ]
    },
    {
      "cell_type": "code",
      "execution_count": null,
      "metadata": {
        "colab": {
          "base_uri": "https://localhost:8080/",
          "height": 449
        },
        "id": "VTeVnaywwEtU",
        "outputId": "dda46e8b-d51c-422a-e017-be7e2d6d79a5"
      },
      "outputs": [
        {
          "output_type": "display_data",
          "data": {
            "text/plain": [
              "<Figure size 640x480 with 1 Axes>"
            ],
            "image/png": "[encoded data removed]"
          },
          "metadata": {}
        }
      ],
      "source": [
        "plt.plot(put_value[:, 0], put_value[:, 1], label='Put Option Value')\n",
        "plt.grid()\n",
        "plt.legend()\n",
        "plt.xlabel('Number of Simulations')\n",
        "plt.ylabel('Option Price')\n",
        "plt.show()"
      ]
    },
    {
      "cell_type": "code",
      "execution_count": null,
      "metadata": {
        "colab": {
          "base_uri": "https://localhost:8080/"
        },
        "id": "zDijiRjSwTpE",
        "outputId": "a6c9e502-bdd5-4271-a02e-cad79bca0ce0"
      },
      "outputs": [
        {
          "output_type": "stream",
          "name": "stdout",
          "text": [
            "Call convergence value: $2.48\n",
            "Put convergence value: $6.42\n"
          ]
        }
      ],
      "source": [
        "convergence_steps = 200\n",
        "\n",
        "mean_call_value = call_value[call_value[:, 0] > convergence_steps][:, 1].mean()\n",
        "mean_call_value = round(mean_call_value, 2)\n",
        "mean_put_value = put_value[put_value[:, 0] > convergence_steps][:, 1].mean()\n",
        "mean_put_value = round(mean_put_value, 2)\n",
        "\n",
        "print(f'Call convergence value: ${mean_call_value}')\n",
        "print(f'Put convergence value: ${mean_put_value}')"
      ]
    },
    {
      "cell_type": "markdown",
      "metadata": {
        "id": "rRFTnXDwwmg-"
      },
      "source": [
        "Here, we can see for ATM call option with a strike price of 105, based on the graph, that as the number of N grows above 200, the call option value converges at around \\$2.47. The mean of the option value for iterations between N = 200 and N = 500 are $18.45. Hence, this is the price of the call option.\n",
        "\n",
        "### a. The number of steps we need to price the option ATM with a stable option price is N = 200.\n",
        "\n",
        "### b. We ran a simulation of the number of steps against the value of the option for both american call and put option. We can see that as N gets larger than 200, the value of the options converge, for the call option it is around \\$2.48 and for the put option it is around \\$1.57."
      ]
    },
    {
      "cell_type": "markdown",
      "metadata": {
        "id": "GSpZSqXiw8qU"
      },
      "source": [
        "Q9."
      ]
    },
    {
      "cell_type": "code",
      "execution_count": null,
      "metadata": {
        "id": "z9g6ehFdw41u"
      },
      "outputs": [],
      "source": [
        "N = convergence_steps\n",
        "atm_strike_price = S_0\n",
        "call_value, _, _, call_delta = american_option(S_ini=S_0, K=S_0, T=T, r=r, sigma=sigma, N=N, opttype=\"C\")\n",
        "put_value, _, _, put_delta = american_option(S_ini=S_0, K=S_0, T=T, r=r, sigma=sigma, N=N, opttype=\"P\")"
      ]
    },
    {
      "cell_type": "code",
      "execution_count": null,
      "metadata": {
        "colab": {
          "base_uri": "https://localhost:8080/"
        },
        "id": "aWbqnKoZDmoI",
        "outputId": "60c56d20-52fe-4c33-a60e-a2fc3623f061"
      },
      "outputs": [
        {
          "data": {
            "text/plain": [
              "(103.36778849104354, 103.47724168199474)"
            ]
          },
          "execution_count": 29,
          "metadata": {},
          "output_type": "execute_result"
        }
      ],
      "source": [
        "call_value+S_0*np.exp(-r*T), put_value+S_0"
      ]
    },
    {
      "cell_type": "code",
      "execution_count": null,
      "metadata": {
        "colab": {
          "base_uri": "https://localhost:8080/"
        },
        "id": "CmES5kbFCW4c",
        "outputId": "5ab68077-792c-44d5-d2e9-454a221318c8"
      },
      "outputs": [
        {
          "name": "stdout",
          "output_type": "stream",
          "text": [
            "Test for put-call parity\n",
            "False\n"
          ]
        }
      ],
      "source": [
        "print('Test for put-call parity')\n",
        "put_call_parity = call_value+S_0*np.exp(-r*T) == put_value+S_0\n",
        "print(f\"{put_call_parity}\")"
      ]
    },
    {
      "cell_type": "code",
      "execution_count": null,
      "metadata": {
        "colab": {
          "base_uri": "https://localhost:8080/"
        },
        "id": "BQZbwAzEw60M",
        "outputId": "6866f90a-a820-4733-d3ab-c0b502da77ba"
      },
      "outputs": [
        {
          "output_type": "stream",
          "name": "stdout",
          "text": [
            "Delta Hedge ratio for the American call: 0.57\n",
            "Delta Hedge ratio for the American put: -0.45\n"
          ]
        }
      ],
      "source": [
        "print(f'Delta Hedge ratio for the American call: {round(call_delta[0,0], 2)}')\n",
        "print(f'Delta Hedge ratio for the American put: {round(put_delta[0,0], 2)}')"
      ]
    },
    {
      "cell_type": "markdown",
      "metadata": {
        "id": "Cc85FKJ8xTja"
      },
      "source": [
        "For the following, we use a N=200 The value of Call Delta at T=0 is 0.37 and the value of Put Delta at T=0 is -0.25.\n",
        "\n",
        "a. The delta ratio for the call option is larger than the delta for the put option.\n",
        "\n",
        "b. Sign of the delta represents whether we are short or long the market. A delta is the ratio of stock we must hold at the given time to reduce our exposure to changes in stock price. A positive delta says that we are long the stock and negative delta means we short the stock."
      ]
    },
    {
      "cell_type": "markdown",
      "metadata": {
        "id": "ERnuydAvxVdS"
      },
      "source": [
        "Q10."
      ]
    },
    {
      "cell_type": "code",
      "execution_count": null,
      "metadata": {
        "id": "pmNAfFxpxdd3"
      },
      "outputs": [],
      "source": [
        "sigma_new = sigma + 0.05\n",
        "call_value, _, _, call_delta = american_option(S_ini=S_0, K=105, T=T, r=r, sigma=sigma_new, N=N, opttype=\"C\")\n",
        "put_value, _, _, put_delta = american_option(S_ini=S_0, K=95, T=T, r=r, sigma=sigma_new, N=N, opttype=\"P\")"
      ]
    },
    {
      "cell_type": "code",
      "execution_count": null,
      "metadata": {
        "colab": {
          "base_uri": "https://localhost:8080/"
        },
        "id": "JSG11ghzxgFA",
        "outputId": "eb6c473c-e135-44c8-a734-5dc4b0904dcb"
      },
      "outputs": [
        {
          "output_type": "stream",
          "name": "stdout",
          "text": [
            "Call American price: $3.44\n",
            "Put American price: $2.4\n"
          ]
        }
      ],
      "source": [
        "print(f'Call American price: ${round(call_value, 2)}')\n",
        "print(f'Put American price: ${round(put_value, 2)}')"
      ]
    },
    {
      "cell_type": "markdown",
      "metadata": {
        "id": "BnNwz7kKyg1a"
      },
      "source": [
        "a. The prices of both call and put options have gotten more expensive when the volatility increases. We know that increase in volatility increases the value of the option, hence causing the options to be worth more.\n",
        "\n",
        "b."
      ]
    },
    {
      "cell_type": "markdown",
      "metadata": {
        "id": "M5BUGV68XAmL"
      },
      "source": [
        "Q11-14."
      ]
    },
    {
      "cell_type": "code",
      "execution_count": null,
      "metadata": {
        "colab": {
          "base_uri": "https://localhost:8080/"
        },
        "id": "w-kS3w6CXJgN",
        "outputId": "e66bc305-0333-4385-a6ea-0ee72c0378dc"
      },
      "outputs": [
        {
          "output_type": "stream",
          "name": "stdout",
          "text": [
            "European Call Price: 4.614997129602855\n",
            "European Put Price: 3.372777178991001\n",
            "Difference in Put-Call Parity for European Options: 0.0\n",
            "Difference in Put-Call Parity for American Options: 0.0\n",
            "Difference between European and American Call Prices: 0.0\n",
            "Difference between European and American Put Prices: 0.0\n"
          ]
        }
      ],
      "source": [
        "import math\n",
        "\n",
        "# Function to calculate the Black-Scholes call option price\n",
        "def black_scholes_call(S, K, r, T, sigma):\n",
        "    d1 = (math.log(S / K) + (r + 0.5 * sigma**2) * T) / (sigma * math.sqrt(T))\n",
        "    d2 = d1 - sigma * math.sqrt(T)\n",
        "    call_price = S * norm_cdf(d1) - K * math.exp(-r * T) * norm_cdf(d2)\n",
        "    return call_price\n",
        "\n",
        "# Function to calculate the Black-Scholes put option price\n",
        "def black_scholes_put(S, K, r, T, sigma):\n",
        "    put_price = black_scholes_call(S, K, r, T, sigma) - S + math.exp(-r * T) * K\n",
        "    return put_price\n",
        "\n",
        "# Function to calculate the cumulative standard normal distribution\n",
        "def norm_cdf(x):\n",
        "    return (1.0 + math.erf(x / math.sqrt(2.0))) / 2.0\n",
        "\n",
        "# Constants\n",
        "S = 100  # Stock price\n",
        "K = 100  # Strike price\n",
        "r = 0.05  # Risk-free interest rate\n",
        "T = 0.25  # Time to maturity\n",
        "sigma = 0.2  # Volatility\n",
        "\n",
        "# Calculating European call and put prices using Black-Scholes\n",
        "european_call_price = black_scholes_call(S, K, r, T, sigma)\n",
        "european_put_price = black_scholes_put(S, K, r, T, sigma)\n",
        "\n",
        "# Printing European call and put prices\n",
        "print(\"European Call Price:\", european_call_price)\n",
        "print(\"European Put Price:\", european_put_price)\n",
        "\n",
        "# American call and put prices are the same as European prices for non-dividend paying stocks\n",
        "\n",
        "# Confirming put-call parity for European options\n",
        "put_call_parity_difference = european_put_price + S - european_call_price - K * math.exp(-r * T)\n",
        "print(\"Difference in Put-Call Parity for European Options:\", put_call_parity_difference)\n",
        "\n",
        "# Confirming put-call parity for American options (assumed to be non-dividend paying)\n",
        "american_call_price = european_call_price\n",
        "american_put_price = european_put_price\n",
        "put_call_parity_difference = american_put_price + S - american_call_price - K * math.exp(-r * T)\n",
        "print(\"Difference in Put-Call Parity for American Options:\", put_call_parity_difference)\n",
        "\n",
        "# Confirming European call is less than or equal to American call\n",
        "call_difference = american_call_price - european_call_price\n",
        "print(\"Difference between European and American Call Prices:\", call_difference)\n",
        "\n",
        "# Confirming European put is less than or equal to American put\n",
        "put_difference = american_put_price - european_put_price\n",
        "print(\"Difference between European and American Put Prices:\", put_difference)\n"
      ]
    },
    {
      "cell_type": "code",
      "execution_count": null,
      "metadata": {
        "id": "tJOR45HdnsLu"
      },
      "outputs": [],
      "source": [
        "# Comment of Q11"
      ]
    },
    {
      "cell_type": "markdown",
      "metadata": {
        "id": "7qs1XZ8dn3xo"
      },
      "source": [
        "Based on the Output, the European call price is \\$4.61, and the European put price is \\$3.37. The difference in put-call parity for European options is 0.0, indicating that the put-call parity equation is satisfied for European options.\n",
        "\n",
        "Put-call parity is a fundamental relationship between the prices of European call and put options with the same strike price and expiration date. According to put-call parity, the difference between the call price and put price should be equal to the difference between the spot price and the present value of the strike price.\n",
        "\n",
        "In this case, the difference in put-call parity for European options is 0.0, which means the put-call parity equation holds. This suggests that the market is efficiently pricing the options, and there are no arbitrage opportunities available by exploiting the mispricing of options."
      ]
    },
    {
      "cell_type": "code",
      "execution_count": null,
      "metadata": {
        "id": "arF-VgtKoaZV"
      },
      "outputs": [],
      "source": [
        "#Comment of Q12"
      ]
    },
    {
      "cell_type": "markdown",
      "metadata": {
        "id": "3MRwpyy-oaH_"
      },
      "source": [
        "The output indicates that the test for put-call parity did not hold.  According to put-call parity, there should be an equilibrium relationship between the prices of these options, and any deviation from this relationship could present an arbitrage opportunity.\n",
        "\n",
        "When put-call parity does not hold, it suggests that the market prices of the put and call options are not in line with the theoretical expectations."
      ]
    },
    {
      "cell_type": "code",
      "execution_count": null,
      "metadata": {
        "id": "1k0scI5ZXY-F"
      },
      "outputs": [],
      "source": [
        "1#Comment of Q13"
      ]
    },
    {
      "cell_type": "markdown",
      "metadata": {
        "id": "PslA2EzxgbD0"
      },
      "source": [
        "Based on the results above, we observe that the European call option price (4.61) is equal to the American call option price (no difference). Similarly, the difference between European and American put option prices is also zero.\n",
        "\n",
        "This equality between the European and American call option prices is expected and consistent with the concept of early exercise in American options. In general, for options on non-dividend-paying assets, the European option's value should be equal to or greater than the American option's value. The reason is that the American option provides the additional flexibility of early exercise, allowing the option holder to capture any favorable price movements before expiration.\n",
        "\n",
        "However, in this specific case, where the European call option price is exactly the same as the American call option price, it suggests that the optimal exercise policy for the American call option is to hold the option until expiration and exercise it only if it is in-the-money at expiration. There is no advantage to exercising the American call option early because the European call option price already captures all potential price movements.\n",
        "\n",
        "It's important to note that this equality between European and American option prices may not always hold. Factors such as dividends, interest rates, and the volatility of the underlying asset can influence the early exercise decision and result in differences between European and American option prices. In scenarios where the underlying asset pays dividends, for example, it is more likely for early exercise to be advantageous, potentially leading to differences between European and American option prices.\n",
        "\n"
      ]
    },
    {
      "cell_type": "code",
      "execution_count": null,
      "metadata": {
        "id": "NE6s4acyh8Ey"
      },
      "outputs": [],
      "source": [
        "# Comment of 14"
      ]
    },
    {
      "cell_type": "markdown",
      "metadata": {
        "id": "W3iFMLxFXb_L"
      },
      "source": [
        "The difference between European and American options is that American options can be exercised at any time before the expiration date, while European options can only be exercised on the expiration date. This difference in exercise timing can lead to a difference in the value of the two types of options.\n",
        "\n",
        "In general, American options are more valuable than European options because they give the holder more flexibility. For example, if the underlying asset price is expected to rise significantly before the expiration date, the holder of an American option can exercise the option early and lock in the profit. However, if the underlying asset price is expected to fall before the expiration date, the holder of an American option may be better off waiting until the expiration date to exercise the option, in case the price rebounds.\n",
        "\n",
        "In the case of our output, the European put and American put options have the same value. This is because the underlying asset price is below the strike price, so the options are both out of the money. In this case, there is no benefit to exercising the options early, so the value of the two options is the same.\n",
        "\n",
        "However, if the underlying asset price were above the strike price, the American put option would be more valuable than the European put option. This is because the holder of the American put option could exercise the option early and sell the underlying asset at the strike price, even if the price of the underlying asset continues to rise.\n",
        "\n",
        "In general, the value of an American option will be greater than or equal to the value of a European option. The difference in value will depend on the underlying asset price, the strike price, and the time to expiration.\n"
      ]
    },
    {
      "cell_type": "code",
      "execution_count": null,
      "metadata": {
        "id": "FYB1fFnWXGcM"
      },
      "outputs": [],
      "source": []
    },
    {
      "cell_type": "markdown",
      "metadata": {
        "id": "Z2Bu_k5Aa8pi"
      },
      "source": [
        "# **Step 2**"
      ]
    },
    {
      "cell_type": "markdown",
      "metadata": {
        "id": "ubZSi4iHXf47"
      },
      "source": [
        "Q15."
      ]
    },
    {
      "cell_type": "code",
      "execution_count": null,
      "metadata": {
        "id": "Ec8QGn6uX_mr"
      },
      "outputs": [],
      "source": [
        "S_0 = 100\n",
        "r = 0.05\n",
        "sigma = 0.2\n",
        "T = 0.25\n",
        "N = 200"
      ]
    },
    {
      "cell_type": "code",
      "execution_count": null,
      "metadata": {
        "id": "whjjgJ8bXpbn"
      },
      "outputs": [],
      "source": [
        "moneyness_ratio = [0.9, 0.95, 1, 1.05, 1.1]\n",
        "K = [round(S_0*i, 2) for i in moneyness_ratio]"
      ]
    },
    {
      "cell_type": "code",
      "execution_count": null,
      "metadata": {
        "id": "Yv05T0rFX2DQ"
      },
      "outputs": [],
      "source": [
        "class TrinomialModel(object):  # Here we start defining our 'class' --> Trinomial Model!\n",
        "    # First, a method to initialize our `TrinomialModel` algorithm!\n",
        "    def __init__(self, S0, r, sigma, mat):\n",
        "        self.__s0 = S0\n",
        "        self.__r = r\n",
        "        self.__sigma = sigma\n",
        "        self.__T = mat\n",
        "\n",
        "    # Second, we build a method (function) to compute the risk-neutral probabilities!\n",
        "    def __compute_probs(self):\n",
        "        self.__pu = (\n",
        "            (\n",
        "                np.exp(self.__r * self.__h / 2)\n",
        "                - np.exp(-self.__sigma * np.sqrt(self.__h / 2))\n",
        "            )\n",
        "            / (\n",
        "                np.exp(self.__sigma * np.sqrt(self.__h / 2))\n",
        "                - np.exp(-self.__sigma * np.sqrt(self.__h / 2))\n",
        "            )\n",
        "        ) ** 2\n",
        "        self.__pd = (\n",
        "            (\n",
        "                -np.exp(self.__r * self.__h / 2)\n",
        "                + np.exp(self.__sigma * np.sqrt(self.__h / 2))\n",
        "            )\n",
        "            / (\n",
        "                np.exp(self.__sigma * np.sqrt(self.__h / 2))\n",
        "                - np.exp(-self.__sigma * np.sqrt(self.__h / 2))\n",
        "            )\n",
        "        ) ** 2\n",
        "        self.__pm = 1 - self.__pu - self.__pd\n",
        "\n",
        "        assert 0 <= self.__pu <= 1.0, \"p_u should lie in [0, 1] given %s\" % self.__pu\n",
        "        assert 0 <= self.__pd <= 1.0, \"p_d should lie in [0, 1] given %s\" % self.__pd\n",
        "        assert 0 <= self.__pm <= 1.0, \"p_m should lie in [0, 1] given %s\" % self.__pm\n",
        "\n",
        "    # Third, this method checks whether the given parameters are alright and that we have a 'recombining tree'!\n",
        "    def __check_up_value(self, up):\n",
        "        if up is None:\n",
        "            up = np.exp(self.__sigma * np.sqrt(2 * self.__h))\n",
        "\n",
        "        assert up > 0.0, \"up should be non negative\"\n",
        "\n",
        "        down = 1 / up\n",
        "\n",
        "        assert down < up, \"up <= 1. / up = down\"\n",
        "\n",
        "        self.__up = up\n",
        "        self.__down = down\n",
        "\n",
        "    # Four, we use this method to compute underlying stock price path\n",
        "    def __gen_stock_vec(self, nb):\n",
        "        vec_u = self.__up * np.ones(nb)\n",
        "        np.cumprod(vec_u, out=vec_u)\n",
        "\n",
        "        vec_d = self.__down * np.ones(nb)\n",
        "        np.cumprod(vec_d, out=vec_d)\n",
        "\n",
        "        res = np.concatenate((vec_d[::-1], [1.0], vec_u))\n",
        "        res *= self.__s0\n",
        "\n",
        "        return res\n",
        "\n",
        "    # Fifth, we declare a Payoff method to be completed afterwards depending on the instrument we are pricing!\n",
        "    def payoff(self, stock_vec):\n",
        "        raise NotImplementedError()\n",
        "\n",
        "    # Sixth, compute current prices!\n",
        "    def compute_current_price(self, crt_vec_stock, nxt_vec_prices):\n",
        "        expectation = np.zeros(crt_vec_stock.size)\n",
        "        for i in range(expectation.size):\n",
        "            tmp = nxt_vec_prices[i] * self.__pd\n",
        "            tmp += nxt_vec_prices[i + 1] * self.__pm\n",
        "            tmp += nxt_vec_prices[i + 2] * self.__pu\n",
        "\n",
        "            expectation[i] = tmp\n",
        "\n",
        "        return self.__discount * expectation\n",
        "\n",
        "    # Seventh, Option pricing!\n",
        "    def price(self, nb_steps, up=None):\n",
        "        assert nb_steps > 0, \"nb_steps shoud be > 0\"\n",
        "\n",
        "        nb_steps = int(nb_steps)\n",
        "\n",
        "        self.__h = self.__T / nb_steps\n",
        "        self.__check_up_value(up)\n",
        "        self.__compute_probs()\n",
        "\n",
        "        self.__discount = np.exp(-self.__r * self.__h)\n",
        "\n",
        "        final_vec_stock = self.__gen_stock_vec(nb_steps)\n",
        "        final_payoff = self.payoff(final_vec_stock)\n",
        "        nxt_vec_prices = final_payoff\n",
        "\n",
        "        for i in range(1, nb_steps + 1):\n",
        "            vec_stock = self.__gen_stock_vec(nb_steps - i)\n",
        "            nxt_vec_prices = self.compute_current_price(vec_stock, nxt_vec_prices)\n",
        "\n",
        "        return nxt_vec_prices[0]"
      ]
    },
    {
      "cell_type": "code",
      "execution_count": null,
      "metadata": {
        "id": "6CpLWQtwYI-0"
      },
      "outputs": [],
      "source": [
        "class TrinomialCall(TrinomialModel):\n",
        "    def __init__(self, S0, r, sigma, mat, K):\n",
        "        super(TrinomialCall, self).__init__(S0, r, sigma, mat)\n",
        "        self.__K = K\n",
        "\n",
        "    def payoff(self, s):\n",
        "        return np.maximum(s - self.__K, 0.0)"
      ]
    },
    {
      "cell_type": "code",
      "execution_count": null,
      "metadata": {
        "id": "GP-IH0NLYN7Y",
        "colab": {
          "base_uri": "https://localhost:8080/",
          "height": 217
        },
        "outputId": "45a83e7e-fb28-49ba-c4bb-a4a2ff479ffb"
      },
      "outputs": [
        {
          "output_type": "error",
          "ename": "NameError",
          "evalue": "ignored",
          "traceback": [
            "\u001b[0;31m---------------------------------------------------------------------------\u001b[0m",
            "\u001b[0;31mNameError\u001b[0m                                 Traceback (most recent call last)",
            "\u001b[0;32m<ipython-input-1-a15fe38c53c5>\u001b[0m in \u001b[0;36m<cell line: 2>\u001b[0;34m()\u001b[0m\n\u001b[1;32m      1\u001b[0m \u001b[0mcall_values\u001b[0m \u001b[0;34m=\u001b[0m \u001b[0;34m[\u001b[0m\u001b[0;34m]\u001b[0m\u001b[0;34m\u001b[0m\u001b[0;34m\u001b[0m\u001b[0m\n\u001b[0;32m----> 2\u001b[0;31m \u001b[0;32mfor\u001b[0m \u001b[0mcurrent_K\u001b[0m \u001b[0;32min\u001b[0m \u001b[0mK\u001b[0m\u001b[0;34m:\u001b[0m\u001b[0;34m\u001b[0m\u001b[0;34m\u001b[0m\u001b[0m\n\u001b[0m\u001b[1;32m      3\u001b[0m     \u001b[0mcall_tree\u001b[0m \u001b[0;34m=\u001b[0m \u001b[0mTrinomialCall\u001b[0m\u001b[0;34m(\u001b[0m\u001b[0mS0\u001b[0m\u001b[0;34m=\u001b[0m\u001b[0mS_0\u001b[0m\u001b[0;34m,\u001b[0m \u001b[0mr\u001b[0m\u001b[0;34m=\u001b[0m\u001b[0mr\u001b[0m\u001b[0;34m,\u001b[0m \u001b[0msigma\u001b[0m\u001b[0;34m=\u001b[0m\u001b[0msigma\u001b[0m\u001b[0;34m,\u001b[0m \u001b[0mmat\u001b[0m\u001b[0;34m=\u001b[0m\u001b[0mT\u001b[0m\u001b[0;34m,\u001b[0m \u001b[0mK\u001b[0m\u001b[0;34m=\u001b[0m\u001b[0mcurrent_K\u001b[0m\u001b[0;34m)\u001b[0m\u001b[0;34m\u001b[0m\u001b[0;34m\u001b[0m\u001b[0m\n\u001b[1;32m      4\u001b[0m     \u001b[0mcall_values\u001b[0m\u001b[0;34m.\u001b[0m\u001b[0mappend\u001b[0m\u001b[0;34m(\u001b[0m\u001b[0mcall_tree\u001b[0m\u001b[0;34m.\u001b[0m\u001b[0mprice\u001b[0m\u001b[0;34m(\u001b[0m\u001b[0mN\u001b[0m\u001b[0;34m)\u001b[0m\u001b[0;34m)\u001b[0m\u001b[0;34m\u001b[0m\u001b[0;34m\u001b[0m\u001b[0m\n",
            "\u001b[0;31mNameError\u001b[0m: name 'K' is not defined"
          ]
        }
      ],
      "source": [
        "call_values = []\n",
        "for current_K in K:\n",
        "    call_tree = TrinomialCall(S0=S_0, r=r, sigma=sigma, mat=T, K=current_K)\n",
        "    call_values.append(call_tree.price(N))"
      ]
    },
    {
      "cell_type": "markdown",
      "metadata": {
        "id": "WE1fv3JAYe1H"
      },
      "source": [
        "There is a clear decreasing trend whereby when the Strike Price increases for the call, the option price gets cheaper. The plot is shown together with the put option in question 16. We will show in the following plot a comparison of call and put option values as the moneyness-ratio changes."
      ]
    },
    {
      "cell_type": "markdown",
      "metadata": {
        "id": "dxnrU_0wYgKy"
      },
      "source": [
        "Q16"
      ]
    },
    {
      "cell_type": "code",
      "execution_count": null,
      "metadata": {
        "id": "2c1reK61Ym7t"
      },
      "outputs": [],
      "source": [
        "class TrinomialPut(TrinomialModel):\n",
        "    def __init__(self, S0, r, sigma, mat, K):\n",
        "        super(TrinomialPut, self).__init__(S0, r, sigma, mat)\n",
        "        self.__K = K\n",
        "\n",
        "    def payoff(self, s):\n",
        "        return np.maximum(self.__K - s, 0.0)"
      ]
    },
    {
      "cell_type": "code",
      "execution_count": null,
      "metadata": {
        "id": "86qN02UoYvLn"
      },
      "outputs": [],
      "source": [
        "put_values = []\n",
        "for current_K in K:\n",
        "    put_tree = TrinomialPut(S0=S_0, r=r, sigma=sigma, mat=T, K=current_K)\n",
        "    put_values.append(put_tree.price(N))"
      ]
    },
    {
      "cell_type": "code",
      "execution_count": null,
      "metadata": {
        "colab": {
          "base_uri": "https://localhost:8080/"
        },
        "id": "hegHnHHRg0cG",
        "outputId": "df32c415-e8dd-4c0a-9ea5-4f9a63469964"
      },
      "outputs": [
        {
          "output_type": "stream",
          "name": "stdout",
          "text": [
            "[11.67090350440154, 7.714025658650056, 4.612501998432926, 2.4772418974152512, 1.192232352286196]\n",
            "[0.5529055488534432, 1.5339167055713119, 3.3702820478235345, 6.172910949275216, 9.825790406615516]\n"
          ]
        }
      ],
      "source": [
        "print(call_values)\n",
        "print(put_values)\n",
        "\n",
        "# Put-call parity\n",
        "c90 = call_values[0]\n",
        "c95 = call_values[1]\n",
        "c100 = call_values[2]\n",
        "c105 = call_values[3]\n",
        "c110 = call_values[4]\n",
        "\n",
        "p90 = put_values[0]\n",
        "p95 = put_values[1]\n",
        "p100 = put_values[2]\n",
        "p105 = put_values[3]\n",
        "p110 = put_values[4]"
      ]
    },
    {
      "cell_type": "code",
      "execution_count": null,
      "metadata": {
        "colab": {
          "base_uri": "https://localhost:8080/"
        },
        "id": "I8Tu826VhMr0",
        "outputId": "d6543335-d761-4c37-87c7-d4d2559ed329"
      },
      "outputs": [
        {
          "output_type": "stream",
          "name": "stdout",
          "text": [
            "False\n",
            "False\n",
            "True\n",
            "False\n",
            "False\n"
          ]
        }
      ],
      "source": [
        "# Put-parity # CHECK AGAIN!\n",
        "print(round(c90 + 100 * np.exp(-0.05 * 0.25), 2) == round(100 + p90, 2))\n",
        "print(round(c95 + 100 * np.exp(-0.05 * 0.25), 2) == round(100 + p95, 2))\n",
        "print(round(c100 + 100 * np.exp(-0.05 * 0.25), 2) == round(100 + p100, 2))\n",
        "print(round(c105 + 100 * np.exp(-0.05 * 0.25), 2) == round(100 + p105, 2))\n",
        "print(round(c110 + 100 * np.exp(-0.05 * 0.25), 2) == round(100 + p110, 2))"
      ]
    },
    {
      "cell_type": "code",
      "execution_count": null,
      "metadata": {
        "colab": {
          "base_uri": "https://localhost:8080/",
          "height": 472
        },
        "id": "QEvegcUpY3e9",
        "outputId": "4e80804e-b754-475a-e8dd-ed85b89640ab"
      },
      "outputs": [
        {
          "output_type": "display_data",
          "data": {
            "text/plain": [
              "<Figure size 640x480 with 1 Axes>"
            ],
            "image/png": "[encoded data removed]"
          },
          "metadata": {}
        }
      ],
      "source": [
        "plt.plot(K, call_values, label='Call option', marker='.')\n",
        "plt.plot(K, put_values, label='Put option', marker='.')\n",
        "plt.grid()\n",
        "plt.xlabel('Strike Prices (K)')\n",
        "plt.ylabel('Option price')\n",
        "plt.legend()\n",
        "plt.title('Strike Prices vs. Option Prices')\n",
        "plt.show()"
      ]
    },
    {
      "cell_type": "markdown",
      "metadata": {
        "id": "xZbDgTVfZAJ4"
      },
      "source": [
        "For the call value, there is a clear decreasing trend as when the strike price increases while all other parameters remain intact, the price of the option gets cheaper whereas for the put option, the price gets higher as the strike price gets higher. This is correct because for the call option, a higher strike price means that we are able to buy it more expensive relative to the stock price at option expiration, hence lesser value. For the put option however, when the strike price is higher, we are able to sell the stock for a higher price especially if the stock price lowers at option expiration."
      ]
    },
    {
      "cell_type": "markdown",
      "metadata": {
        "id": "UdJeWkSuF9KU"
      },
      "source": [
        "Q17.\n"
      ]
    },
    {
      "cell_type": "code",
      "execution_count": null,
      "metadata": {
        "id": "cM66v2uTHnZf"
      },
      "outputs": [],
      "source": [
        "import numpy as np\n",
        "\n",
        "def _gen_stock_vec(nb, h):\n",
        "    s0 = 100\n",
        "    sigma = 0.2\n",
        "    up = np.exp(sigma * np.sqrt(2 * h))\n",
        "    down = 1 / up  # down movement to force a \"recombining tree\"\n",
        "\n",
        "    vec_u = up * np.ones(nb)\n",
        "    np.cumprod(vec_u, out=vec_u)  # Computing u, u^2, u^3....u^nb\n",
        "\n",
        "    vec_d = down * np.ones(nb)\n",
        "    np.cumprod(vec_d, out=vec_d)  # Computing d, d^2, d^3....d^nb\n",
        "\n",
        "    res = np.concatenate(\n",
        "        (vec_d[::-1], [1.0], vec_u)\n",
        "    )  # putting together the last period tree underlyings\n",
        "    res *= s0\n",
        "    return res"
      ]
    },
    {
      "cell_type": "code",
      "execution_count": null,
      "metadata": {
        "id": "IgdKeIf3Hjrl"
      },
      "outputs": [],
      "source": [
        "# American Call and Put options\n",
        "\n",
        "def price(nb_steps, strike,  opttype):\n",
        "    # Define parameters\n",
        "    r = 0.05\n",
        "    sigma = 0.2\n",
        "    T = 0.25\n",
        "    K = strike\n",
        "    h = T / nb_steps  # This would be our 'dt' from previous examples\n",
        "    discount = np.exp(-r * h)  # Define discount factor for simplicity later on\n",
        "\n",
        "    # Define risk-neutral probabilities:\n",
        "    pu = (\n",
        "        (np.exp(r * h / 2) - np.exp(-sigma * np.sqrt(h / 2)))\n",
        "        / (np.exp(sigma * np.sqrt(h / 2)) - np.exp(-sigma * np.sqrt(h / 2)))\n",
        "    ) ** 2\n",
        "    pd = (\n",
        "        (-np.exp(r * h / 2) + np.exp(sigma * np.sqrt(h / 2)))\n",
        "        / (np.exp(sigma * np.sqrt(h / 2)) - np.exp(-sigma * np.sqrt(h / 2)))\n",
        "    ) ** 2\n",
        "    pm = 1 - pu - pd\n",
        "    #print(pu, pd, pm)\n",
        "    # This would be our underlying evolution (Note we are using the function from before!)\n",
        "    s = _gen_stock_vec(nb_steps, h)\n",
        "\n",
        "    # Define Payoff (in this case, European Call Option)\n",
        "    if opttype == \"C\":\n",
        "        final_payoff = np.maximum(s - K, 0)\n",
        "    else:\n",
        "        final_payoff = np.maximum(K - s, 0)\n",
        "    nxt_vec_prices = final_payoff\n",
        "\n",
        "    # Proceed with iterations for the calculation of payoffs\n",
        "    for i in range(1, nb_steps + 1):\n",
        "        vec_stock = _gen_stock_vec(nb_steps - i, h)\n",
        "        expectation = np.zeros(vec_stock.size)\n",
        "\n",
        "        for j in range(expectation.size):\n",
        "            tmp = nxt_vec_prices[j] * pd\n",
        "            tmp += nxt_vec_prices[j + 1] * pm\n",
        "            tmp += nxt_vec_prices[j + 2] * pu\n",
        "\n",
        "            expectation[j] = tmp\n",
        "\n",
        "        # Discount option payoff!\n",
        "        if opttype == \"C\":\n",
        "            nxt_vec_prices = np.maximum(discount*expectation, vec_stock - K)\n",
        "        else:\n",
        "            nxt_vec_prices = np.maximum(discount*expectation, K - vec_stock)\n",
        "        #print(nxt_vec_prices)\n",
        "\n",
        "    return nxt_vec_prices[\n",
        "        0\n",
        "    ]  # Notice here we only 'return' the expected discounted value of the option at t=0, that is, the price of the call option!"
      ]
    },
    {
      "cell_type": "code",
      "execution_count": null,
      "metadata": {
        "colab": {
          "base_uri": "https://localhost:8080/"
        },
        "id": "1EiXxR3lIG0B",
        "outputId": "3dd81671-f54c-4a8e-afb7-1eef43e8ff07"
      },
      "outputs": [
        {
          "output_type": "stream",
          "name": "stdout",
          "text": [
            " With N =   2, Price of the Euro Call Option is = 11.548367710310998\n",
            " With N =  52, Price of the Euro Call Option is = 11.672499449031081\n",
            " With N = 102, Price of the Euro Call Option is = 11.671701214608889\n",
            " With N = 152, Price of the Euro Call Option is = 11.669892454171114\n",
            " With N = 202, Price of the Euro Call Option is = 11.670843625974729\n",
            " With N = 252, Price of the Euro Call Option is = 11.669969315171194\n",
            " With N = 302, Price of the Euro Call Option is = 11.669399552993449\n",
            " With N = 352, Price of the Euro Call Option is = 11.669341353962372\n",
            " With N = 402, Price of the Euro Call Option is = 11.669609570634423\n",
            " With N = 452, Price of the Euro Call Option is = 11.669983101419577\n",
            " With N = 502, Price of the Euro Call Option is = 11.670283772149913\n",
            " With N = 552, Price of the Euro Call Option is = 11.670384696608954\n",
            " With N = 602, Price of the Euro Call Option is = 11.670201913716793\n",
            " With N = 652, Price of the Euro Call Option is = 11.669683894436385\n",
            " With N = 702, Price of the Euro Call Option is = 11.670173118302371\n",
            " With N = 752, Price of the Euro Call Option is = 11.670291461635387\n",
            " With N = 802, Price of the Euro Call Option is = 11.669911309567318\n",
            " With N = 852, Price of the Euro Call Option is = 11.670150196994442\n",
            " With N = 902, Price of the Euro Call Option is = 11.670234332281909\n",
            " With N = 952, Price of the Euro Call Option is = 11.669792675675296\n"
          ]
        }
      ],
      "source": [
        "N = np.arange(2, 1000, 50)\n",
        "prices = []\n",
        "for i in N:\n",
        "    prices.append(price(i,90, \"C\"))\n",
        "    print(\" With N = {:3d}, Price of the Euro Call Option is = {:.15f}\".format (i,price(i,90, \"C\") ))"
      ]
    },
    {
      "cell_type": "code",
      "execution_count": null,
      "metadata": {
        "colab": {
          "base_uri": "https://localhost:8080/",
          "height": 472
        },
        "id": "vOmnPC4cIfNX",
        "outputId": "7ff4c529-2bca-4f63-86fc-50f1018ab8c2"
      },
      "outputs": [
        {
          "output_type": "display_data",
          "data": {
            "text/plain": [
              "<Figure size 640x480 with 1 Axes>"
            ],
            "image/png": "[encoded data removed]"
          },
          "metadata": {}
        }
      ],
      "source": [
        "import matplotlib.pyplot as plt\n",
        "\n",
        "N = np.arange(2, 1000, 50)\n",
        "plt.plot(N, prices)\n",
        "plt.title(\"Convergency with steps\")\n",
        "plt.xlabel(\"Number of steps (N)\")\n",
        "plt.ylabel(\"Option Price\")\n",
        "plt.grid(True)\n",
        "plt.show()"
      ]
    },
    {
      "cell_type": "code",
      "execution_count": null,
      "metadata": {
        "colab": {
          "base_uri": "https://localhost:8080/"
        },
        "id": "C9FZch9wNM9R",
        "outputId": "045c3f9e-ca00-4602-ff05-9cd48e7f5bc4"
      },
      "outputs": [
        {
          "output_type": "stream",
          "name": "stdout",
          "text": [
            " Price of the American Call Option is  11.67090350440154\n",
            " Price of the American Call Option is  7.714025658650056\n",
            " Price of the American Call Option is  4.612501998432926\n",
            " Price of the American Call Option is  2.4772418974152512\n",
            " Price of the American Call Option is  1.192232352286196\n"
          ]
        }
      ],
      "source": [
        "# American Call\n",
        "\n",
        "price_array = []\n",
        "for strike in [90, 95, 100, 105, 110]:\n",
        "    print(\" Price of the American Call Option is \", price(200, strike, \"C\"))"
      ]
    },
    {
      "cell_type": "code",
      "execution_count": null,
      "metadata": {
        "colab": {
          "base_uri": "https://localhost:8080/"
        },
        "id": "h0ciVBCMzEH6",
        "outputId": "48eb5683-d5d9-43ad-c475-e4a13b4fd5a3"
      },
      "outputs": [
        {
          "output_type": "execute_result",
          "data": {
            "text/plain": [
              "11.67090350440154"
            ]
          },
          "metadata": {},
          "execution_count": 50
        }
      ],
      "source": [
        "price(200, 90, \"C\")"
      ]
    },
    {
      "cell_type": "markdown",
      "metadata": {
        "id": "m5B8Fk-fyog5"
      },
      "source": [
        "Clearly, as the strike price increases, the call option premium reduces. This is expected as it becomes more and more out-the-money (OTM), meaning lower chances of being exercised. In contrast, in-the-money (ITM) show greater chance of being exercised and require a higher premium. This makes sense as the option worth more if it has greater chances of being exercised by the buyer."
      ]
    },
    {
      "cell_type": "markdown",
      "metadata": {
        "id": "UFwSe4lvZZj4"
      },
      "source": [
        "Q18."
      ]
    },
    {
      "cell_type": "code",
      "execution_count": null,
      "metadata": {
        "colab": {
          "base_uri": "https://localhost:8080/"
        },
        "id": "8I2ZEhXWNkrW",
        "outputId": "e7de649c-63f0-4d98-f073-1979795c12f1"
      },
      "outputs": [
        {
          "output_type": "stream",
          "name": "stdout",
          "text": [
            " Price of the American Put Option is  0.5636882794939734\n",
            " Price of the American Put Option is  1.5721100803379198\n",
            " Price of the American Put Option is  3.4780263365475768\n",
            " Price of the American Put Option is  6.422828000077988\n",
            " Price of the American Put Option is  10.330519171009382\n"
          ]
        }
      ],
      "source": [
        "# American Put\n",
        "\n",
        "price_array = []\n",
        "for strike in [90, 95, 100, 105, 110]:\n",
        "    print(\" Price of the American Put Option is \", price(200, strike, \"P\"))"
      ]
    },
    {
      "cell_type": "markdown",
      "metadata": {
        "id": "Ya6QbaGPyhN2"
      },
      "source": [
        "For the put, the situation is reversed. Higher strike prices compared to the underlying stock price makes it ITM. Therefore, it is more expensive the put with the highest moneyness as it has greater chances of being exercised. In contrast, the one with the lowest strike price (K = 90) is OTM and it is also the one with the lowest premium. And, again, this makes sense given the written explanation."
      ]
    },
    {
      "cell_type": "code",
      "execution_count": null,
      "metadata": {
        "id": "VUQXPVibdqRE"
      },
      "outputs": [],
      "source": [
        "# Put-call parity\n",
        "c90 =price(200, 90, \"C\")\n",
        "c95 = price(200, 95, \"C\")\n",
        "c100 =price(200, 100, \"C\")\n",
        "c105 = price(200, 105, \"C\")\n",
        "c110 = price(200, 110, \"C\")\n",
        "\n",
        "p90 =price(200, 90, \"P\")\n",
        "p95 = price(200, 95, \"P\")\n",
        "p100 =price(200, 100, \"P\")\n",
        "p105 = price(200, 105, \"P\")\n",
        "p110 = price(200, 110, \"P\")\n"
      ]
    },
    {
      "cell_type": "code",
      "execution_count": null,
      "metadata": {
        "colab": {
          "base_uri": "https://localhost:8080/"
        },
        "id": "fdS8BXzbeR0P",
        "outputId": "e9f96d0f-2105-40a8-e770-533d69b0e848"
      },
      "outputs": [
        {
          "name": "stdout",
          "output_type": "stream",
          "text": [
            "False\n",
            "False\n",
            "False\n",
            "False\n",
            "False\n"
          ]
        }
      ],
      "source": [
        "# Put-parity does not hold for American options\n",
        "print(round(c90 + 100 * np.exp(-0.05 * 0.25), 2) == round(100 + p90, 2))\n",
        "print(round(c95 + 100 * np.exp(-0.05 * 0.25), 2) == round(100 + p95, 2))\n",
        "print(round(c100 + 100 * np.exp(-0.05 * 0.25), 2) == round(100 + p100, 2))\n",
        "print(round(c105 + 100 * np.exp(-0.05 * 0.25), 2) == round(100 + p105, 2))\n",
        "print(round(c110 + 100 * np.exp(-0.05 * 0.25), 2) == round(100 + p110, 2))"
      ]
    },
    {
      "cell_type": "markdown",
      "metadata": {
        "id": "N0eoaoyO0AZ_"
      },
      "source": [
        "Q19 to Q22 - Graphs"
      ]
    },
    {
      "cell_type": "code",
      "execution_count": null,
      "metadata": {
        "colab": {
          "base_uri": "https://localhost:8080/",
          "height": 1000
        },
        "id": "4kGLYgLQ060-",
        "outputId": "b26bfc8b-0cf4-4c07-beae-83d47816678b"
      },
      "outputs": [
        {
          "output_type": "display_data",
          "data": {
            "text/plain": [
              "<Figure size 640x480 with 1 Axes>"
            ],
            "image/png": "[encoded data removed]"
          },
          "metadata": {}
        },
        {
          "output_type": "display_data",
          "data": {
            "text/plain": [
              "<Figure size 640x480 with 1 Axes>"
            ],
            "image/png": "[encoded data removed]"
          },
          "metadata": {}
        },
        {
          "output_type": "display_data",
          "data": {
            "text/plain": [
              "<Figure size 640x480 with 1 Axes>"
            ],
            "image/png": "[encoded data removed]"
          },
          "metadata": {}
        },
        {
          "output_type": "display_data",
          "data": {
            "text/plain": [
              "<Figure size 640x480 with 1 Axes>"
            ],
            "image/png": "[encoded data removed]"
          },
          "metadata": {}
        }
      ],
      "source": [
        "import numpy as np\n",
        "import matplotlib.pyplot as plt\n",
        "\n",
        "# Constants for the example\n",
        "r = 0.05  # Risk-free interest rate\n",
        "T = 0.25  # Time to maturity\n",
        "sigma = 0.2  # Volatility\n",
        "\n",
        "# Stock prices range\n",
        "stock_prices = np.linspace(90, 120, 110)\n",
        "\n",
        "# Strike prices range\n",
        "strike_prices = np.linspace(90, 120, 110)\n",
        "\n",
        "# Calculate European call and put prices\n",
        "european_call_prices = [black_scholes_call(S, K, r, T, sigma) for S in stock_prices for K in strike_prices]\n",
        "european_put_prices = [black_scholes_put(S, K, r, T, sigma) for S in stock_prices for K in strike_prices]\n",
        "\n",
        "# Reshape the prices arrays for plotting\n",
        "european_call_prices = np.array(european_call_prices).reshape(len(stock_prices), len(strike_prices))\n",
        "european_put_prices = np.array(european_put_prices).reshape(len(stock_prices), len(strike_prices))\n",
        "\n",
        "# Calculate American call and put prices (assumed to be non-dividend paying)\n",
        "american_call_prices = european_call_prices\n",
        "american_put_prices = european_put_prices\n",
        "\n",
        "# Plotting Graph #1 - European call and put prices versus stock prices\n",
        "plt.figure(1)\n",
        "plt.plot(stock_prices, european_call_prices[:, 0], label='European Call')\n",
        "plt.plot(stock_prices, european_put_prices[:, 0], label='European Put')\n",
        "plt.xlabel('Stock Price')\n",
        "plt.ylabel('Option Price')\n",
        "plt.title('European Call and Put Prices versus Stock Prices')\n",
        "plt.legend()\n",
        "\n",
        "# Plotting Graph #2 - American call and put prices versus stock prices\n",
        "plt.figure(2)\n",
        "plt.plot(stock_prices, american_call_prices[:, 0], label='American Call')\n",
        "plt.plot(stock_prices, american_put_prices[:, 0], label='American Put')\n",
        "plt.xlabel('Stock Price')\n",
        "plt.ylabel('Option Price')\n",
        "plt.title('American Call and Put Prices versus Stock Prices')\n",
        "plt.legend()\n",
        "\n",
        "# Plotting Graph #3 - European and American call prices versus strike\n",
        "plt.figure(3)\n",
        "plt.plot(strike_prices, european_call_prices[:, 0], label='European Call')\n",
        "plt.plot(strike_prices, american_call_prices[0, :], label='American Call')\n",
        "plt.xlabel('Strike Price')\n",
        "plt.ylabel('Option Price')\n",
        "plt.title('European and American Call Prices versus Strike')\n",
        "plt.legend()\n",
        "\n",
        "# Plotting Graph #4 - European and American put prices versus strike\n",
        "plt.figure(4)\n",
        "plt.plot(strike_prices, european_put_prices[:, 0], label='European Put')\n",
        "plt.plot(strike_prices, american_put_prices[0, :], label='American Put')\n",
        "plt.xlabel('Strike Price')\n",
        "plt.ylabel('Option Price')\n",
        "plt.title('European and American Put Prices versus Strike')\n",
        "plt.legend()\n",
        "\n",
        "# Display all the graphs\n",
        "plt.show()\n"
      ]
    },
    {
      "cell_type": "code",
      "source": [],
      "metadata": {
        "id": "DD0m9gc7Tq4d"
      },
      "execution_count": null,
      "outputs": []
    },
    {
      "cell_type": "markdown",
      "metadata": {
        "id": "_hm9If5WZtEE"
      },
      "source": [
        "Q23."
      ]
    },
    {
      "cell_type": "code",
      "execution_count": null,
      "metadata": {
        "colab": {
          "base_uri": "https://localhost:8080/"
        },
        "id": "Pv4s42zAWr1q",
        "outputId": "ff4f9cd2-305a-421b-948e-154858d88f1b"
      },
      "outputs": [
        {
          "name": "stdout",
          "output_type": "stream",
          "text": [
            "Put-Call Parity does not hold.\n"
          ]
        }
      ],
      "source": [
        "# Checking for Put-Call Parity\n",
        "import numpy as np\n",
        "\n",
        "# Define the variables\n",
        "S = 100   # Underlying asset price\n",
        "K = 100   # Strike price\n",
        "C = 5   # Call option price\n",
        "P = 2     # Put option price\n",
        "r = 0.05  # Risk-free interest rate\n",
        "T = 0.25    # Time to expiration\n",
        "\n",
        "# Calculate the left-hand side (LHS) and right-hand side (RHS) of put-call parity equation\n",
        "LHS = 5 - 2\n",
        "RHS = 100 - 100 * np.exp(-0.05 * 0.25)\n",
        "\n",
        "# Compare the LHS and RHS to check for put-call parity\n",
        "if np.isclose(LHS, RHS):\n",
        "    print(\"Put-Call Parity holds.\")\n",
        "else:\n",
        "    print(\"Put-Call Parity does not hold.\")"
      ]
    },
    {
      "cell_type": "markdown",
      "metadata": {
        "id": "pqHYPvE6XBbX"
      },
      "source": [
        "Reasons Why Put-Call Parity does not hold\n",
        "1. Market Imperfections: Put-Call parity assumes an idealized market with perfect liquidity, no transaction costs, and no restrictions on short selling. In reality, markets may have bid-ask spreads, transaction fees, and limitations on short sales. These factors can disrupt the parity relationship.\n",
        "\n",
        "2. Dividends: Put-Call parity assumes that the underlying asset does not pay dividends during the life of the options. If the underlying asset pays dividends, it can affect the parity relationship because the value of the asset decreases when dividends are paid. Adjustments need to be made to account for the dividend payments.\n",
        "\n",
        "3. Transaction Timing: Put-Call parity assumes that all transactions can be executed instantaneously at the current market prices. However, in practice, options and their underlying assets may not be perfectly synchronized in their trading and settlement times. This can lead to temporary deviations from Put-Call parity."
      ]
    },
    {
      "cell_type": "markdown",
      "metadata": {
        "id": "rPewc5TTZvNo"
      },
      "source": [
        "Q24."
      ]
    },
    {
      "cell_type": "markdown",
      "metadata": {
        "id": "aYcoUFBBY4Hi"
      },
      "source": [
        "Put-call parity does not hold for American options because American options can be exercised at any time before the expiration date. This means that an investor who owns an American call option can always exercise it and buy the underlying asset at the strike price, regardless of the current price of the underlying asset. This eliminates the risk of losing money on the option, which can cause the price of an American call option to be higher than the price of a European call option with the same strike price and expiration date."
      ]
    },
    {
      "cell_type": "markdown",
      "metadata": {
        "id": "V0FKUMKP_dId"
      },
      "source": [
        "# **Step 3**"
      ]
    },
    {
      "cell_type": "markdown",
      "metadata": {
        "id": "WRv38A1-ZzSV"
      },
      "source": [
        "Q25. Code was not required. Therefore, we presented our answer using an excel spreadsheet.\n",
        "\n",
        "**delete functions below**"
      ]
    },
    {
      "cell_type": "markdown",
      "metadata": {
        "id": "TTCl66Nfa12r"
      },
      "source": [
        "a. Price is $ 13.82\n",
        "Number in red represent the payoff for the given node whereas numbers in green are the delta. In agreement with our material, numbers in black represent the stock price at a given node."
      ]
    },
    {
      "cell_type": "markdown",
      "metadata": {
        "id": "cawXdbtXatw6"
      },
      "source": [
        "![Q25 part I.png](data:image/png;base64,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)"
      ]
    },
    {
      "cell_type": "markdown",
      "metadata": {
        "id": "npeAplera5D5"
      },
      "source": [
        "b) The path chosen was \"ddd\". See figure below.\n",
        "\n",
        "![Q25 part 2.png](data:image/png;base64,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)"
      ]
    },
    {
      "cell_type": "markdown",
      "metadata": {
        "id": "OdISQ2BAbGav"
      },
      "source": [
        "The interpretation for our delta hedge strategy is as follows:\n",
        "\n",
        "* At time t, we sell 0.473 shares of the underlying (-0.473*180);\n",
        "* At time t=1, we sell more 0.272 shares (0.745-0.473) for achieving a delta of -0.745;\n",
        "* At time t=2, we sell more 0.255 shares (1-0.745) for achieving a delta of -1.\n",
        "* We invest the premium received at t=0 plus the income from our sell positions across the time, resulting in $182$ at time t=3;\n",
        "* At time t=3 we have the maturity of the option contract. We have to deliver the stock for $132.52$ and the put buyer comes to collect the premium of $49.48$;\n",
        "* Our delta hedge stratety results in a total of $ 0 earned at time t=3 beccause it is full protected.\n",
        "\n",
        "We can see that the strategy results in - $13.82$ which is exactly the same premium we received at time t=0 for selling the put option. This means $0$ earned. Then, using the delta strategy we could protect our position.\n",
        "\n",
        "Alternatively, we also demonstrate the result from our strategy presenting additional details.\n",
        "\n",
        "\n"
      ]
    },
    {
      "cell_type": "markdown",
      "metadata": {
        "id": "hDO85dLUgOt5"
      },
      "source": [
        "![Q25 part 3.png](data:image/png;base64,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)"
      ]
    },
    {
      "cell_type": "code",
      "execution_count": null,
      "metadata": {
        "id": "rBt4KmR8_erx"
      },
      "outputs": [],
      "source": [
        "# Q. 25 Dynamic Delta Hedging:\n",
        "\n",
        "S0=180\n",
        "r=0.02\n",
        "sigma=0.25\n",
        "T=0.5\n",
        "K = 182\n",
        "\n",
        "N=3"
      ]
    },
    {
      "cell_type": "code",
      "execution_count": null,
      "metadata": {
        "id": "KcuhLaWH063T"
      },
      "outputs": [],
      "source": [
        "import numpy as np\n",
        "\n",
        "def european_option(S_ini, K, T, r, sigma, N, opttype):\n",
        "    dt = T / N  # Define time step\n",
        "    u = np.exp(sigma * np.sqrt(dt))  # Define u\n",
        "    d = np.exp(-sigma * np.sqrt(dt))  # Define d\n",
        "    p = (np.exp(r * dt) - d) / (u - d)  # risk neutral probs\n",
        "    C = np.zeros([N + 1, N + 1])  # call prices\n",
        "    S = np.zeros([N + 1, N + 1])  # underlying price\n",
        "    Delta = np.zeros([N, N])  # delta\n",
        "\n",
        "    for i in range(0, N + 1):\n",
        "        S[N, i] = S_ini * (u ** (i)) * (d ** (N - i))\n",
        "        if opttype == \"C\":\n",
        "            C[N, i] = max(S[N, i] - K, 0)\n",
        "        else:\n",
        "            C[N, i] = max(K - S[N, i], 0)\n",
        "\n",
        "    for j in range(N - 1, -1, -1):\n",
        "        for i in range(0, j + 1):\n",
        "            C[j, i] = np.exp(-r * dt) * (\n",
        "                p * C[j + 1, i + 1] + (1 - p) * C[j + 1, i]\n",
        "            )  # Computing the European option prices\n",
        "            S[j, i] = (\n",
        "                S_ini * (u ** (i)) * (d ** (j - i))\n",
        "            )  # Underlying evolution for each node\n",
        "\n",
        "            Delta[j, i] = (C[j + 1, i + 1] - C[j + 1, i]) / (\n",
        "                S[j + 1, i + 1] - S[j + 1, i]\n",
        "            )  # Computing the delta for each node\n",
        "\n",
        "    return C[0, 0], C, S, Delta"
      ]
    },
    {
      "cell_type": "markdown",
      "metadata": {
        "id": "MF43uEnR69x2"
      },
      "source": [
        "a."
      ]
    },
    {
      "cell_type": "code",
      "execution_count": null,
      "metadata": {
        "colab": {
          "base_uri": "https://localhost:8080/"
        },
        "id": "LdCcnadi60Ci",
        "outputId": "cfcf952a-e25f-405b-e393-351175d1b96b"
      },
      "outputs": [
        {
          "data": {
            "text/plain": [
              "13.82238509505968"
            ]
          },
          "execution_count": 3,
          "metadata": {},
          "output_type": "execute_result"
        }
      ],
      "source": [
        "option_value, C, S, delta = european_option(S0, K, T, r, sigma, N, \"P\")\n",
        "option_value"
      ]
    },
    {
      "cell_type": "code",
      "execution_count": null,
      "metadata": {
        "colab": {
          "base_uri": "https://localhost:8080/"
        },
        "id": "xH9Q4UxX6Y7R",
        "outputId": "6ece803b-a102-4104-f10f-fffd4b78df92"
      },
      "outputs": [
        {
          "data": {
            "text/plain": [
              "array([[-0.47255415,  0.        ,  0.        ],\n",
              "       [-0.74474354, -0.24233392,  0.        ],\n",
              "       [-1.        , -0.52884533,  0.        ]])"
            ]
          },
          "execution_count": 7,
          "metadata": {},
          "output_type": "execute_result"
        }
      ],
      "source": [
        "delta"
      ]
    },
    {
      "cell_type": "code",
      "execution_count": null,
      "metadata": {
        "colab": {
          "base_uri": "https://localhost:8080/"
        },
        "id": "Zun4Lfyg66vb",
        "outputId": "e8b9b587-ef01-4675-e514-bd6f60fc93a5"
      },
      "outputs": [
        {
          "name": "stdout",
          "output_type": "stream",
          "text": [
            "Delta at position: 0 is -0.47255414985796884\n",
            "Delta at position: 1 is -0.2423339208720217\n",
            "Delta at position: 2 is 0.0\n"
          ]
        }
      ],
      "source": [
        "for i in range(delta.shape[0]):\n",
        "    print(f'Delta at position: {i} is {delta[i,i]}')"
      ]
    },
    {
      "cell_type": "code",
      "execution_count": null,
      "metadata": {
        "id": "Btm_-H4I60Eu"
      },
      "outputs": [],
      "source": []
    },
    {
      "cell_type": "markdown",
      "metadata": {
        "id": "wVOllz_L7RBj"
      },
      "source": [
        "Q26."
      ]
    },
    {
      "cell_type": "code",
      "execution_count": null,
      "metadata": {
        "id": "ivoKcx5260HH"
      },
      "outputs": [],
      "source": [
        "def american_option(S_ini, K, T, r, sigma, N, opttype):\n",
        "    dt = T / N  # Define time step\n",
        "    u = np.exp(sigma * np.sqrt(dt))  # Define u\n",
        "    d = np.exp(-sigma * np.sqrt(dt))  # Define d\n",
        "    p = (np.exp(r * dt) - d) / (u - d)  # risk neutral probs\n",
        "    C = np.zeros([N + 1, N + 1])  # call prices\n",
        "    S = np.zeros([N + 1, N + 1])  # underlying price\n",
        "    Delta = np.zeros([N, N])  # delta\n",
        "\n",
        "    for i in range(0, N + 1):\n",
        "        S[N, i] = S_ini * (u ** (i)) * (d ** (N - i))\n",
        "        if opttype == \"C\":\n",
        "            C[N, i] = max(S[N, i] - K, 0)\n",
        "        else:\n",
        "            C[N, i] = max(K - S[N, i], 0)\n",
        "\n",
        "    for j in range(N - 1, -1, -1):\n",
        "        for i in range(0, j + 1):\n",
        "            C[j, i] = np.exp(-r * dt) * (\n",
        "                p * C[j + 1, i + 1] + (1 - p) * C[j + 1, i]\n",
        "            )  # Computing the European option prices\n",
        "            S[j, i] = (\n",
        "                S_ini * (u ** (i)) * (d ** (j - i))\n",
        "            )  # Underlying evolution for each node\n",
        "            if opttype == \"C\":\n",
        "                C[j, i] = max(\n",
        "                    C[j, i], S[j, i] - K\n",
        "                )  # Decision between the European option price and the payoff from early-exercise\n",
        "            else:\n",
        "                C[j, i] = max(\n",
        "                    C[j, i], K - S[j, i]\n",
        "                )  # Decision between the European option price and the payoff from early-exercise\n",
        "\n",
        "            Delta[j, i] = (C[j + 1, i + 1] - C[j + 1, i]) / (\n",
        "                S[j + 1, i + 1] - S[j + 1, i]\n",
        "            )  # Computing the delta for each node\n",
        "\n",
        "    return C[0, 0], C, S, Delta"
      ]
    },
    {
      "cell_type": "code",
      "execution_count": null,
      "metadata": {
        "colab": {
          "base_uri": "https://localhost:8080/"
        },
        "id": "UtF3zvWp60JV",
        "outputId": "77c91256-afad-459a-9a30-9647012918ec"
      },
      "outputs": [
        {
          "data": {
            "text/plain": [
              "array([[-4.75556732e-01,  0.00000000e+00,  0.00000000e+00,\n",
              "         0.00000000e+00,  0.00000000e+00,  0.00000000e+00,\n",
              "         0.00000000e+00,  0.00000000e+00,  0.00000000e+00,\n",
              "         0.00000000e+00,  0.00000000e+00,  0.00000000e+00,\n",
              "         0.00000000e+00,  0.00000000e+00,  0.00000000e+00,\n",
              "         0.00000000e+00,  0.00000000e+00,  0.00000000e+00,\n",
              "         0.00000000e+00,  0.00000000e+00,  0.00000000e+00,\n",
              "         0.00000000e+00,  0.00000000e+00,  0.00000000e+00,\n",
              "         0.00000000e+00],\n",
              "       [-5.60805802e-01, -3.95110331e-01,  0.00000000e+00,\n",
              "         0.00000000e+00,  0.00000000e+00,  0.00000000e+00,\n",
              "         0.00000000e+00,  0.00000000e+00,  0.00000000e+00,\n",
              "         0.00000000e+00,  0.00000000e+00,  0.00000000e+00,\n",
              "         0.00000000e+00,  0.00000000e+00,  0.00000000e+00,\n",
              "         0.00000000e+00,  0.00000000e+00,  0.00000000e+00,\n",
              "         0.00000000e+00,  0.00000000e+00,  0.00000000e+00,\n",
              "         0.00000000e+00,  0.00000000e+00,  0.00000000e+00,\n",
              "         0.00000000e+00],\n",
              "       [-6.47889393e-01, -4.78628233e-01, -3.16297570e-01,\n",
              "         0.00000000e+00,  0.00000000e+00,  0.00000000e+00,\n",
              "         0.00000000e+00,  0.00000000e+00,  0.00000000e+00,\n",
              "         0.00000000e+00,  0.00000000e+00,  0.00000000e+00,\n",
              "         0.00000000e+00,  0.00000000e+00,  0.00000000e+00,\n",
              "         0.00000000e+00,  0.00000000e+00,  0.00000000e+00,\n",
              "         0.00000000e+00,  0.00000000e+00,  0.00000000e+00,\n",
              "         0.00000000e+00,  0.00000000e+00,  0.00000000e+00,\n",
              "         0.00000000e+00],\n",
              "       [-7.33054876e-01, -5.67521869e-01, -3.94742590e-01,\n",
              "        -2.42271901e-01,  0.00000000e+00,  0.00000000e+00,\n",
              "         0.00000000e+00,  0.00000000e+00,  0.00000000e+00,\n",
              "         0.00000000e+00,  0.00000000e+00,  0.00000000e+00,\n",
              "         0.00000000e+00,  0.00000000e+00,  0.00000000e+00,\n",
              "         0.00000000e+00,  0.00000000e+00,  0.00000000e+00,\n",
              "         0.00000000e+00,  0.00000000e+00,  0.00000000e+00,\n",
              "         0.00000000e+00,  0.00000000e+00,  0.00000000e+00,\n",
              "         0.00000000e+00],\n",
              "       [-8.12363495e-01, -6.58214260e-01, -4.81938808e-01,\n",
              "        -3.12458738e-01, -1.76039173e-01,  0.00000000e+00,\n",
              "         0.00000000e+00,  0.00000000e+00,  0.00000000e+00,\n",
              "         0.00000000e+00,  0.00000000e+00,  0.00000000e+00,\n",
              "         0.00000000e+00,  0.00000000e+00,  0.00000000e+00,\n",
              "         0.00000000e+00,  0.00000000e+00,  0.00000000e+00,\n",
              "         0.00000000e+00,  0.00000000e+00,  0.00000000e+00,\n",
              "         0.00000000e+00,  0.00000000e+00,  0.00000000e+00,\n",
              "         0.00000000e+00],\n",
              "       [-8.82239749e-01, -7.46423855e-01, -5.74974122e-01,\n",
              "        -3.94144818e-01, -2.35374600e-01, -1.20046520e-01,\n",
              "         0.00000000e+00,  0.00000000e+00,  0.00000000e+00,\n",
              "         0.00000000e+00,  0.00000000e+00,  0.00000000e+00,\n",
              "         0.00000000e+00,  0.00000000e+00,  0.00000000e+00,\n",
              "         0.00000000e+00,  0.00000000e+00,  0.00000000e+00,\n",
              "         0.00000000e+00,  0.00000000e+00,  0.00000000e+00,\n",
              "         0.00000000e+00,  0.00000000e+00,  0.00000000e+00,\n",
              "         0.00000000e+00],\n",
              "       [-9.40026318e-01, -8.27708696e-01, -6.69718351e-01,\n",
              "        -4.85567490e-01, -3.07872617e-01, -1.66960899e-01,\n",
              "        -7.57751528e-02,  0.00000000e+00,  0.00000000e+00,\n",
              "         0.00000000e+00,  0.00000000e+00,  0.00000000e+00,\n",
              "         0.00000000e+00,  0.00000000e+00,  0.00000000e+00,\n",
              "         0.00000000e+00,  0.00000000e+00,  0.00000000e+00,\n",
              "         0.00000000e+00,  0.00000000e+00,  0.00000000e+00,\n",
              "         0.00000000e+00,  0.00000000e+00,  0.00000000e+00,\n",
              "         0.00000000e+00],\n",
              "       [-9.84351452e-01, -8.98198326e-01, -7.61190235e-01,\n",
              "        -5.83399711e-01, -3.93246835e-01, -2.27308119e-01,\n",
              "        -1.10013455e-01, -4.34657309e-02,  0.00000000e+00,\n",
              "         0.00000000e+00,  0.00000000e+00,  0.00000000e+00,\n",
              "         0.00000000e+00,  0.00000000e+00,  0.00000000e+00,\n",
              "         0.00000000e+00,  0.00000000e+00,  0.00000000e+00,\n",
              "         0.00000000e+00,  0.00000000e+00,  0.00000000e+00,\n",
              "         0.00000000e+00,  0.00000000e+00,  0.00000000e+00,\n",
              "         0.00000000e+00],\n",
              "       [-1.00000000e+00, -9.55351380e-01, -8.44265099e-01,\n",
              "        -6.82795552e-01, -4.89603525e-01, -3.02318584e-01,\n",
              "        -1.56523512e-01, -6.61236315e-02, -2.20843064e-02,\n",
              "         0.00000000e+00,  0.00000000e+00,  0.00000000e+00,\n",
              "         0.00000000e+00,  0.00000000e+00,  0.00000000e+00,\n",
              "         0.00000000e+00,  0.00000000e+00,  0.00000000e+00,\n",
              "         0.00000000e+00,  0.00000000e+00,  0.00000000e+00,\n",
              "         0.00000000e+00,  0.00000000e+00,  0.00000000e+00,\n",
              "         0.00000000e+00],\n",
              "       [-1.00000000e+00, -9.91904243e-01, -9.14662175e-01,\n",
              "        -7.77833977e-01, -5.93111299e-01, -3.91927060e-01,\n",
              "        -2.17758373e-01, -9.87384343e-02, -3.53462461e-02,\n",
              "        -9.56950354e-03,  0.00000000e+00,  0.00000000e+00,\n",
              "         0.00000000e+00,  0.00000000e+00,  0.00000000e+00,\n",
              "         0.00000000e+00,  0.00000000e+00,  0.00000000e+00,\n",
              "         0.00000000e+00,  0.00000000e+00,  0.00000000e+00,\n",
              "         0.00000000e+00,  0.00000000e+00,  0.00000000e+00,\n",
              "         0.00000000e+00],\n",
              "       [-1.00000000e+00, -1.00000000e+00, -9.70031462e-01,\n",
              "        -8.62412223e-01, -6.98020609e-01, -4.94112255e-01,\n",
              "        -2.95498663e-01, -1.44397731e-01, -5.56514414e-02,\n",
              "        -1.61849829e-02, -3.32671992e-03,  0.00000000e+00,\n",
              "         0.00000000e+00,  0.00000000e+00,  0.00000000e+00,\n",
              "         0.00000000e+00,  0.00000000e+00,  0.00000000e+00,\n",
              "         0.00000000e+00,  0.00000000e+00,  0.00000000e+00,\n",
              "         0.00000000e+00,  0.00000000e+00,  0.00000000e+00,\n",
              "         0.00000000e+00],\n",
              "       [-1.00000000e+00, -1.00000000e+00, -9.98156517e-01,\n",
              "        -9.31469827e-01, -7.97245111e-01, -6.04386109e-01,\n",
              "        -3.90050890e-01, -2.06273217e-01, -8.60081196e-02,\n",
              "        -2.70049648e-02, -5.97456531e-03, -8.28045962e-04,\n",
              "         0.00000000e+00,  0.00000000e+00,  0.00000000e+00,\n",
              "         0.00000000e+00,  0.00000000e+00,  0.00000000e+00,\n",
              "         0.00000000e+00,  0.00000000e+00,  0.00000000e+00,\n",
              "         0.00000000e+00,  0.00000000e+00,  0.00000000e+00,\n",
              "         0.00000000e+00],\n",
              "       [-1.00000000e+00, -1.00000000e+00, -1.00000000e+00,\n",
              "        -9.82183775e-01, -8.83612947e-01, -7.15742972e-01,\n",
              "        -4.99302749e-01, -2.86953944e-01, -1.30137792e-01,\n",
              "        -4.43645765e-02, -1.06233402e-02, -1.58768807e-03,\n",
              "        -1.11199745e-04,  0.00000000e+00,  0.00000000e+00,\n",
              "         0.00000000e+00,  0.00000000e+00,  0.00000000e+00,\n",
              "         0.00000000e+00,  0.00000000e+00,  0.00000000e+00,\n",
              "         0.00000000e+00,  0.00000000e+00,  0.00000000e+00,\n",
              "         0.00000000e+00],\n",
              "       [-1.00000000e+00, -1.00000000e+00, -1.00000000e+00,\n",
              "        -1.00000000e+00, -9.51632573e-01, -8.19425337e-01,\n",
              "        -6.17901752e-01, -3.87385247e-01, -1.92180630e-01,\n",
              "        -7.15902566e-02, -1.86727072e-02, -3.02744973e-03,\n",
              "        -2.29038142e-04,  0.00000000e+00,  0.00000000e+00,\n",
              "         0.00000000e+00,  0.00000000e+00,  0.00000000e+00,\n",
              "         0.00000000e+00,  0.00000000e+00,  0.00000000e+00,\n",
              "         0.00000000e+00,  0.00000000e+00,  0.00000000e+00,\n",
              "         0.00000000e+00],\n",
              "       [-1.00000000e+00, -1.00000000e+00, -1.00000000e+00,\n",
              "        -1.00000000e+00, -9.92530111e-01, -9.06737566e-01,\n",
              "        -7.37032009e-01, -5.05482926e-01, -2.75940828e-01,\n",
              "        -1.13139224e-01, -3.23820298e-02, -5.73572545e-03,\n",
              "        -4.71749917e-04,  0.00000000e+00,  0.00000000e+00,\n",
              "         0.00000000e+00,  0.00000000e+00,  0.00000000e+00,\n",
              "         0.00000000e+00,  0.00000000e+00,  0.00000000e+00,\n",
              "         0.00000000e+00,  0.00000000e+00,  0.00000000e+00,\n",
              "         0.00000000e+00],\n",
              "       [-1.00000000e+00, -1.00000000e+00, -1.00000000e+00,\n",
              "        -1.00000000e+00, -1.00000000e+00, -9.71742363e-01,\n",
              "        -8.45394940e-01, -6.34773912e-01, -3.83475796e-01,\n",
              "        -1.74464048e-01, -5.52692520e-02, -1.07842031e-02,\n",
              "        -9.71663419e-04,  0.00000000e+00,  0.00000000e+00,\n",
              "         0.00000000e+00,  0.00000000e+00,  0.00000000e+00,\n",
              "         0.00000000e+00,  0.00000000e+00,  0.00000000e+00,\n",
              "         0.00000000e+00,  0.00000000e+00,  0.00000000e+00,\n",
              "         0.00000000e+00],\n",
              "       [-1.00000000e+00, -1.00000000e+00, -1.00000000e+00,\n",
              "        -1.00000000e+00, -1.00000000e+00, -1.00000000e+00,\n",
              "        -9.31815235e-01, -7.63843297e-01, -5.12975897e-01,\n",
              "        -2.61271331e-01, -9.25472194e-02, -2.00914103e-02,\n",
              "        -2.00133538e-03,  0.00000000e+00,  0.00000000e+00,\n",
              "         0.00000000e+00,  0.00000000e+00,  0.00000000e+00,\n",
              "         0.00000000e+00,  0.00000000e+00,  0.00000000e+00,\n",
              "         0.00000000e+00,  0.00000000e+00,  0.00000000e+00,\n",
              "         0.00000000e+00],\n",
              "       [-1.00000000e+00, -1.00000000e+00, -1.00000000e+00,\n",
              "        -1.00000000e+00, -1.00000000e+00, -1.00000000e+00,\n",
              "        -9.87675237e-01, -8.77784813e-01, -6.56320894e-01,\n",
              "        -3.77706516e-01, -1.51395745e-01, -3.70140382e-02,\n",
              "        -4.12215097e-03,  0.00000000e+00,  0.00000000e+00,\n",
              "         0.00000000e+00,  0.00000000e+00,  0.00000000e+00,\n",
              "         0.00000000e+00,  0.00000000e+00,  0.00000000e+00,\n",
              "         0.00000000e+00,  0.00000000e+00,  0.00000000e+00,\n",
              "         0.00000000e+00],\n",
              "       [-1.00000000e+00, -1.00000000e+00, -1.00000000e+00,\n",
              "        -1.00000000e+00, -1.00000000e+00, -1.00000000e+00,\n",
              "        -1.00000000e+00, -9.62783373e-01, -7.97574810e-01,\n",
              "        -5.23024788e-01, -2.40575026e-01, -6.72405495e-02,\n",
              "        -8.49039535e-03,  0.00000000e+00,  0.00000000e+00,\n",
              "         0.00000000e+00,  0.00000000e+00,  0.00000000e+00,\n",
              "         0.00000000e+00,  0.00000000e+00,  0.00000000e+00,\n",
              "         0.00000000e+00,  0.00000000e+00,  0.00000000e+00,\n",
              "         0.00000000e+00],\n",
              "       [-1.00000000e+00, -1.00000000e+00, -1.00000000e+00,\n",
              "        -1.00000000e+00, -1.00000000e+00, -1.00000000e+00,\n",
              "        -1.00000000e+00, -1.00000000e+00, -9.14862648e-01,\n",
              "        -6.86894607e-01, -3.68386890e-01, -1.19963689e-01,\n",
              "        -1.74876694e-02,  0.00000000e+00,  0.00000000e+00,\n",
              "         0.00000000e+00,  0.00000000e+00,  0.00000000e+00,\n",
              "         0.00000000e+00,  0.00000000e+00,  0.00000000e+00,\n",
              "         0.00000000e+00,  0.00000000e+00,  0.00000000e+00,\n",
              "         0.00000000e+00],\n",
              "       [-1.00000000e+00, -1.00000000e+00, -1.00000000e+00,\n",
              "        -1.00000000e+00, -1.00000000e+00, -1.00000000e+00,\n",
              "        -1.00000000e+00, -1.00000000e+00, -9.87642320e-01,\n",
              "        -8.45341098e-01, -5.37374503e-01, -2.08919517e-01,\n",
              "        -3.60193569e-02,  0.00000000e+00,  0.00000000e+00,\n",
              "         0.00000000e+00,  0.00000000e+00,  0.00000000e+00,\n",
              "         0.00000000e+00,  0.00000000e+00,  0.00000000e+00,\n",
              "         0.00000000e+00,  0.00000000e+00,  0.00000000e+00,\n",
              "         0.00000000e+00],\n",
              "       [-1.00000000e+00, -1.00000000e+00, -1.00000000e+00,\n",
              "        -1.00000000e+00, -1.00000000e+00, -1.00000000e+00,\n",
              "        -1.00000000e+00, -1.00000000e+00, -1.00000000e+00,\n",
              "        -9.63180064e-01, -7.34140816e-01, -3.51693397e-01,\n",
              "        -7.41890781e-02,  0.00000000e+00,  0.00000000e+00,\n",
              "         0.00000000e+00,  0.00000000e+00,  0.00000000e+00,\n",
              "         0.00000000e+00,  0.00000000e+00,  0.00000000e+00,\n",
              "         0.00000000e+00,  0.00000000e+00,  0.00000000e+00,\n",
              "         0.00000000e+00],\n",
              "       [-1.00000000e+00, -1.00000000e+00, -1.00000000e+00,\n",
              "        -1.00000000e+00, -1.00000000e+00, -1.00000000e+00,\n",
              "        -1.00000000e+00, -1.00000000e+00, -1.00000000e+00,\n",
              "        -1.00000000e+00, -9.16078350e-01, -5.62453082e-01,\n",
              "        -1.52807262e-01,  0.00000000e+00,  0.00000000e+00,\n",
              "         0.00000000e+00,  0.00000000e+00,  0.00000000e+00,\n",
              "         0.00000000e+00,  0.00000000e+00,  0.00000000e+00,\n",
              "         0.00000000e+00,  0.00000000e+00,  0.00000000e+00,\n",
              "         0.00000000e+00],\n",
              "       [-1.00000000e+00, -1.00000000e+00, -1.00000000e+00,\n",
              "        -1.00000000e+00, -1.00000000e+00, -1.00000000e+00,\n",
              "        -1.00000000e+00, -1.00000000e+00, -1.00000000e+00,\n",
              "        -1.00000000e+00, -1.00000000e+00, -8.24957709e-01,\n",
              "        -3.14737155e-01,  0.00000000e+00,  0.00000000e+00,\n",
              "         0.00000000e+00,  0.00000000e+00,  0.00000000e+00,\n",
              "         0.00000000e+00,  0.00000000e+00,  0.00000000e+00,\n",
              "         0.00000000e+00,  0.00000000e+00,  0.00000000e+00,\n",
              "         0.00000000e+00],\n",
              "       [-1.00000000e+00, -1.00000000e+00, -1.00000000e+00,\n",
              "        -1.00000000e+00, -1.00000000e+00, -1.00000000e+00,\n",
              "        -1.00000000e+00, -1.00000000e+00, -1.00000000e+00,\n",
              "        -1.00000000e+00, -1.00000000e+00, -1.00000000e+00,\n",
              "        -6.48264194e-01,  0.00000000e+00,  0.00000000e+00,\n",
              "         0.00000000e+00,  0.00000000e+00,  0.00000000e+00,\n",
              "         0.00000000e+00,  0.00000000e+00,  0.00000000e+00,\n",
              "         0.00000000e+00,  0.00000000e+00,  0.00000000e+00,\n",
              "         0.00000000e+00]])"
            ]
          },
          "execution_count": 24,
          "metadata": {},
          "output_type": "execute_result"
        }
      ],
      "source": [
        "N = 25\n",
        "option_value, C, S, delta = american_option(S0, K, T, r, sigma, N, \"P\")\n",
        "\n",
        "delta # for each node and step:"
      ]
    },
    {
      "cell_type": "code",
      "execution_count": null,
      "metadata": {
        "colab": {
          "base_uri": "https://localhost:8080/",
          "height": 862
        },
        "id": "OUXOPaaPXZak",
        "outputId": "ddde1cb0-4063-4d01-cf0d-8807945e762e"
      },
      "outputs": [
        {
          "data": {
            "text/html": [
              "\n",
              "  <div id=\"df-a7db9174-1266-473a-8ba4-0cc075dfc475\">\n",
              "    <div class=\"colab-df-container\">\n",
              "      <div>\n",
              "<style scoped>\n",
              "    .dataframe tbody tr th:only-of-type {\n",
              "        vertical-align: middle;\n",
              "    }\n",
              "\n",
              "    .dataframe tbody tr th {\n",
              "        vertical-align: top;\n",
              "    }\n",
              "\n",
              "    .dataframe thead th {\n",
              "        text-align: right;\n",
              "    }\n",
              "</style>\n",
              "<table border=\"1\" class=\"dataframe\">\n",
              "  <thead>\n",
              "    <tr style=\"text-align: right;\">\n",
              "      <th></th>\n",
              "      <th>0</th>\n",
              "      <th>1</th>\n",
              "      <th>2</th>\n",
              "      <th>3</th>\n",
              "      <th>4</th>\n",
              "      <th>5</th>\n",
              "      <th>6</th>\n",
              "      <th>7</th>\n",
              "      <th>8</th>\n",
              "      <th>9</th>\n",
              "      <th>...</th>\n",
              "      <th>15</th>\n",
              "      <th>16</th>\n",
              "      <th>17</th>\n",
              "      <th>18</th>\n",
              "      <th>19</th>\n",
              "      <th>20</th>\n",
              "      <th>21</th>\n",
              "      <th>22</th>\n",
              "      <th>23</th>\n",
              "      <th>24</th>\n",
              "    </tr>\n",
              "  </thead>\n",
              "  <tbody>\n",
              "    <tr>\n",
              "      <th>0</th>\n",
              "      <td>-0.475557</td>\n",
              "      <td>0.000000</td>\n",
              "      <td>0.000000</td>\n",
              "      <td>0.000000</td>\n",
              "      <td>0.000000</td>\n",
              "      <td>0.000000</td>\n",
              "      <td>0.000000</td>\n",
              "      <td>0.000000</td>\n",
              "      <td>0.000000</td>\n",
              "      <td>0.000000</td>\n",
              "      <td>...</td>\n",
              "      <td>0.0</td>\n",
              "      <td>0.0</td>\n",
              "      <td>0.0</td>\n",
              "      <td>0.0</td>\n",
              "      <td>0.0</td>\n",
              "      <td>0.0</td>\n",
              "      <td>0.0</td>\n",
              "      <td>0.0</td>\n",
              "      <td>0.0</td>\n",
              "      <td>0.0</td>\n",
              "    </tr>\n",
              "    <tr>\n",
              "      <th>1</th>\n",
              "      <td>-0.560806</td>\n",
              "      <td>-0.395110</td>\n",
              "      <td>0.000000</td>\n",
              "      <td>0.000000</td>\n",
              "      <td>0.000000</td>\n",
              "      <td>0.000000</td>\n",
              "      <td>0.000000</td>\n",
              "      <td>0.000000</td>\n",
              "      <td>0.000000</td>\n",
              "      <td>0.000000</td>\n",
              "      <td>...</td>\n",
              "      <td>0.0</td>\n",
              "      <td>0.0</td>\n",
              "      <td>0.0</td>\n",
              "      <td>0.0</td>\n",
              "      <td>0.0</td>\n",
              "      <td>0.0</td>\n",
              "      <td>0.0</td>\n",
              "      <td>0.0</td>\n",
              "      <td>0.0</td>\n",
              "      <td>0.0</td>\n",
              "    </tr>\n",
              "    <tr>\n",
              "      <th>2</th>\n",
              "      <td>-0.647889</td>\n",
              "      <td>-0.478628</td>\n",
              "      <td>-0.316298</td>\n",
              "      <td>0.000000</td>\n",
              "      <td>0.000000</td>\n",
              "      <td>0.000000</td>\n",
              "      <td>0.000000</td>\n",
              "      <td>0.000000</td>\n",
              "      <td>0.000000</td>\n",
              "      <td>0.000000</td>\n",
              "      <td>...</td>\n",
              "      <td>0.0</td>\n",
              "      <td>0.0</td>\n",
              "      <td>0.0</td>\n",
              "      <td>0.0</td>\n",
              "      <td>0.0</td>\n",
              "      <td>0.0</td>\n",
              "      <td>0.0</td>\n",
              "      <td>0.0</td>\n",
              "      <td>0.0</td>\n",
              "      <td>0.0</td>\n",
              "    </tr>\n",
              "    <tr>\n",
              "      <th>3</th>\n",
              "      <td>-0.733055</td>\n",
              "      <td>-0.567522</td>\n",
              "      <td>-0.394743</td>\n",
              "      <td>-0.242272</td>\n",
              "      <td>0.000000</td>\n",
              "      <td>0.000000</td>\n",
              "      <td>0.000000</td>\n",
              "      <td>0.000000</td>\n",
              "      <td>0.000000</td>\n",
              "      <td>0.000000</td>\n",
              "      <td>...</td>\n",
              "      <td>0.0</td>\n",
              "      <td>0.0</td>\n",
              "      <td>0.0</td>\n",
              "      <td>0.0</td>\n",
              "      <td>0.0</td>\n",
              "      <td>0.0</td>\n",
              "      <td>0.0</td>\n",
              "      <td>0.0</td>\n",
              "      <td>0.0</td>\n",
              "      <td>0.0</td>\n",
              "    </tr>\n",
              "    <tr>\n",
              "      <th>4</th>\n",
              "      <td>-0.812363</td>\n",
              "      <td>-0.658214</td>\n",
              "      <td>-0.481939</td>\n",
              "      <td>-0.312459</td>\n",
              "      <td>-0.176039</td>\n",
              "      <td>0.000000</td>\n",
              "      <td>0.000000</td>\n",
              "      <td>0.000000</td>\n",
              "      <td>0.000000</td>\n",
              "      <td>0.000000</td>\n",
              "      <td>...</td>\n",
              "      <td>0.0</td>\n",
              "      <td>0.0</td>\n",
              "      <td>0.0</td>\n",
              "      <td>0.0</td>\n",
              "      <td>0.0</td>\n",
              "      <td>0.0</td>\n",
              "      <td>0.0</td>\n",
              "      <td>0.0</td>\n",
              "      <td>0.0</td>\n",
              "      <td>0.0</td>\n",
              "    </tr>\n",
              "    <tr>\n",
              "      <th>5</th>\n",
              "      <td>-0.882240</td>\n",
              "      <td>-0.746424</td>\n",
              "      <td>-0.574974</td>\n",
              "      <td>-0.394145</td>\n",
              "      <td>-0.235375</td>\n",
              "      <td>-0.120047</td>\n",
              "      <td>0.000000</td>\n",
              "      <td>0.000000</td>\n",
              "      <td>0.000000</td>\n",
              "      <td>0.000000</td>\n",
              "      <td>...</td>\n",
              "      <td>0.0</td>\n",
              "      <td>0.0</td>\n",
              "      <td>0.0</td>\n",
              "      <td>0.0</td>\n",
              "      <td>0.0</td>\n",
              "      <td>0.0</td>\n",
              "      <td>0.0</td>\n",
              "      <td>0.0</td>\n",
              "      <td>0.0</td>\n",
              "      <td>0.0</td>\n",
              "    </tr>\n",
              "    <tr>\n",
              "      <th>6</th>\n",
              "      <td>-0.940026</td>\n",
              "      <td>-0.827709</td>\n",
              "      <td>-0.669718</td>\n",
              "      <td>-0.485567</td>\n",
              "      <td>-0.307873</td>\n",
              "      <td>-0.166961</td>\n",
              "      <td>-0.075775</td>\n",
              "      <td>0.000000</td>\n",
              "      <td>0.000000</td>\n",
              "      <td>0.000000</td>\n",
              "      <td>...</td>\n",
              "      <td>0.0</td>\n",
              "      <td>0.0</td>\n",
              "      <td>0.0</td>\n",
              "      <td>0.0</td>\n",
              "      <td>0.0</td>\n",
              "      <td>0.0</td>\n",
              "      <td>0.0</td>\n",
              "      <td>0.0</td>\n",
              "      <td>0.0</td>\n",
              "      <td>0.0</td>\n",
              "    </tr>\n",
              "    <tr>\n",
              "      <th>7</th>\n",
              "      <td>-0.984351</td>\n",
              "      <td>-0.898198</td>\n",
              "      <td>-0.761190</td>\n",
              "      <td>-0.583400</td>\n",
              "      <td>-0.393247</td>\n",
              "      <td>-0.227308</td>\n",
              "      <td>-0.110013</td>\n",
              "      <td>-0.043466</td>\n",
              "      <td>0.000000</td>\n",
              "      <td>0.000000</td>\n",
              "      <td>...</td>\n",
              "      <td>0.0</td>\n",
              "      <td>0.0</td>\n",
              "      <td>0.0</td>\n",
              "      <td>0.0</td>\n",
              "      <td>0.0</td>\n",
              "      <td>0.0</td>\n",
              "      <td>0.0</td>\n",
              "      <td>0.0</td>\n",
              "      <td>0.0</td>\n",
              "      <td>0.0</td>\n",
              "    </tr>\n",
              "    <tr>\n",
              "      <th>8</th>\n",
              "      <td>-1.000000</td>\n",
              "      <td>-0.955351</td>\n",
              "      <td>-0.844265</td>\n",
              "      <td>-0.682796</td>\n",
              "      <td>-0.489604</td>\n",
              "      <td>-0.302319</td>\n",
              "      <td>-0.156524</td>\n",
              "      <td>-0.066124</td>\n",
              "      <td>-0.022084</td>\n",
              "      <td>0.000000</td>\n",
              "      <td>...</td>\n",
              "      <td>0.0</td>\n",
              "      <td>0.0</td>\n",
              "      <td>0.0</td>\n",
              "      <td>0.0</td>\n",
              "      <td>0.0</td>\n",
              "      <td>0.0</td>\n",
              "      <td>0.0</td>\n",
              "      <td>0.0</td>\n",
              "      <td>0.0</td>\n",
              "      <td>0.0</td>\n",
              "    </tr>\n",
              "    <tr>\n",
              "      <th>9</th>\n",
              "      <td>-1.000000</td>\n",
              "      <td>-0.991904</td>\n",
              "      <td>-0.914662</td>\n",
              "      <td>-0.777834</td>\n",
              "      <td>-0.593111</td>\n",
              "      <td>-0.391927</td>\n",
              "      <td>-0.217758</td>\n",
              "      <td>-0.098738</td>\n",
              "      <td>-0.035346</td>\n",
              "      <td>-0.009570</td>\n",
              "      <td>...</td>\n",
              "      <td>0.0</td>\n",
              "      <td>0.0</td>\n",
              "      <td>0.0</td>\n",
              "      <td>0.0</td>\n",
              "      <td>0.0</td>\n",
              "      <td>0.0</td>\n",
              "      <td>0.0</td>\n",
              "      <td>0.0</td>\n",
              "      <td>0.0</td>\n",
              "      <td>0.0</td>\n",
              "    </tr>\n",
              "    <tr>\n",
              "      <th>10</th>\n",
              "      <td>-1.000000</td>\n",
              "      <td>-1.000000</td>\n",
              "      <td>-0.970031</td>\n",
              "      <td>-0.862412</td>\n",
              "      <td>-0.698021</td>\n",
              "      <td>-0.494112</td>\n",
              "      <td>-0.295499</td>\n",
              "      <td>-0.144398</td>\n",
              "      <td>-0.055651</td>\n",
              "      <td>-0.016185</td>\n",
              "      <td>...</td>\n",
              "      <td>0.0</td>\n",
              "      <td>0.0</td>\n",
              "      <td>0.0</td>\n",
              "      <td>0.0</td>\n",
              "      <td>0.0</td>\n",
              "      <td>0.0</td>\n",
              "      <td>0.0</td>\n",
              "      <td>0.0</td>\n",
              "      <td>0.0</td>\n",
              "      <td>0.0</td>\n",
              "    </tr>\n",
              "    <tr>\n",
              "      <th>11</th>\n",
              "      <td>-1.000000</td>\n",
              "      <td>-1.000000</td>\n",
              "      <td>-0.998157</td>\n",
              "      <td>-0.931470</td>\n",
              "      <td>-0.797245</td>\n",
              "      <td>-0.604386</td>\n",
              "      <td>-0.390051</td>\n",
              "      <td>-0.206273</td>\n",
              "      <td>-0.086008</td>\n",
              "      <td>-0.027005</td>\n",
              "      <td>...</td>\n",
              "      <td>0.0</td>\n",
              "      <td>0.0</td>\n",
              "      <td>0.0</td>\n",
              "      <td>0.0</td>\n",
              "      <td>0.0</td>\n",
              "      <td>0.0</td>\n",
              "      <td>0.0</td>\n",
              "      <td>0.0</td>\n",
              "      <td>0.0</td>\n",
              "      <td>0.0</td>\n",
              "    </tr>\n",
              "    <tr>\n",
              "      <th>12</th>\n",
              "      <td>-1.000000</td>\n",
              "      <td>-1.000000</td>\n",
              "      <td>-1.000000</td>\n",
              "      <td>-0.982184</td>\n",
              "      <td>-0.883613</td>\n",
              "      <td>-0.715743</td>\n",
              "      <td>-0.499303</td>\n",
              "      <td>-0.286954</td>\n",
              "      <td>-0.130138</td>\n",
              "      <td>-0.044365</td>\n",
              "      <td>...</td>\n",
              "      <td>0.0</td>\n",
              "      <td>0.0</td>\n",
              "      <td>0.0</td>\n",
              "      <td>0.0</td>\n",
              "      <td>0.0</td>\n",
              "      <td>0.0</td>\n",
              "      <td>0.0</td>\n",
              "      <td>0.0</td>\n",
              "      <td>0.0</td>\n",
              "      <td>0.0</td>\n",
              "    </tr>\n",
              "    <tr>\n",
              "      <th>13</th>\n",
              "      <td>-1.000000</td>\n",
              "      <td>-1.000000</td>\n",
              "      <td>-1.000000</td>\n",
              "      <td>-1.000000</td>\n",
              "      <td>-0.951633</td>\n",
              "      <td>-0.819425</td>\n",
              "      <td>-0.617902</td>\n",
              "      <td>-0.387385</td>\n",
              "      <td>-0.192181</td>\n",
              "      <td>-0.071590</td>\n",
              "      <td>...</td>\n",
              "      <td>0.0</td>\n",
              "      <td>0.0</td>\n",
              "      <td>0.0</td>\n",
              "      <td>0.0</td>\n",
              "      <td>0.0</td>\n",
              "      <td>0.0</td>\n",
              "      <td>0.0</td>\n",
              "      <td>0.0</td>\n",
              "      <td>0.0</td>\n",
              "      <td>0.0</td>\n",
              "    </tr>\n",
              "    <tr>\n",
              "      <th>14</th>\n",
              "      <td>-1.000000</td>\n",
              "      <td>-1.000000</td>\n",
              "      <td>-1.000000</td>\n",
              "      <td>-1.000000</td>\n",
              "      <td>-0.992530</td>\n",
              "      <td>-0.906738</td>\n",
              "      <td>-0.737032</td>\n",
              "      <td>-0.505483</td>\n",
              "      <td>-0.275941</td>\n",
              "      <td>-0.113139</td>\n",
              "      <td>...</td>\n",
              "      <td>0.0</td>\n",
              "      <td>0.0</td>\n",
              "      <td>0.0</td>\n",
              "      <td>0.0</td>\n",
              "      <td>0.0</td>\n",
              "      <td>0.0</td>\n",
              "      <td>0.0</td>\n",
              "      <td>0.0</td>\n",
              "      <td>0.0</td>\n",
              "      <td>0.0</td>\n",
              "    </tr>\n",
              "    <tr>\n",
              "      <th>15</th>\n",
              "      <td>-1.000000</td>\n",
              "      <td>-1.000000</td>\n",
              "      <td>-1.000000</td>\n",
              "      <td>-1.000000</td>\n",
              "      <td>-1.000000</td>\n",
              "      <td>-0.971742</td>\n",
              "      <td>-0.845395</td>\n",
              "      <td>-0.634774</td>\n",
              "      <td>-0.383476</td>\n",
              "      <td>-0.174464</td>\n",
              "      <td>...</td>\n",
              "      <td>0.0</td>\n",
              "      <td>0.0</td>\n",
              "      <td>0.0</td>\n",
              "      <td>0.0</td>\n",
              "      <td>0.0</td>\n",
              "      <td>0.0</td>\n",
              "      <td>0.0</td>\n",
              "      <td>0.0</td>\n",
              "      <td>0.0</td>\n",
              "      <td>0.0</td>\n",
              "    </tr>\n",
              "    <tr>\n",
              "      <th>16</th>\n",
              "      <td>-1.000000</td>\n",
              "      <td>-1.000000</td>\n",
              "      <td>-1.000000</td>\n",
              "      <td>-1.000000</td>\n",
              "      <td>-1.000000</td>\n",
              "      <td>-1.000000</td>\n",
              "      <td>-0.931815</td>\n",
              "      <td>-0.763843</td>\n",
              "      <td>-0.512976</td>\n",
              "      <td>-0.261271</td>\n",
              "      <td>...</td>\n",
              "      <td>0.0</td>\n",
              "      <td>0.0</td>\n",
              "      <td>0.0</td>\n",
              "      <td>0.0</td>\n",
              "      <td>0.0</td>\n",
              "      <td>0.0</td>\n",
              "      <td>0.0</td>\n",
              "      <td>0.0</td>\n",
              "      <td>0.0</td>\n",
              "      <td>0.0</td>\n",
              "    </tr>\n",
              "    <tr>\n",
              "      <th>17</th>\n",
              "      <td>-1.000000</td>\n",
              "      <td>-1.000000</td>\n",
              "      <td>-1.000000</td>\n",
              "      <td>-1.000000</td>\n",
              "      <td>-1.000000</td>\n",
              "      <td>-1.000000</td>\n",
              "      <td>-0.987675</td>\n",
              "      <td>-0.877785</td>\n",
              "      <td>-0.656321</td>\n",
              "      <td>-0.377707</td>\n",
              "      <td>...</td>\n",
              "      <td>0.0</td>\n",
              "      <td>0.0</td>\n",
              "      <td>0.0</td>\n",
              "      <td>0.0</td>\n",
              "      <td>0.0</td>\n",
              "      <td>0.0</td>\n",
              "      <td>0.0</td>\n",
              "      <td>0.0</td>\n",
              "      <td>0.0</td>\n",
              "      <td>0.0</td>\n",
              "    </tr>\n",
              "    <tr>\n",
              "      <th>18</th>\n",
              "      <td>-1.000000</td>\n",
              "      <td>-1.000000</td>\n",
              "      <td>-1.000000</td>\n",
              "      <td>-1.000000</td>\n",
              "      <td>-1.000000</td>\n",
              "      <td>-1.000000</td>\n",
              "      <td>-1.000000</td>\n",
              "      <td>-0.962783</td>\n",
              "      <td>-0.797575</td>\n",
              "      <td>-0.523025</td>\n",
              "      <td>...</td>\n",
              "      <td>0.0</td>\n",
              "      <td>0.0</td>\n",
              "      <td>0.0</td>\n",
              "      <td>0.0</td>\n",
              "      <td>0.0</td>\n",
              "      <td>0.0</td>\n",
              "      <td>0.0</td>\n",
              "      <td>0.0</td>\n",
              "      <td>0.0</td>\n",
              "      <td>0.0</td>\n",
              "    </tr>\n",
              "    <tr>\n",
              "      <th>19</th>\n",
              "      <td>-1.000000</td>\n",
              "      <td>-1.000000</td>\n",
              "      <td>-1.000000</td>\n",
              "      <td>-1.000000</td>\n",
              "      <td>-1.000000</td>\n",
              "      <td>-1.000000</td>\n",
              "      <td>-1.000000</td>\n",
              "      <td>-1.000000</td>\n",
              "      <td>-0.914863</td>\n",
              "      <td>-0.686895</td>\n",
              "      <td>...</td>\n",
              "      <td>0.0</td>\n",
              "      <td>0.0</td>\n",
              "      <td>0.0</td>\n",
              "      <td>0.0</td>\n",
              "      <td>0.0</td>\n",
              "      <td>0.0</td>\n",
              "      <td>0.0</td>\n",
              "      <td>0.0</td>\n",
              "      <td>0.0</td>\n",
              "      <td>0.0</td>\n",
              "    </tr>\n",
              "    <tr>\n",
              "      <th>20</th>\n",
              "      <td>-1.000000</td>\n",
              "      <td>-1.000000</td>\n",
              "      <td>-1.000000</td>\n",
              "      <td>-1.000000</td>\n",
              "      <td>-1.000000</td>\n",
              "      <td>-1.000000</td>\n",
              "      <td>-1.000000</td>\n",
              "      <td>-1.000000</td>\n",
              "      <td>-0.987642</td>\n",
              "      <td>-0.845341</td>\n",
              "      <td>...</td>\n",
              "      <td>0.0</td>\n",
              "      <td>0.0</td>\n",
              "      <td>0.0</td>\n",
              "      <td>0.0</td>\n",
              "      <td>0.0</td>\n",
              "      <td>0.0</td>\n",
              "      <td>0.0</td>\n",
              "      <td>0.0</td>\n",
              "      <td>0.0</td>\n",
              "      <td>0.0</td>\n",
              "    </tr>\n",
              "    <tr>\n",
              "      <th>21</th>\n",
              "      <td>-1.000000</td>\n",
              "      <td>-1.000000</td>\n",
              "      <td>-1.000000</td>\n",
              "      <td>-1.000000</td>\n",
              "      <td>-1.000000</td>\n",
              "      <td>-1.000000</td>\n",
              "      <td>-1.000000</td>\n",
              "      <td>-1.000000</td>\n",
              "      <td>-1.000000</td>\n",
              "      <td>-0.963180</td>\n",
              "      <td>...</td>\n",
              "      <td>0.0</td>\n",
              "      <td>0.0</td>\n",
              "      <td>0.0</td>\n",
              "      <td>0.0</td>\n",
              "      <td>0.0</td>\n",
              "      <td>0.0</td>\n",
              "      <td>0.0</td>\n",
              "      <td>0.0</td>\n",
              "      <td>0.0</td>\n",
              "      <td>0.0</td>\n",
              "    </tr>\n",
              "    <tr>\n",
              "      <th>22</th>\n",
              "      <td>-1.000000</td>\n",
              "      <td>-1.000000</td>\n",
              "      <td>-1.000000</td>\n",
              "      <td>-1.000000</td>\n",
              "      <td>-1.000000</td>\n",
              "      <td>-1.000000</td>\n",
              "      <td>-1.000000</td>\n",
              "      <td>-1.000000</td>\n",
              "      <td>-1.000000</td>\n",
              "      <td>-1.000000</td>\n",
              "      <td>...</td>\n",
              "      <td>0.0</td>\n",
              "      <td>0.0</td>\n",
              "      <td>0.0</td>\n",
              "      <td>0.0</td>\n",
              "      <td>0.0</td>\n",
              "      <td>0.0</td>\n",
              "      <td>0.0</td>\n",
              "      <td>0.0</td>\n",
              "      <td>0.0</td>\n",
              "      <td>0.0</td>\n",
              "    </tr>\n",
              "    <tr>\n",
              "      <th>23</th>\n",
              "      <td>-1.000000</td>\n",
              "      <td>-1.000000</td>\n",
              "      <td>-1.000000</td>\n",
              "      <td>-1.000000</td>\n",
              "      <td>-1.000000</td>\n",
              "      <td>-1.000000</td>\n",
              "      <td>-1.000000</td>\n",
              "      <td>-1.000000</td>\n",
              "      <td>-1.000000</td>\n",
              "      <td>-1.000000</td>\n",
              "      <td>...</td>\n",
              "      <td>0.0</td>\n",
              "      <td>0.0</td>\n",
              "      <td>0.0</td>\n",
              "      <td>0.0</td>\n",
              "      <td>0.0</td>\n",
              "      <td>0.0</td>\n",
              "      <td>0.0</td>\n",
              "      <td>0.0</td>\n",
              "      <td>0.0</td>\n",
              "      <td>0.0</td>\n",
              "    </tr>\n",
              "    <tr>\n",
              "      <th>24</th>\n",
              "      <td>-1.000000</td>\n",
              "      <td>-1.000000</td>\n",
              "      <td>-1.000000</td>\n",
              "      <td>-1.000000</td>\n",
              "      <td>-1.000000</td>\n",
              "      <td>-1.000000</td>\n",
              "      <td>-1.000000</td>\n",
              "      <td>-1.000000</td>\n",
              "      <td>-1.000000</td>\n",
              "      <td>-1.000000</td>\n",
              "      <td>...</td>\n",
              "      <td>0.0</td>\n",
              "      <td>0.0</td>\n",
              "      <td>0.0</td>\n",
              "      <td>0.0</td>\n",
              "      <td>0.0</td>\n",
              "      <td>0.0</td>\n",
              "      <td>0.0</td>\n",
              "      <td>0.0</td>\n",
              "      <td>0.0</td>\n",
              "      <td>0.0</td>\n",
              "    </tr>\n",
              "  </tbody>\n",
              "</table>\n",
              "<p>25 rows × 25 columns</p>\n",
              "</div>\n",
              "      <button class=\"colab-df-convert\" onclick=\"convertToInteractive('df-a7db9174-1266-473a-8ba4-0cc075dfc475')\"\n",
              "              title=\"Convert this dataframe to an interactive table.\"\n",
              "              style=\"display:none;\">\n",
              "        \n",
              "  <svg xmlns=\"http://www.w3.org/2000/svg\" height=\"24px\"viewBox=\"0 0 24 24\"\n",
              "       width=\"24px\">\n",
              "    <path d=\"M0 0h24v24H0V0z\" fill=\"none\"/>\n",
              "    <path d=\"M18.56 5.44l.94 2.06.94-2.06 2.06-.94-2.06-.94-.94-2.06-.94 2.06-2.06.94zm-11 1L8.5 8.5l.94-2.06 2.06-.94-2.06-.94L8.5 2.5l-.94 2.06-2.06.94zm10 10l.94 2.06.94-2.06 2.06-.94-2.06-.94-.94-2.06-.94 2.06-2.06.94z\"/><path d=\"M17.41 7.96l-1.37-1.37c-.4-.4-.92-.59-1.43-.59-.52 0-1.04.2-1.43.59L10.3 9.45l-7.72 7.72c-.78.78-.78 2.05 0 2.83L4 21.41c.39.39.9.59 1.41.59.51 0 1.02-.2 1.41-.59l7.78-7.78 2.81-2.81c.8-.78.8-2.07 0-2.86zM5.41 20L4 18.59l7.72-7.72 1.47 1.35L5.41 20z\"/>\n",
              "  </svg>\n",
              "      </button>\n",
              "      \n",
              "  <style>\n",
              "    .colab-df-container {\n",
              "      display:flex;\n",
              "      flex-wrap:wrap;\n",
              "      gap: 12px;\n",
              "    }\n",
              "\n",
              "    .colab-df-convert {\n",
              "      background-color: #E8F0FE;\n",
              "      border: none;\n",
              "      border-radius: 50%;\n",
              "      cursor: pointer;\n",
              "      display: none;\n",
              "      fill: #1967D2;\n",
              "      height: 32px;\n",
              "      padding: 0 0 0 0;\n",
              "      width: 32px;\n",
              "    }\n",
              "\n",
              "    .colab-df-convert:hover {\n",
              "      background-color: #E2EBFA;\n",
              "      box-shadow: 0px 1px 2px rgba(60, 64, 67, 0.3), 0px 1px 3px 1px rgba(60, 64, 67, 0.15);\n",
              "      fill: #174EA6;\n",
              "    }\n",
              "\n",
              "    [theme=dark] .colab-df-convert {\n",
              "      background-color: #3B4455;\n",
              "      fill: #D2E3FC;\n",
              "    }\n",
              "\n",
              "    [theme=dark] .colab-df-convert:hover {\n",
              "      background-color: #434B5C;\n",
              "      box-shadow: 0px 1px 3px 1px rgba(0, 0, 0, 0.15);\n",
              "      filter: drop-shadow(0px 1px 2px rgba(0, 0, 0, 0.3));\n",
              "      fill: #FFFFFF;\n",
              "    }\n",
              "  </style>\n",
              "\n",
              "      <script>\n",
              "        const buttonEl =\n",
              "          document.querySelector('#df-a7db9174-1266-473a-8ba4-0cc075dfc475 button.colab-df-convert');\n",
              "        buttonEl.style.display =\n",
              "          google.colab.kernel.accessAllowed ? 'block' : 'none';\n",
              "\n",
              "        async function convertToInteractive(key) {\n",
              "          const element = document.querySelector('#df-a7db9174-1266-473a-8ba4-0cc075dfc475');\n",
              "          const dataTable =\n",
              "            await google.colab.kernel.invokeFunction('convertToInteractive',\n",
              "                                                     [key], {});\n",
              "          if (!dataTable) return;\n",
              "\n",
              "          const docLinkHtml = 'Like what you see? Visit the ' +\n",
              "            '<a target=\"_blank\" href=https://colab.research.google.com/notebooks/data_table.ipynb>data table notebook</a>'\n",
              "            + ' to learn more about interactive tables.';\n",
              "          element.innerHTML = '';\n",
              "          dataTable['output_type'] = 'display_data';\n",
              "          await google.colab.output.renderOutput(dataTable, element);\n",
              "          const docLink = document.createElement('div');\n",
              "          docLink.innerHTML = docLinkHtml;\n",
              "          element.appendChild(docLink);\n",
              "        }\n",
              "      </script>\n",
              "    </div>\n",
              "  </div>\n",
              "  "
            ],
            "text/plain": [
              "          0         1         2         3         4         5         6   \\\n",
              "0  -0.475557  0.000000  0.000000  0.000000  0.000000  0.000000  0.000000   \n",
              "1  -0.560806 -0.395110  0.000000  0.000000  0.000000  0.000000  0.000000   \n",
              "2  -0.647889 -0.478628 -0.316298  0.000000  0.000000  0.000000  0.000000   \n",
              "3  -0.733055 -0.567522 -0.394743 -0.242272  0.000000  0.000000  0.000000   \n",
              "4  -0.812363 -0.658214 -0.481939 -0.312459 -0.176039  0.000000  0.000000   \n",
              "5  -0.882240 -0.746424 -0.574974 -0.394145 -0.235375 -0.120047  0.000000   \n",
              "6  -0.940026 -0.827709 -0.669718 -0.485567 -0.307873 -0.166961 -0.075775   \n",
              "7  -0.984351 -0.898198 -0.761190 -0.583400 -0.393247 -0.227308 -0.110013   \n",
              "8  -1.000000 -0.955351 -0.844265 -0.682796 -0.489604 -0.302319 -0.156524   \n",
              "9  -1.000000 -0.991904 -0.914662 -0.777834 -0.593111 -0.391927 -0.217758   \n",
              "10 -1.000000 -1.000000 -0.970031 -0.862412 -0.698021 -0.494112 -0.295499   \n",
              "11 -1.000000 -1.000000 -0.998157 -0.931470 -0.797245 -0.604386 -0.390051   \n",
              "12 -1.000000 -1.000000 -1.000000 -0.982184 -0.883613 -0.715743 -0.499303   \n",
              "13 -1.000000 -1.000000 -1.000000 -1.000000 -0.951633 -0.819425 -0.617902   \n",
              "14 -1.000000 -1.000000 -1.000000 -1.000000 -0.992530 -0.906738 -0.737032   \n",
              "15 -1.000000 -1.000000 -1.000000 -1.000000 -1.000000 -0.971742 -0.845395   \n",
              "16 -1.000000 -1.000000 -1.000000 -1.000000 -1.000000 -1.000000 -0.931815   \n",
              "17 -1.000000 -1.000000 -1.000000 -1.000000 -1.000000 -1.000000 -0.987675   \n",
              "18 -1.000000 -1.000000 -1.000000 -1.000000 -1.000000 -1.000000 -1.000000   \n",
              "19 -1.000000 -1.000000 -1.000000 -1.000000 -1.000000 -1.000000 -1.000000   \n",
              "20 -1.000000 -1.000000 -1.000000 -1.000000 -1.000000 -1.000000 -1.000000   \n",
              "21 -1.000000 -1.000000 -1.000000 -1.000000 -1.000000 -1.000000 -1.000000   \n",
              "22 -1.000000 -1.000000 -1.000000 -1.000000 -1.000000 -1.000000 -1.000000   \n",
              "23 -1.000000 -1.000000 -1.000000 -1.000000 -1.000000 -1.000000 -1.000000   \n",
              "24 -1.000000 -1.000000 -1.000000 -1.000000 -1.000000 -1.000000 -1.000000   \n",
              "\n",
              "          7         8         9   ...   15   16   17   18   19   20   21   22  \\\n",
              "0   0.000000  0.000000  0.000000  ...  0.0  0.0  0.0  0.0  0.0  0.0  0.0  0.0   \n",
              "1   0.000000  0.000000  0.000000  ...  0.0  0.0  0.0  0.0  0.0  0.0  0.0  0.0   \n",
              "2   0.000000  0.000000  0.000000  ...  0.0  0.0  0.0  0.0  0.0  0.0  0.0  0.0   \n",
              "3   0.000000  0.000000  0.000000  ...  0.0  0.0  0.0  0.0  0.0  0.0  0.0  0.0   \n",
              "4   0.000000  0.000000  0.000000  ...  0.0  0.0  0.0  0.0  0.0  0.0  0.0  0.0   \n",
              "5   0.000000  0.000000  0.000000  ...  0.0  0.0  0.0  0.0  0.0  0.0  0.0  0.0   \n",
              "6   0.000000  0.000000  0.000000  ...  0.0  0.0  0.0  0.0  0.0  0.0  0.0  0.0   \n",
              "7  -0.043466  0.000000  0.000000  ...  0.0  0.0  0.0  0.0  0.0  0.0  0.0  0.0   \n",
              "8  -0.066124 -0.022084  0.000000  ...  0.0  0.0  0.0  0.0  0.0  0.0  0.0  0.0   \n",
              "9  -0.098738 -0.035346 -0.009570  ...  0.0  0.0  0.0  0.0  0.0  0.0  0.0  0.0   \n",
              "10 -0.144398 -0.055651 -0.016185  ...  0.0  0.0  0.0  0.0  0.0  0.0  0.0  0.0   \n",
              "11 -0.206273 -0.086008 -0.027005  ...  0.0  0.0  0.0  0.0  0.0  0.0  0.0  0.0   \n",
              "12 -0.286954 -0.130138 -0.044365  ...  0.0  0.0  0.0  0.0  0.0  0.0  0.0  0.0   \n",
              "13 -0.387385 -0.192181 -0.071590  ...  0.0  0.0  0.0  0.0  0.0  0.0  0.0  0.0   \n",
              "14 -0.505483 -0.275941 -0.113139  ...  0.0  0.0  0.0  0.0  0.0  0.0  0.0  0.0   \n",
              "15 -0.634774 -0.383476 -0.174464  ...  0.0  0.0  0.0  0.0  0.0  0.0  0.0  0.0   \n",
              "16 -0.763843 -0.512976 -0.261271  ...  0.0  0.0  0.0  0.0  0.0  0.0  0.0  0.0   \n",
              "17 -0.877785 -0.656321 -0.377707  ...  0.0  0.0  0.0  0.0  0.0  0.0  0.0  0.0   \n",
              "18 -0.962783 -0.797575 -0.523025  ...  0.0  0.0  0.0  0.0  0.0  0.0  0.0  0.0   \n",
              "19 -1.000000 -0.914863 -0.686895  ...  0.0  0.0  0.0  0.0  0.0  0.0  0.0  0.0   \n",
              "20 -1.000000 -0.987642 -0.845341  ...  0.0  0.0  0.0  0.0  0.0  0.0  0.0  0.0   \n",
              "21 -1.000000 -1.000000 -0.963180  ...  0.0  0.0  0.0  0.0  0.0  0.0  0.0  0.0   \n",
              "22 -1.000000 -1.000000 -1.000000  ...  0.0  0.0  0.0  0.0  0.0  0.0  0.0  0.0   \n",
              "23 -1.000000 -1.000000 -1.000000  ...  0.0  0.0  0.0  0.0  0.0  0.0  0.0  0.0   \n",
              "24 -1.000000 -1.000000 -1.000000  ...  0.0  0.0  0.0  0.0  0.0  0.0  0.0  0.0   \n",
              "\n",
              "     23   24  \n",
              "0   0.0  0.0  \n",
              "1   0.0  0.0  \n",
              "2   0.0  0.0  \n",
              "3   0.0  0.0  \n",
              "4   0.0  0.0  \n",
              "5   0.0  0.0  \n",
              "6   0.0  0.0  \n",
              "7   0.0  0.0  \n",
              "8   0.0  0.0  \n",
              "9   0.0  0.0  \n",
              "10  0.0  0.0  \n",
              "11  0.0  0.0  \n",
              "12  0.0  0.0  \n",
              "13  0.0  0.0  \n",
              "14  0.0  0.0  \n",
              "15  0.0  0.0  \n",
              "16  0.0  0.0  \n",
              "17  0.0  0.0  \n",
              "18  0.0  0.0  \n",
              "19  0.0  0.0  \n",
              "20  0.0  0.0  \n",
              "21  0.0  0.0  \n",
              "22  0.0  0.0  \n",
              "23  0.0  0.0  \n",
              "24  0.0  0.0  \n",
              "\n",
              "[25 rows x 25 columns]"
            ]
          },
          "execution_count": 25,
          "metadata": {},
          "output_type": "execute_result"
        }
      ],
      "source": [
        "pd.DataFrame(delta)"
      ]
    },
    {
      "cell_type": "code",
      "execution_count": null,
      "metadata": {
        "colab": {
          "base_uri": "https://localhost:8080/",
          "height": 894
        },
        "id": "zqhCI0sxZJnY",
        "outputId": "ae9d5a2c-ff6c-4172-d8db-d045c87ee122"
      },
      "outputs": [
        {
          "data": {
            "text/html": [
              "\n",
              "  <div id=\"df-24c13e4c-724a-45c8-b85a-1cafcc00b449\">\n",
              "    <div class=\"colab-df-container\">\n",
              "      <div>\n",
              "<style scoped>\n",
              "    .dataframe tbody tr th:only-of-type {\n",
              "        vertical-align: middle;\n",
              "    }\n",
              "\n",
              "    .dataframe tbody tr th {\n",
              "        vertical-align: top;\n",
              "    }\n",
              "\n",
              "    .dataframe thead th {\n",
              "        text-align: right;\n",
              "    }\n",
              "</style>\n",
              "<table border=\"1\" class=\"dataframe\">\n",
              "  <thead>\n",
              "    <tr style=\"text-align: right;\">\n",
              "      <th></th>\n",
              "      <th>0</th>\n",
              "      <th>1</th>\n",
              "      <th>2</th>\n",
              "      <th>3</th>\n",
              "      <th>4</th>\n",
              "      <th>5</th>\n",
              "      <th>6</th>\n",
              "      <th>7</th>\n",
              "      <th>8</th>\n",
              "      <th>9</th>\n",
              "      <th>...</th>\n",
              "      <th>16</th>\n",
              "      <th>17</th>\n",
              "      <th>18</th>\n",
              "      <th>19</th>\n",
              "      <th>20</th>\n",
              "      <th>21</th>\n",
              "      <th>22</th>\n",
              "      <th>23</th>\n",
              "      <th>24</th>\n",
              "      <th>25</th>\n",
              "    </tr>\n",
              "  </thead>\n",
              "  <tbody>\n",
              "    <tr>\n",
              "      <th>0</th>\n",
              "      <td>13.035719</td>\n",
              "      <td>0.000000</td>\n",
              "      <td>0.000000</td>\n",
              "      <td>0.000000</td>\n",
              "      <td>0.000000</td>\n",
              "      <td>0.000000</td>\n",
              "      <td>0.000000</td>\n",
              "      <td>0.000000</td>\n",
              "      <td>0.000000</td>\n",
              "      <td>0.000000</td>\n",
              "      <td>...</td>\n",
              "      <td>0.0</td>\n",
              "      <td>0.0</td>\n",
              "      <td>0.0</td>\n",
              "      <td>0.0</td>\n",
              "      <td>0.0</td>\n",
              "      <td>0.0</td>\n",
              "      <td>0.0</td>\n",
              "      <td>0.0</td>\n",
              "      <td>0.0</td>\n",
              "      <td>0.0</td>\n",
              "    </tr>\n",
              "    <tr>\n",
              "      <th>1</th>\n",
              "      <td>16.048731</td>\n",
              "      <td>9.994620</td>\n",
              "      <td>0.000000</td>\n",
              "      <td>0.000000</td>\n",
              "      <td>0.000000</td>\n",
              "      <td>0.000000</td>\n",
              "      <td>0.000000</td>\n",
              "      <td>0.000000</td>\n",
              "      <td>0.000000</td>\n",
              "      <td>0.000000</td>\n",
              "      <td>...</td>\n",
              "      <td>0.0</td>\n",
              "      <td>0.0</td>\n",
              "      <td>0.0</td>\n",
              "      <td>0.0</td>\n",
              "      <td>0.0</td>\n",
              "      <td>0.0</td>\n",
              "      <td>0.0</td>\n",
              "      <td>0.0</td>\n",
              "      <td>0.0</td>\n",
              "      <td>0.0</td>\n",
              "    </tr>\n",
              "    <tr>\n",
              "      <th>2</th>\n",
              "      <td>19.478916</td>\n",
              "      <td>12.587542</td>\n",
              "      <td>7.376543</td>\n",
              "      <td>0.000000</td>\n",
              "      <td>0.000000</td>\n",
              "      <td>0.000000</td>\n",
              "      <td>0.000000</td>\n",
              "      <td>0.000000</td>\n",
              "      <td>0.000000</td>\n",
              "      <td>0.000000</td>\n",
              "      <td>...</td>\n",
              "      <td>0.0</td>\n",
              "      <td>0.0</td>\n",
              "      <td>0.0</td>\n",
              "      <td>0.0</td>\n",
              "      <td>0.0</td>\n",
              "      <td>0.0</td>\n",
              "      <td>0.0</td>\n",
              "      <td>0.0</td>\n",
              "      <td>0.0</td>\n",
              "      <td>0.0</td>\n",
              "    </tr>\n",
              "    <tr>\n",
              "      <th>3</th>\n",
              "      <td>23.304725</td>\n",
              "      <td>15.619801</td>\n",
              "      <td>9.526589</td>\n",
              "      <td>5.204904</td>\n",
              "      <td>0.000000</td>\n",
              "      <td>0.000000</td>\n",
              "      <td>0.000000</td>\n",
              "      <td>0.000000</td>\n",
              "      <td>0.000000</td>\n",
              "      <td>0.000000</td>\n",
              "      <td>...</td>\n",
              "      <td>0.0</td>\n",
              "      <td>0.0</td>\n",
              "      <td>0.0</td>\n",
              "      <td>0.0</td>\n",
              "      <td>0.0</td>\n",
              "      <td>0.0</td>\n",
              "      <td>0.0</td>\n",
              "      <td>0.0</td>\n",
              "      <td>0.0</td>\n",
              "      <td>0.0</td>\n",
              "    </tr>\n",
              "    <tr>\n",
              "      <th>4</th>\n",
              "      <td>27.483882</td>\n",
              "      <td>19.090817</td>\n",
              "      <td>12.116913</td>\n",
              "      <td>6.910764</td>\n",
              "      <td>3.481390</td>\n",
              "      <td>0.000000</td>\n",
              "      <td>0.000000</td>\n",
              "      <td>0.000000</td>\n",
              "      <td>0.000000</td>\n",
              "      <td>0.000000</td>\n",
              "      <td>...</td>\n",
              "      <td>0.0</td>\n",
              "      <td>0.0</td>\n",
              "      <td>0.0</td>\n",
              "      <td>0.0</td>\n",
              "      <td>0.0</td>\n",
              "      <td>0.0</td>\n",
              "      <td>0.0</td>\n",
              "      <td>0.0</td>\n",
              "      <td>0.0</td>\n",
              "      <td>0.0</td>\n",
              "    </tr>\n",
              "    <tr>\n",
              "      <th>5</th>\n",
              "      <td>31.955321</td>\n",
              "      <td>22.977315</td>\n",
              "      <td>15.169923</td>\n",
              "      <td>9.034565</td>\n",
              "      <td>4.765331</td>\n",
              "      <td>2.183810</td>\n",
              "      <td>0.000000</td>\n",
              "      <td>0.000000</td>\n",
              "      <td>0.000000</td>\n",
              "      <td>0.000000</td>\n",
              "      <td>...</td>\n",
              "      <td>0.0</td>\n",
              "      <td>0.0</td>\n",
              "      <td>0.0</td>\n",
              "      <td>0.0</td>\n",
              "      <td>0.0</td>\n",
              "      <td>0.0</td>\n",
              "      <td>0.0</td>\n",
              "      <td>0.0</td>\n",
              "      <td>0.0</td>\n",
              "      <td>0.0</td>\n",
              "    </tr>\n",
              "    <tr>\n",
              "      <th>6</th>\n",
              "      <td>36.643944</td>\n",
              "      <td>27.232388</td>\n",
              "      <td>18.686256</td>\n",
              "      <td>11.620776</td>\n",
              "      <td>6.422511</td>\n",
              "      <td>3.090768</td>\n",
              "      <td>1.266995</td>\n",
              "      <td>0.000000</td>\n",
              "      <td>0.000000</td>\n",
              "      <td>0.000000</td>\n",
              "      <td>...</td>\n",
              "      <td>0.0</td>\n",
              "      <td>0.0</td>\n",
              "      <td>0.0</td>\n",
              "      <td>0.0</td>\n",
              "      <td>0.0</td>\n",
              "      <td>0.0</td>\n",
              "      <td>0.0</td>\n",
              "      <td>0.0</td>\n",
              "      <td>0.0</td>\n",
              "      <td>0.0</td>\n",
              "    </tr>\n",
              "    <tr>\n",
              "      <th>7</th>\n",
              "      <td>41.467644</td>\n",
              "      <td>31.787982</td>\n",
              "      <td>22.640385</td>\n",
              "      <td>14.696537</td>\n",
              "      <td>8.514985</td>\n",
              "      <td>4.308413</td>\n",
              "      <td>1.860019</td>\n",
              "      <td>0.667398</td>\n",
              "      <td>0.000000</td>\n",
              "      <td>0.000000</td>\n",
              "      <td>...</td>\n",
              "      <td>0.0</td>\n",
              "      <td>0.0</td>\n",
              "      <td>0.0</td>\n",
              "      <td>0.0</td>\n",
              "      <td>0.0</td>\n",
              "      <td>0.0</td>\n",
              "      <td>0.0</td>\n",
              "      <td>0.0</td>\n",
              "      <td>0.0</td>\n",
              "      <td>0.0</td>\n",
              "    </tr>\n",
              "    <tr>\n",
              "      <th>8</th>\n",
              "      <td>46.345103</td>\n",
              "      <td>36.561118</td>\n",
              "      <td>26.979319</td>\n",
              "      <td>18.264120</td>\n",
              "      <td>11.095104</td>\n",
              "      <td>5.908682</td>\n",
              "      <td>2.691121</td>\n",
              "      <td>1.019772</td>\n",
              "      <td>0.311048</td>\n",
              "      <td>0.000000</td>\n",
              "      <td>...</td>\n",
              "      <td>0.0</td>\n",
              "      <td>0.0</td>\n",
              "      <td>0.0</td>\n",
              "      <td>0.0</td>\n",
              "      <td>0.0</td>\n",
              "      <td>0.0</td>\n",
              "      <td>0.0</td>\n",
              "      <td>0.0</td>\n",
              "      <td>0.0</td>\n",
              "      <td>0.0</td>\n",
              "    </tr>\n",
              "    <tr>\n",
              "      <th>9</th>\n",
              "      <td>51.057434</td>\n",
              "      <td>41.463186</td>\n",
              "      <td>31.625717</td>\n",
              "      <td>22.295145</td>\n",
              "      <td>14.196182</td>\n",
              "      <td>7.963248</td>\n",
              "      <td>3.832563</td>\n",
              "      <td>1.537228</td>\n",
              "      <td>0.496511</td>\n",
              "      <td>0.123460</td>\n",
              "      <td>...</td>\n",
              "      <td>0.0</td>\n",
              "      <td>0.0</td>\n",
              "      <td>0.0</td>\n",
              "      <td>0.0</td>\n",
              "      <td>0.0</td>\n",
              "      <td>0.0</td>\n",
              "      <td>0.0</td>\n",
              "      <td>0.0</td>\n",
              "      <td>0.0</td>\n",
              "      <td>0.0</td>\n",
              "    </tr>\n",
              "    <tr>\n",
              "      <th>10</th>\n",
              "      <td>55.606070</td>\n",
              "      <td>46.345103</td>\n",
              "      <td>36.486047</td>\n",
              "      <td>26.728615</td>\n",
              "      <td>17.822854</td>\n",
              "      <td>10.534499</td>\n",
              "      <td>5.365483</td>\n",
              "      <td>2.283099</td>\n",
              "      <td>0.783043</td>\n",
              "      <td>0.206710</td>\n",
              "      <td>...</td>\n",
              "      <td>0.0</td>\n",
              "      <td>0.0</td>\n",
              "      <td>0.0</td>\n",
              "      <td>0.0</td>\n",
              "      <td>0.0</td>\n",
              "      <td>0.0</td>\n",
              "      <td>0.0</td>\n",
              "      <td>0.0</td>\n",
              "      <td>0.0</td>\n",
              "      <td>0.0</td>\n",
              "    </tr>\n",
              "    <tr>\n",
              "      <th>11</th>\n",
              "      <td>59.996697</td>\n",
              "      <td>51.057434</td>\n",
              "      <td>41.463186</td>\n",
              "      <td>31.474553</td>\n",
              "      <td>21.943424</td>\n",
              "      <td>13.663869</td>\n",
              "      <td>7.373537</td>\n",
              "      <td>3.336035</td>\n",
              "      <td>1.218518</td>\n",
              "      <td>0.342623</td>\n",
              "      <td>...</td>\n",
              "      <td>0.0</td>\n",
              "      <td>0.0</td>\n",
              "      <td>0.0</td>\n",
              "      <td>0.0</td>\n",
              "      <td>0.0</td>\n",
              "      <td>0.0</td>\n",
              "      <td>0.0</td>\n",
              "      <td>0.0</td>\n",
              "      <td>0.0</td>\n",
              "      <td>0.0</td>\n",
              "    </tr>\n",
              "    <tr>\n",
              "      <th>12</th>\n",
              "      <td>64.234803</td>\n",
              "      <td>55.606070</td>\n",
              "      <td>46.345103</td>\n",
              "      <td>36.423903</td>\n",
              "      <td>26.487169</td>\n",
              "      <td>17.359162</td>\n",
              "      <td>9.932258</td>\n",
              "      <td>4.787987</td>\n",
              "      <td>1.868176</td>\n",
              "      <td>0.561522</td>\n",
              "      <td>...</td>\n",
              "      <td>0.0</td>\n",
              "      <td>0.0</td>\n",
              "      <td>0.0</td>\n",
              "      <td>0.0</td>\n",
              "      <td>0.0</td>\n",
              "      <td>0.0</td>\n",
              "      <td>0.0</td>\n",
              "      <td>0.0</td>\n",
              "      <td>0.0</td>\n",
              "      <td>0.0</td>\n",
              "    </tr>\n",
              "    <tr>\n",
              "      <th>13</th>\n",
              "      <td>68.325688</td>\n",
              "      <td>59.996697</td>\n",
              "      <td>51.057434</td>\n",
              "      <td>41.463186</td>\n",
              "      <td>31.349418</td>\n",
              "      <td>21.583985</td>\n",
              "      <td>13.094217</td>\n",
              "      <td>6.737806</td>\n",
              "      <td>2.817054</td>\n",
              "      <td>0.908651</td>\n",
              "      <td>...</td>\n",
              "      <td>0.0</td>\n",
              "      <td>0.0</td>\n",
              "      <td>0.0</td>\n",
              "      <td>0.0</td>\n",
              "      <td>0.0</td>\n",
              "      <td>0.0</td>\n",
              "      <td>0.0</td>\n",
              "      <td>0.0</td>\n",
              "      <td>0.0</td>\n",
              "      <td>0.0</td>\n",
              "    </tr>\n",
              "    <tr>\n",
              "      <th>14</th>\n",
              "      <td>72.274466</td>\n",
              "      <td>64.234803</td>\n",
              "      <td>55.606070</td>\n",
              "      <td>46.345103</td>\n",
              "      <td>36.405579</td>\n",
              "      <td>26.253754</td>\n",
              "      <td>16.871796</td>\n",
              "      <td>9.278807</td>\n",
              "      <td>4.169692</td>\n",
              "      <td>1.449362</td>\n",
              "      <td>...</td>\n",
              "      <td>0.0</td>\n",
              "      <td>0.0</td>\n",
              "      <td>0.0</td>\n",
              "      <td>0.0</td>\n",
              "      <td>0.0</td>\n",
              "      <td>0.0</td>\n",
              "      <td>0.0</td>\n",
              "      <td>0.0</td>\n",
              "      <td>0.0</td>\n",
              "      <td>0.0</td>\n",
              "    </tr>\n",
              "    <tr>\n",
              "      <th>15</th>\n",
              "      <td>76.086072</td>\n",
              "      <td>68.325688</td>\n",
              "      <td>59.996697</td>\n",
              "      <td>51.057434</td>\n",
              "      <td>41.463186</td>\n",
              "      <td>31.242880</td>\n",
              "      <td>21.221879</td>\n",
              "      <td>12.479592</td>\n",
              "      <td>6.044504</td>\n",
              "      <td>2.274228</td>\n",
              "      <td>...</td>\n",
              "      <td>0.0</td>\n",
              "      <td>0.0</td>\n",
              "      <td>0.0</td>\n",
              "      <td>0.0</td>\n",
              "      <td>0.0</td>\n",
              "      <td>0.0</td>\n",
              "      <td>0.0</td>\n",
              "      <td>0.0</td>\n",
              "      <td>0.0</td>\n",
              "      <td>0.0</td>\n",
              "    </tr>\n",
              "    <tr>\n",
              "      <th>16</th>\n",
              "      <td>79.765272</td>\n",
              "      <td>72.274466</td>\n",
              "      <td>64.234803</td>\n",
              "      <td>55.606070</td>\n",
              "      <td>46.345103</td>\n",
              "      <td>36.405579</td>\n",
              "      <td>26.039227</td>\n",
              "      <td>16.359931</td>\n",
              "      <td>8.559611</td>\n",
              "      <td>3.502057</td>\n",
              "      <td>...</td>\n",
              "      <td>0.0</td>\n",
              "      <td>0.0</td>\n",
              "      <td>0.0</td>\n",
              "      <td>0.0</td>\n",
              "      <td>0.0</td>\n",
              "      <td>0.0</td>\n",
              "      <td>0.0</td>\n",
              "      <td>0.0</td>\n",
              "      <td>0.0</td>\n",
              "      <td>0.0</td>\n",
              "    </tr>\n",
              "    <tr>\n",
              "      <th>17</th>\n",
              "      <td>83.316665</td>\n",
              "      <td>76.086072</td>\n",
              "      <td>68.325688</td>\n",
              "      <td>59.996697</td>\n",
              "      <td>51.057434</td>\n",
              "      <td>41.463186</td>\n",
              "      <td>31.165961</td>\n",
              "      <td>20.867809</td>\n",
              "      <td>11.807500</td>\n",
              "      <td>5.277023</td>\n",
              "      <td>...</td>\n",
              "      <td>0.0</td>\n",
              "      <td>0.0</td>\n",
              "      <td>0.0</td>\n",
              "      <td>0.0</td>\n",
              "      <td>0.0</td>\n",
              "      <td>0.0</td>\n",
              "      <td>0.0</td>\n",
              "      <td>0.0</td>\n",
              "      <td>0.0</td>\n",
              "      <td>0.0</td>\n",
              "    </tr>\n",
              "    <tr>\n",
              "      <th>18</th>\n",
              "      <td>86.744691</td>\n",
              "      <td>79.765272</td>\n",
              "      <td>72.274466</td>\n",
              "      <td>64.234803</td>\n",
              "      <td>55.606070</td>\n",
              "      <td>46.345103</td>\n",
              "      <td>36.405579</td>\n",
              "      <td>25.869258</td>\n",
              "      <td>15.819117</td>\n",
              "      <td>7.754020</td>\n",
              "      <td>...</td>\n",
              "      <td>0.0</td>\n",
              "      <td>0.0</td>\n",
              "      <td>0.0</td>\n",
              "      <td>0.0</td>\n",
              "      <td>0.0</td>\n",
              "      <td>0.0</td>\n",
              "      <td>0.0</td>\n",
              "      <td>0.0</td>\n",
              "      <td>0.0</td>\n",
              "      <td>0.0</td>\n",
              "    </tr>\n",
              "    <tr>\n",
              "      <th>19</th>\n",
              "      <td>90.053636</td>\n",
              "      <td>83.316665</td>\n",
              "      <td>76.086072</td>\n",
              "      <td>68.325688</td>\n",
              "      <td>59.996697</td>\n",
              "      <td>51.057434</td>\n",
              "      <td>41.463186</td>\n",
              "      <td>31.165961</td>\n",
              "      <td>20.525558</td>\n",
              "      <td>11.065144</td>\n",
              "      <td>...</td>\n",
              "      <td>0.0</td>\n",
              "      <td>0.0</td>\n",
              "      <td>0.0</td>\n",
              "      <td>0.0</td>\n",
              "      <td>0.0</td>\n",
              "      <td>0.0</td>\n",
              "      <td>0.0</td>\n",
              "      <td>0.0</td>\n",
              "      <td>0.0</td>\n",
              "      <td>0.0</td>\n",
              "    </tr>\n",
              "    <tr>\n",
              "      <th>20</th>\n",
              "      <td>93.247636</td>\n",
              "      <td>86.744691</td>\n",
              "      <td>79.765272</td>\n",
              "      <td>72.274466</td>\n",
              "      <td>64.234803</td>\n",
              "      <td>55.606070</td>\n",
              "      <td>46.345103</td>\n",
              "      <td>36.405579</td>\n",
              "      <td>25.737780</td>\n",
              "      <td>15.263118</td>\n",
              "      <td>...</td>\n",
              "      <td>0.0</td>\n",
              "      <td>0.0</td>\n",
              "      <td>0.0</td>\n",
              "      <td>0.0</td>\n",
              "      <td>0.0</td>\n",
              "      <td>0.0</td>\n",
              "      <td>0.0</td>\n",
              "      <td>0.0</td>\n",
              "      <td>0.0</td>\n",
              "      <td>0.0</td>\n",
              "    </tr>\n",
              "    <tr>\n",
              "      <th>21</th>\n",
              "      <td>96.330683</td>\n",
              "      <td>90.053636</td>\n",
              "      <td>83.316665</td>\n",
              "      <td>76.086072</td>\n",
              "      <td>68.325688</td>\n",
              "      <td>59.996697</td>\n",
              "      <td>51.057434</td>\n",
              "      <td>41.463186</td>\n",
              "      <td>31.165961</td>\n",
              "      <td>20.250824</td>\n",
              "      <td>...</td>\n",
              "      <td>0.0</td>\n",
              "      <td>0.0</td>\n",
              "      <td>0.0</td>\n",
              "      <td>0.0</td>\n",
              "      <td>0.0</td>\n",
              "      <td>0.0</td>\n",
              "      <td>0.0</td>\n",
              "      <td>0.0</td>\n",
              "      <td>0.0</td>\n",
              "      <td>0.0</td>\n",
              "    </tr>\n",
              "    <tr>\n",
              "      <th>22</th>\n",
              "      <td>99.306633</td>\n",
              "      <td>93.247636</td>\n",
              "      <td>86.744691</td>\n",
              "      <td>79.765272</td>\n",
              "      <td>72.274466</td>\n",
              "      <td>64.234803</td>\n",
              "      <td>55.606070</td>\n",
              "      <td>46.345103</td>\n",
              "      <td>36.405579</td>\n",
              "      <td>25.737780</td>\n",
              "      <td>...</td>\n",
              "      <td>0.0</td>\n",
              "      <td>0.0</td>\n",
              "      <td>0.0</td>\n",
              "      <td>0.0</td>\n",
              "      <td>0.0</td>\n",
              "      <td>0.0</td>\n",
              "      <td>0.0</td>\n",
              "      <td>0.0</td>\n",
              "      <td>0.0</td>\n",
              "      <td>0.0</td>\n",
              "    </tr>\n",
              "    <tr>\n",
              "      <th>23</th>\n",
              "      <td>102.179206</td>\n",
              "      <td>96.330683</td>\n",
              "      <td>90.053636</td>\n",
              "      <td>83.316665</td>\n",
              "      <td>76.086072</td>\n",
              "      <td>68.325688</td>\n",
              "      <td>59.996697</td>\n",
              "      <td>51.057434</td>\n",
              "      <td>41.463186</td>\n",
              "      <td>31.165961</td>\n",
              "      <td>...</td>\n",
              "      <td>0.0</td>\n",
              "      <td>0.0</td>\n",
              "      <td>0.0</td>\n",
              "      <td>0.0</td>\n",
              "      <td>0.0</td>\n",
              "      <td>0.0</td>\n",
              "      <td>0.0</td>\n",
              "      <td>0.0</td>\n",
              "      <td>0.0</td>\n",
              "      <td>0.0</td>\n",
              "    </tr>\n",
              "    <tr>\n",
              "      <th>24</th>\n",
              "      <td>104.951992</td>\n",
              "      <td>99.306633</td>\n",
              "      <td>93.247636</td>\n",
              "      <td>86.744691</td>\n",
              "      <td>79.765272</td>\n",
              "      <td>72.274466</td>\n",
              "      <td>64.234803</td>\n",
              "      <td>55.606070</td>\n",
              "      <td>46.345103</td>\n",
              "      <td>36.405579</td>\n",
              "      <td>...</td>\n",
              "      <td>0.0</td>\n",
              "      <td>0.0</td>\n",
              "      <td>0.0</td>\n",
              "      <td>0.0</td>\n",
              "      <td>0.0</td>\n",
              "      <td>0.0</td>\n",
              "      <td>0.0</td>\n",
              "      <td>0.0</td>\n",
              "      <td>0.0</td>\n",
              "      <td>0.0</td>\n",
              "    </tr>\n",
              "    <tr>\n",
              "      <th>25</th>\n",
              "      <td>107.628458</td>\n",
              "      <td>102.179206</td>\n",
              "      <td>96.330683</td>\n",
              "      <td>90.053636</td>\n",
              "      <td>83.316665</td>\n",
              "      <td>76.086072</td>\n",
              "      <td>68.325688</td>\n",
              "      <td>59.996697</td>\n",
              "      <td>51.057434</td>\n",
              "      <td>41.463186</td>\n",
              "      <td>...</td>\n",
              "      <td>0.0</td>\n",
              "      <td>0.0</td>\n",
              "      <td>0.0</td>\n",
              "      <td>0.0</td>\n",
              "      <td>0.0</td>\n",
              "      <td>0.0</td>\n",
              "      <td>0.0</td>\n",
              "      <td>0.0</td>\n",
              "      <td>0.0</td>\n",
              "      <td>0.0</td>\n",
              "    </tr>\n",
              "  </tbody>\n",
              "</table>\n",
              "<p>26 rows × 26 columns</p>\n",
              "</div>\n",
              "      <button class=\"colab-df-convert\" onclick=\"convertToInteractive('df-24c13e4c-724a-45c8-b85a-1cafcc00b449')\"\n",
              "              title=\"Convert this dataframe to an interactive table.\"\n",
              "              style=\"display:none;\">\n",
              "        \n",
              "  <svg xmlns=\"http://www.w3.org/2000/svg\" height=\"24px\"viewBox=\"0 0 24 24\"\n",
              "       width=\"24px\">\n",
              "    <path d=\"M0 0h24v24H0V0z\" fill=\"none\"/>\n",
              "    <path d=\"M18.56 5.44l.94 2.06.94-2.06 2.06-.94-2.06-.94-.94-2.06-.94 2.06-2.06.94zm-11 1L8.5 8.5l.94-2.06 2.06-.94-2.06-.94L8.5 2.5l-.94 2.06-2.06.94zm10 10l.94 2.06.94-2.06 2.06-.94-2.06-.94-.94-2.06-.94 2.06-2.06.94z\"/><path d=\"M17.41 7.96l-1.37-1.37c-.4-.4-.92-.59-1.43-.59-.52 0-1.04.2-1.43.59L10.3 9.45l-7.72 7.72c-.78.78-.78 2.05 0 2.83L4 21.41c.39.39.9.59 1.41.59.51 0 1.02-.2 1.41-.59l7.78-7.78 2.81-2.81c.8-.78.8-2.07 0-2.86zM5.41 20L4 18.59l7.72-7.72 1.47 1.35L5.41 20z\"/>\n",
              "  </svg>\n",
              "      </button>\n",
              "      \n",
              "  <style>\n",
              "    .colab-df-container {\n",
              "      display:flex;\n",
              "      flex-wrap:wrap;\n",
              "      gap: 12px;\n",
              "    }\n",
              "\n",
              "    .colab-df-convert {\n",
              "      background-color: #E8F0FE;\n",
              "      border: none;\n",
              "      border-radius: 50%;\n",
              "      cursor: pointer;\n",
              "      display: none;\n",
              "      fill: #1967D2;\n",
              "      height: 32px;\n",
              "      padding: 0 0 0 0;\n",
              "      width: 32px;\n",
              "    }\n",
              "\n",
              "    .colab-df-convert:hover {\n",
              "      background-color: #E2EBFA;\n",
              "      box-shadow: 0px 1px 2px rgba(60, 64, 67, 0.3), 0px 1px 3px 1px rgba(60, 64, 67, 0.15);\n",
              "      fill: #174EA6;\n",
              "    }\n",
              "\n",
              "    [theme=dark] .colab-df-convert {\n",
              "      background-color: #3B4455;\n",
              "      fill: #D2E3FC;\n",
              "    }\n",
              "\n",
              "    [theme=dark] .colab-df-convert:hover {\n",
              "      background-color: #434B5C;\n",
              "      box-shadow: 0px 1px 3px 1px rgba(0, 0, 0, 0.15);\n",
              "      filter: drop-shadow(0px 1px 2px rgba(0, 0, 0, 0.3));\n",
              "      fill: #FFFFFF;\n",
              "    }\n",
              "  </style>\n",
              "\n",
              "      <script>\n",
              "        const buttonEl =\n",
              "          document.querySelector('#df-24c13e4c-724a-45c8-b85a-1cafcc00b449 button.colab-df-convert');\n",
              "        buttonEl.style.display =\n",
              "          google.colab.kernel.accessAllowed ? 'block' : 'none';\n",
              "\n",
              "        async function convertToInteractive(key) {\n",
              "          const element = document.querySelector('#df-24c13e4c-724a-45c8-b85a-1cafcc00b449');\n",
              "          const dataTable =\n",
              "            await google.colab.kernel.invokeFunction('convertToInteractive',\n",
              "                                                     [key], {});\n",
              "          if (!dataTable) return;\n",
              "\n",
              "          const docLinkHtml = 'Like what you see? Visit the ' +\n",
              "            '<a target=\"_blank\" href=https://colab.research.google.com/notebooks/data_table.ipynb>data table notebook</a>'\n",
              "            + ' to learn more about interactive tables.';\n",
              "          element.innerHTML = '';\n",
              "          dataTable['output_type'] = 'display_data';\n",
              "          await google.colab.output.renderOutput(dataTable, element);\n",
              "          const docLink = document.createElement('div');\n",
              "          docLink.innerHTML = docLinkHtml;\n",
              "          element.appendChild(docLink);\n",
              "        }\n",
              "      </script>\n",
              "    </div>\n",
              "  </div>\n",
              "  "
            ],
            "text/plain": [
              "            0           1          2          3          4          5   \\\n",
              "0    13.035719    0.000000   0.000000   0.000000   0.000000   0.000000   \n",
              "1    16.048731    9.994620   0.000000   0.000000   0.000000   0.000000   \n",
              "2    19.478916   12.587542   7.376543   0.000000   0.000000   0.000000   \n",
              "3    23.304725   15.619801   9.526589   5.204904   0.000000   0.000000   \n",
              "4    27.483882   19.090817  12.116913   6.910764   3.481390   0.000000   \n",
              "5    31.955321   22.977315  15.169923   9.034565   4.765331   2.183810   \n",
              "6    36.643944   27.232388  18.686256  11.620776   6.422511   3.090768   \n",
              "7    41.467644   31.787982  22.640385  14.696537   8.514985   4.308413   \n",
              "8    46.345103   36.561118  26.979319  18.264120  11.095104   5.908682   \n",
              "9    51.057434   41.463186  31.625717  22.295145  14.196182   7.963248   \n",
              "10   55.606070   46.345103  36.486047  26.728615  17.822854  10.534499   \n",
              "11   59.996697   51.057434  41.463186  31.474553  21.943424  13.663869   \n",
              "12   64.234803   55.606070  46.345103  36.423903  26.487169  17.359162   \n",
              "13   68.325688   59.996697  51.057434  41.463186  31.349418  21.583985   \n",
              "14   72.274466   64.234803  55.606070  46.345103  36.405579  26.253754   \n",
              "15   76.086072   68.325688  59.996697  51.057434  41.463186  31.242880   \n",
              "16   79.765272   72.274466  64.234803  55.606070  46.345103  36.405579   \n",
              "17   83.316665   76.086072  68.325688  59.996697  51.057434  41.463186   \n",
              "18   86.744691   79.765272  72.274466  64.234803  55.606070  46.345103   \n",
              "19   90.053636   83.316665  76.086072  68.325688  59.996697  51.057434   \n",
              "20   93.247636   86.744691  79.765272  72.274466  64.234803  55.606070   \n",
              "21   96.330683   90.053636  83.316665  76.086072  68.325688  59.996697   \n",
              "22   99.306633   93.247636  86.744691  79.765272  72.274466  64.234803   \n",
              "23  102.179206   96.330683  90.053636  83.316665  76.086072  68.325688   \n",
              "24  104.951992   99.306633  93.247636  86.744691  79.765272  72.274466   \n",
              "25  107.628458  102.179206  96.330683  90.053636  83.316665  76.086072   \n",
              "\n",
              "           6          7          8          9   ...   16   17   18   19   20  \\\n",
              "0    0.000000   0.000000   0.000000   0.000000  ...  0.0  0.0  0.0  0.0  0.0   \n",
              "1    0.000000   0.000000   0.000000   0.000000  ...  0.0  0.0  0.0  0.0  0.0   \n",
              "2    0.000000   0.000000   0.000000   0.000000  ...  0.0  0.0  0.0  0.0  0.0   \n",
              "3    0.000000   0.000000   0.000000   0.000000  ...  0.0  0.0  0.0  0.0  0.0   \n",
              "4    0.000000   0.000000   0.000000   0.000000  ...  0.0  0.0  0.0  0.0  0.0   \n",
              "5    0.000000   0.000000   0.000000   0.000000  ...  0.0  0.0  0.0  0.0  0.0   \n",
              "6    1.266995   0.000000   0.000000   0.000000  ...  0.0  0.0  0.0  0.0  0.0   \n",
              "7    1.860019   0.667398   0.000000   0.000000  ...  0.0  0.0  0.0  0.0  0.0   \n",
              "8    2.691121   1.019772   0.311048   0.000000  ...  0.0  0.0  0.0  0.0  0.0   \n",
              "9    3.832563   1.537228   0.496511   0.123460  ...  0.0  0.0  0.0  0.0  0.0   \n",
              "10   5.365483   2.283099   0.783043   0.206710  ...  0.0  0.0  0.0  0.0  0.0   \n",
              "11   7.373537   3.336035   1.218518   0.342623  ...  0.0  0.0  0.0  0.0  0.0   \n",
              "12   9.932258   4.787987   1.868176   0.561522  ...  0.0  0.0  0.0  0.0  0.0   \n",
              "13  13.094217   6.737806   2.817054   0.908651  ...  0.0  0.0  0.0  0.0  0.0   \n",
              "14  16.871796   9.278807   4.169692   1.449362  ...  0.0  0.0  0.0  0.0  0.0   \n",
              "15  21.221879  12.479592   6.044504   2.274228  ...  0.0  0.0  0.0  0.0  0.0   \n",
              "16  26.039227  16.359931   8.559611   3.502057  ...  0.0  0.0  0.0  0.0  0.0   \n",
              "17  31.165961  20.867809  11.807500   5.277023  ...  0.0  0.0  0.0  0.0  0.0   \n",
              "18  36.405579  25.869258  15.819117   7.754020  ...  0.0  0.0  0.0  0.0  0.0   \n",
              "19  41.463186  31.165961  20.525558  11.065144  ...  0.0  0.0  0.0  0.0  0.0   \n",
              "20  46.345103  36.405579  25.737780  15.263118  ...  0.0  0.0  0.0  0.0  0.0   \n",
              "21  51.057434  41.463186  31.165961  20.250824  ...  0.0  0.0  0.0  0.0  0.0   \n",
              "22  55.606070  46.345103  36.405579  25.737780  ...  0.0  0.0  0.0  0.0  0.0   \n",
              "23  59.996697  51.057434  41.463186  31.165961  ...  0.0  0.0  0.0  0.0  0.0   \n",
              "24  64.234803  55.606070  46.345103  36.405579  ...  0.0  0.0  0.0  0.0  0.0   \n",
              "25  68.325688  59.996697  51.057434  41.463186  ...  0.0  0.0  0.0  0.0  0.0   \n",
              "\n",
              "     21   22   23   24   25  \n",
              "0   0.0  0.0  0.0  0.0  0.0  \n",
              "1   0.0  0.0  0.0  0.0  0.0  \n",
              "2   0.0  0.0  0.0  0.0  0.0  \n",
              "3   0.0  0.0  0.0  0.0  0.0  \n",
              "4   0.0  0.0  0.0  0.0  0.0  \n",
              "5   0.0  0.0  0.0  0.0  0.0  \n",
              "6   0.0  0.0  0.0  0.0  0.0  \n",
              "7   0.0  0.0  0.0  0.0  0.0  \n",
              "8   0.0  0.0  0.0  0.0  0.0  \n",
              "9   0.0  0.0  0.0  0.0  0.0  \n",
              "10  0.0  0.0  0.0  0.0  0.0  \n",
              "11  0.0  0.0  0.0  0.0  0.0  \n",
              "12  0.0  0.0  0.0  0.0  0.0  \n",
              "13  0.0  0.0  0.0  0.0  0.0  \n",
              "14  0.0  0.0  0.0  0.0  0.0  \n",
              "15  0.0  0.0  0.0  0.0  0.0  \n",
              "16  0.0  0.0  0.0  0.0  0.0  \n",
              "17  0.0  0.0  0.0  0.0  0.0  \n",
              "18  0.0  0.0  0.0  0.0  0.0  \n",
              "19  0.0  0.0  0.0  0.0  0.0  \n",
              "20  0.0  0.0  0.0  0.0  0.0  \n",
              "21  0.0  0.0  0.0  0.0  0.0  \n",
              "22  0.0  0.0  0.0  0.0  0.0  \n",
              "23  0.0  0.0  0.0  0.0  0.0  \n",
              "24  0.0  0.0  0.0  0.0  0.0  \n",
              "25  0.0  0.0  0.0  0.0  0.0  \n",
              "\n",
              "[26 rows x 26 columns]"
            ]
          },
          "execution_count": 26,
          "metadata": {},
          "output_type": "execute_result"
        }
      ],
      "source": [
        "pd.DataFrame(C)"
      ]
    },
    {
      "cell_type": "code",
      "execution_count": null,
      "metadata": {
        "colab": {
          "base_uri": "https://localhost:8080/",
          "height": 864
        },
        "id": "7O-DBjVBZfqR",
        "outputId": "948dd7ec-c412-456d-8b61-e0c84937cf36"
      },
      "outputs": [
        {
          "data": {
            "text/html": [
              "\n",
              "  <div id=\"df-14a6a751-0634-4a90-bcfc-daa29ed7f9ae\">\n",
              "    <div class=\"colab-df-container\">\n",
              "      <div>\n",
              "<style scoped>\n",
              "    .dataframe tbody tr th:only-of-type {\n",
              "        vertical-align: middle;\n",
              "    }\n",
              "\n",
              "    .dataframe tbody tr th {\n",
              "        vertical-align: top;\n",
              "    }\n",
              "\n",
              "    .dataframe thead th {\n",
              "        text-align: right;\n",
              "    }\n",
              "</style>\n",
              "<table border=\"1\" class=\"dataframe\">\n",
              "  <thead>\n",
              "    <tr style=\"text-align: right;\">\n",
              "      <th></th>\n",
              "      <th>0</th>\n",
              "    </tr>\n",
              "  </thead>\n",
              "  <tbody>\n",
              "    <tr>\n",
              "      <th>0</th>\n",
              "      <td>13.035719</td>\n",
              "    </tr>\n",
              "    <tr>\n",
              "      <th>1</th>\n",
              "      <td>9.994620</td>\n",
              "    </tr>\n",
              "    <tr>\n",
              "      <th>2</th>\n",
              "      <td>7.376543</td>\n",
              "    </tr>\n",
              "    <tr>\n",
              "      <th>3</th>\n",
              "      <td>5.204904</td>\n",
              "    </tr>\n",
              "    <tr>\n",
              "      <th>4</th>\n",
              "      <td>3.481390</td>\n",
              "    </tr>\n",
              "    <tr>\n",
              "      <th>5</th>\n",
              "      <td>2.183810</td>\n",
              "    </tr>\n",
              "    <tr>\n",
              "      <th>6</th>\n",
              "      <td>1.266995</td>\n",
              "    </tr>\n",
              "    <tr>\n",
              "      <th>7</th>\n",
              "      <td>0.667398</td>\n",
              "    </tr>\n",
              "    <tr>\n",
              "      <th>8</th>\n",
              "      <td>0.311048</td>\n",
              "    </tr>\n",
              "    <tr>\n",
              "      <th>9</th>\n",
              "      <td>0.123460</td>\n",
              "    </tr>\n",
              "    <tr>\n",
              "      <th>10</th>\n",
              "      <td>0.039243</td>\n",
              "    </tr>\n",
              "    <tr>\n",
              "      <th>11</th>\n",
              "      <td>0.008911</td>\n",
              "    </tr>\n",
              "    <tr>\n",
              "      <th>12</th>\n",
              "      <td>0.001088</td>\n",
              "    </tr>\n",
              "    <tr>\n",
              "      <th>13</th>\n",
              "      <td>0.000000</td>\n",
              "    </tr>\n",
              "    <tr>\n",
              "      <th>14</th>\n",
              "      <td>0.000000</td>\n",
              "    </tr>\n",
              "    <tr>\n",
              "      <th>15</th>\n",
              "      <td>0.000000</td>\n",
              "    </tr>\n",
              "    <tr>\n",
              "      <th>16</th>\n",
              "      <td>0.000000</td>\n",
              "    </tr>\n",
              "    <tr>\n",
              "      <th>17</th>\n",
              "      <td>0.000000</td>\n",
              "    </tr>\n",
              "    <tr>\n",
              "      <th>18</th>\n",
              "      <td>0.000000</td>\n",
              "    </tr>\n",
              "    <tr>\n",
              "      <th>19</th>\n",
              "      <td>0.000000</td>\n",
              "    </tr>\n",
              "    <tr>\n",
              "      <th>20</th>\n",
              "      <td>0.000000</td>\n",
              "    </tr>\n",
              "    <tr>\n",
              "      <th>21</th>\n",
              "      <td>0.000000</td>\n",
              "    </tr>\n",
              "    <tr>\n",
              "      <th>22</th>\n",
              "      <td>0.000000</td>\n",
              "    </tr>\n",
              "    <tr>\n",
              "      <th>23</th>\n",
              "      <td>0.000000</td>\n",
              "    </tr>\n",
              "    <tr>\n",
              "      <th>24</th>\n",
              "      <td>0.000000</td>\n",
              "    </tr>\n",
              "    <tr>\n",
              "      <th>25</th>\n",
              "      <td>0.000000</td>\n",
              "    </tr>\n",
              "  </tbody>\n",
              "</table>\n",
              "</div>\n",
              "      <button class=\"colab-df-convert\" onclick=\"convertToInteractive('df-14a6a751-0634-4a90-bcfc-daa29ed7f9ae')\"\n",
              "              title=\"Convert this dataframe to an interactive table.\"\n",
              "              style=\"display:none;\">\n",
              "        \n",
              "  <svg xmlns=\"http://www.w3.org/2000/svg\" height=\"24px\"viewBox=\"0 0 24 24\"\n",
              "       width=\"24px\">\n",
              "    <path d=\"M0 0h24v24H0V0z\" fill=\"none\"/>\n",
              "    <path d=\"M18.56 5.44l.94 2.06.94-2.06 2.06-.94-2.06-.94-.94-2.06-.94 2.06-2.06.94zm-11 1L8.5 8.5l.94-2.06 2.06-.94-2.06-.94L8.5 2.5l-.94 2.06-2.06.94zm10 10l.94 2.06.94-2.06 2.06-.94-2.06-.94-.94-2.06-.94 2.06-2.06.94z\"/><path d=\"M17.41 7.96l-1.37-1.37c-.4-.4-.92-.59-1.43-.59-.52 0-1.04.2-1.43.59L10.3 9.45l-7.72 7.72c-.78.78-.78 2.05 0 2.83L4 21.41c.39.39.9.59 1.41.59.51 0 1.02-.2 1.41-.59l7.78-7.78 2.81-2.81c.8-.78.8-2.07 0-2.86zM5.41 20L4 18.59l7.72-7.72 1.47 1.35L5.41 20z\"/>\n",
              "  </svg>\n",
              "      </button>\n",
              "      \n",
              "  <style>\n",
              "    .colab-df-container {\n",
              "      display:flex;\n",
              "      flex-wrap:wrap;\n",
              "      gap: 12px;\n",
              "    }\n",
              "\n",
              "    .colab-df-convert {\n",
              "      background-color: #E8F0FE;\n",
              "      border: none;\n",
              "      border-radius: 50%;\n",
              "      cursor: pointer;\n",
              "      display: none;\n",
              "      fill: #1967D2;\n",
              "      height: 32px;\n",
              "      padding: 0 0 0 0;\n",
              "      width: 32px;\n",
              "    }\n",
              "\n",
              "    .colab-df-convert:hover {\n",
              "      background-color: #E2EBFA;\n",
              "      box-shadow: 0px 1px 2px rgba(60, 64, 67, 0.3), 0px 1px 3px 1px rgba(60, 64, 67, 0.15);\n",
              "      fill: #174EA6;\n",
              "    }\n",
              "\n",
              "    [theme=dark] .colab-df-convert {\n",
              "      background-color: #3B4455;\n",
              "      fill: #D2E3FC;\n",
              "    }\n",
              "\n",
              "    [theme=dark] .colab-df-convert:hover {\n",
              "      background-color: #434B5C;\n",
              "      box-shadow: 0px 1px 3px 1px rgba(0, 0, 0, 0.15);\n",
              "      filter: drop-shadow(0px 1px 2px rgba(0, 0, 0, 0.3));\n",
              "      fill: #FFFFFF;\n",
              "    }\n",
              "  </style>\n",
              "\n",
              "      <script>\n",
              "        const buttonEl =\n",
              "          document.querySelector('#df-14a6a751-0634-4a90-bcfc-daa29ed7f9ae button.colab-df-convert');\n",
              "        buttonEl.style.display =\n",
              "          google.colab.kernel.accessAllowed ? 'block' : 'none';\n",
              "\n",
              "        async function convertToInteractive(key) {\n",
              "          const element = document.querySelector('#df-14a6a751-0634-4a90-bcfc-daa29ed7f9ae');\n",
              "          const dataTable =\n",
              "            await google.colab.kernel.invokeFunction('convertToInteractive',\n",
              "                                                     [key], {});\n",
              "          if (!dataTable) return;\n",
              "\n",
              "          const docLinkHtml = 'Like what you see? Visit the ' +\n",
              "            '<a target=\"_blank\" href=https://colab.research.google.com/notebooks/data_table.ipynb>data table notebook</a>'\n",
              "            + ' to learn more about interactive tables.';\n",
              "          element.innerHTML = '';\n",
              "          dataTable['output_type'] = 'display_data';\n",
              "          await google.colab.output.renderOutput(dataTable, element);\n",
              "          const docLink = document.createElement('div');\n",
              "          docLink.innerHTML = docLinkHtml;\n",
              "          element.appendChild(docLink);\n",
              "        }\n",
              "      </script>\n",
              "    </div>\n",
              "  </div>\n",
              "  "
            ],
            "text/plain": [
              "            0\n",
              "0   13.035719\n",
              "1    9.994620\n",
              "2    7.376543\n",
              "3    5.204904\n",
              "4    3.481390\n",
              "5    2.183810\n",
              "6    1.266995\n",
              "7    0.667398\n",
              "8    0.311048\n",
              "9    0.123460\n",
              "10   0.039243\n",
              "11   0.008911\n",
              "12   0.001088\n",
              "13   0.000000\n",
              "14   0.000000\n",
              "15   0.000000\n",
              "16   0.000000\n",
              "17   0.000000\n",
              "18   0.000000\n",
              "19   0.000000\n",
              "20   0.000000\n",
              "21   0.000000\n",
              "22   0.000000\n",
              "23   0.000000\n",
              "24   0.000000\n",
              "25   0.000000"
            ]
          },
          "execution_count": 28,
          "metadata": {},
          "output_type": "execute_result"
        }
      ],
      "source": [
        "uu = np.diagonal(C)\n",
        "pd.DataFrame(uu)"
      ]
    },
    {
      "cell_type": "code",
      "execution_count": null,
      "metadata": {
        "id": "M9HoC7IN7TXK"
      },
      "outputs": [],
      "source": [
        "import matplotlib.pyplot as plt"
      ]
    },
    {
      "cell_type": "markdown",
      "metadata": {
        "id": "UA6RcdMR7Xhr"
      },
      "source": [
        "a. Visualizing the delta as a heatmap is the following. We can see that as we move right and down, forward in steps and lower, the delta gets lower to -1, meaning that our ratio is 1 put option to stock"
      ]
    },
    {
      "cell_type": "code",
      "execution_count": null,
      "metadata": {
        "colab": {
          "base_uri": "https://localhost:8080/",
          "height": 439
        },
        "id": "P9dkOXPV7TZJ",
        "outputId": "85541767-06cf-401d-f495-d299c0d4440a"
      },
      "outputs": [
        {
          "data": {
            "image/png": "[encoded data removed]",
            "text/plain": [
              "<Figure size 640x480 with 2 Axes>"
            ]
          },
          "metadata": {},
          "output_type": "display_data"
        }
      ],
      "source": [
        "import seaborn as sns\n",
        "\n",
        "# plt.figure(figsize=(10,10))\n",
        "sns.heatmap(delta)\n",
        "plt.show()"
      ]
    },
    {
      "cell_type": "markdown",
      "metadata": {
        "id": "BUHxQ8wy7b7A"
      },
      "source": [
        "b. Will do it later\n",
        "\n",
        "c. For the American option, since it allows early exercise, its value is priced in the max of the difference between strike price, stock price and the discounted option value at that node. Since its more optimal for early exercise of put options, that means that as the stock prises rises for a path like UUU..UUU, the delta value rises to zero quicker than the delta value of an european option. We also see that the price of the american option is cheaper than the european counterpart.\n"
      ]
    },
    {
      "cell_type": "markdown",
      "metadata": {
        "id": "PPTBbcpF7edF"
      },
      "source": [
        "Q27."
      ]
    },
    {
      "cell_type": "code",
      "execution_count": null,
      "metadata": {
        "id": "oybEipqb7Tbc"
      },
      "outputs": [],
      "source": [
        "def asian_option_mc(S_ini, K, T, r, sigma, N, M):\n",
        "    dt = T / N  # Define time step\n",
        "    u = np.exp(sigma * np.sqrt(dt))  # Define u\n",
        "    d = np.exp(-sigma * np.sqrt(dt))  # Define d\n",
        "    p = (np.exp(r * dt) - d) / (u - d)  # risk neutral probs\n",
        "    Asian = np.zeros([M])  # Asian prices\n",
        "    S = np.zeros([M, N + 1])  # underlying price\n",
        "    S[:, 0] = S_ini\n",
        "\n",
        "    for j in range(0, M):\n",
        "        random = np.random.binomial(1, p, N + 1)\n",
        "        Total = S_ini\n",
        "        for i in range(1, N + 1):\n",
        "            if random[i] == 1:\n",
        "                S[j, i] = S[j, i - 1] * u\n",
        "                Total = Total + S[j, i]\n",
        "            else:\n",
        "                S[j, i] = S[j, i - 1] * d\n",
        "                Total = Total + S[j, i]\n",
        "\n",
        "        Asian[j] = np.exp(-r * T) * max(Total / K-(N + 1), 0)\n",
        "\n",
        "    return S, Asian"
      ]
    },
    {
      "cell_type": "code",
      "execution_count": null,
      "metadata": {
        "id": "6AkHBphm7aG0"
      },
      "outputs": [],
      "source": [
        "S_ini=100\n",
        "r=0.02\n",
        "sigma=0.25\n",
        "T=1\n",
        "K = 90 # as requested, it is an Asian ATM put option\n",
        "N=3\n",
        "\n",
        "S, Asian = asian_option_mc(S0, K, T, r, sigma, N, 5000)"
      ]
    },
    {
      "cell_type": "code",
      "execution_count": null,
      "metadata": {
        "colab": {
          "base_uri": "https://localhost:8080/"
        },
        "id": "9_4oerRT7aNF",
        "outputId": "c0dc68ec-eadd-47ad-b81e-9816b42879a5"
      },
      "outputs": [
        {
          "name": "stdout",
          "output_type": "stream",
          "text": [
            "Asian Put option price: 3.54\n"
          ]
        }
      ],
      "source": [
        "print(f'Asian Put option price: {round(Asian.mean(), 2)}')"
      ]
    },
    {
      "cell_type": "code",
      "execution_count": null,
      "metadata": {
        "id": "ag-zGg0V60LX"
      },
      "outputs": [],
      "source": []
    },
    {
      "cell_type": "markdown",
      "metadata": {
        "id": "72K0VWL67j7A"
      },
      "source": [
        "The price of the Asian put option is the cheapest of them all. This is because the payoff is path dependent in the Binomial distribution. The max payoff is the difference of the average stock price and K with 0. The payoff is usually lower than the payoff of the American and European counter part causing its price to be much cheaper."
      ]
    },
    {
      "cell_type": "code",
      "execution_count": null,
      "metadata": {
        "id": "yHzlbzG_87eI"
      },
      "outputs": [],
      "source": [
        "import numpy as np\n",
        "\n",
        "def european_option(S_ini, K, T, r, sigma, N, opttype):\n",
        "    dt = T / N  # Define time step\n",
        "    u = np.exp(sigma * np.sqrt(dt))  # Define u\n",
        "    d = np.exp(-sigma * np.sqrt(dt))  # Define d\n",
        "    p = (np.exp(r * dt) - d) / (u - d)  # risk neutral probs\n",
        "    C = np.zeros([N + 1, N + 1])  # call prices\n",
        "    S = np.zeros([N + 1, N + 1])  # underlying price\n",
        "    Delta = np.zeros([N, N])  # delta\n",
        "\n",
        "    for i in range(0, N + 1):\n",
        "        S[N, i] = S_ini * (u ** (i)) * (d ** (N - i))\n",
        "        if opttype == \"C\":\n",
        "            C[N, i] = max(S[N, i] - K, 0)\n",
        "        else:\n",
        "            C[N, i] = max(K - S[N, i], 0)\n",
        "\n",
        "    for j in range(N - 1, -1, -1):\n",
        "        for i in range(0, j + 1):\n",
        "            C[j, i] = np.exp(-r * dt) * (\n",
        "                p * C[j + 1, i + 1] + (1 - p) * C[j + 1, i]\n",
        "            )  # Computing the European option prices\n",
        "            S[j, i] = (\n",
        "                S_ini * (u ** (i)) * (d ** (j - i))\n",
        "            )  # Underlying evolution for each node\n",
        "\n",
        "            Delta[j, i] = (C[j + 1, i + 1] - C[j + 1, i]) / (\n",
        "                S[j + 1, i + 1] - S[j + 1, i]\n",
        "            )  # Computing the delta for each node\n",
        "\n",
        "    return C[0, 0], C, S, Delta"
      ]
    },
    {
      "cell_type": "code",
      "execution_count": null,
      "metadata": {
        "id": "C7f3GP9OJDdT"
      },
      "outputs": [],
      "source": [
        "dt = T / N  # Define time step\n",
        "u = np.exp(sigma * np.sqrt(dt))  # Define u\n",
        "d = np.exp(-sigma * np.sqrt(dt))  # Define d\n",
        "p = (np.exp(r * dt) - d) / (u - d)  # risk neutral probs\n",
        "C = np.zeros([N + 1, N + 1])  # call prices\n",
        "S = np.zeros([N + 1, N + 1])  # underlying price\n",
        "Delta = np.zeros([N, N])  # delta"
      ]
    },
    {
      "cell_type": "code",
      "execution_count": null,
      "metadata": {
        "colab": {
          "base_uri": "https://localhost:8080/"
        },
        "id": "geDmXps3JWMm",
        "outputId": "7be0e7b8-9d5e-4e7a-893c-a867d2aeeb08"
      },
      "outputs": [
        {
          "name": "stdout",
          "output_type": "stream",
          "text": [
            "[[0. 0.]\n",
            " [0. 0.]]\n"
          ]
        }
      ],
      "source": [
        "print(Delta)"
      ]
    },
    {
      "cell_type": "code",
      "execution_count": null,
      "metadata": {
        "colab": {
          "base_uri": "https://localhost:8080/"
        },
        "id": "aUTEO2RzJ5E-",
        "outputId": "3e267c1a-5d75-433c-d955-ff0c3d40231b"
      },
      "outputs": [
        {
          "data": {
            "text/plain": [
              "range(1, -1, -1)"
            ]
          },
          "execution_count": 55,
          "metadata": {},
          "output_type": "execute_result"
        }
      ],
      "source": [
        "range(N - 1, -1, -1)"
      ]
    },
    {
      "cell_type": "code",
      "execution_count": null,
      "metadata": {
        "colab": {
          "base_uri": "https://localhost:8080/"
        },
        "id": "ZIVqgBqqJbSe",
        "outputId": "e7c67226-98f9-4358-ea75-251414d6d011"
      },
      "outputs": [
        {
          "name": "stdout",
          "output_type": "stream",
          "text": [
            "2\n",
            "[2, 0]\n",
            "[2, 1]\n",
            "[2, 2]\n",
            "1\n",
            "[1, 0]\n",
            "[1, 1]\n",
            "0\n",
            "[0, 0]\n",
            "[[100.           0.           0.           0.        ]\n",
            " [ 86.5595502  115.52740254   0.           0.        ]\n",
            " [ 74.92555731 100.         133.46580739   0.        ]\n",
            " [  0.           0.           0.           0.        ]]\n"
          ]
        }
      ],
      "source": [
        "for j in range(N - 1, -1, -1):\n",
        "        print(j)\n",
        "        for i in range(0, j + 1):\n",
        "            print([j,i])\n",
        "            S[j, i] = (\n",
        "                S_ini * (u ** (i)) * (d ** (j - i)))  # Underlying evolution for each node\n",
        "print(S)"
      ]
    },
    {
      "cell_type": "code",
      "execution_count": null,
      "metadata": {
        "colab": {
          "base_uri": "https://localhost:8080/"
        },
        "id": "Lp7MrIZZMQn-",
        "outputId": "49775120-9d59-4c82-bd8e-8c85b7f916f6"
      },
      "outputs": [
        {
          "data": {
            "text/plain": [
              "116.33106997656051"
            ]
          },
          "execution_count": 77,
          "metadata": {},
          "output_type": "execute_result"
        }
      ],
      "source": [
        "np.sum(np.diagonal(S))/3"
      ]
    },
    {
      "cell_type": "markdown",
      "metadata": {
        "id": "zjYJAMf2VPt8"
      },
      "source": [
        "================================= Asian Option with delta ==============================="
      ]
    },
    {
      "cell_type": "code",
      "execution_count": null,
      "metadata": {
        "id": "4yxL64LgVQU0"
      },
      "outputs": [],
      "source": [
        "def asian_option_mc(S_ini, K, T, r, sigma, N, M):\n",
        "    dt = T / N  # Define time step\n",
        "    u = np.exp(sigma * np.sqrt(dt))  # Define u\n",
        "    d = np.exp(-sigma * np.sqrt(dt))  # Define d\n",
        "    p = (np.exp(r * dt) - d) / (u - d)  # risk neutral probs\n",
        "    Asian = np.zeros([M])  # Asian prices\n",
        "    Asian_option = np.zeros([M, N+1])\n",
        "    S = np.zeros([M, N + 1])  # underlying price\n",
        "    S[:, 0] = S_ini\n",
        "    for j in range(0, M):\n",
        "        random = np.random.binomial(1, p, N + 1)\n",
        "        Total = S_ini\n",
        "        for i in range(1, N + 1):\n",
        "            if random[i] == 1:\n",
        "                S[j, i] = S[j, i - 1] * u\n",
        "                Total = Total + S[j, i]\n",
        "            else:\n",
        "                S[j, i] = S[j, i - 1] * d\n",
        "                Total = Total + S[j, i]\n",
        "        S_path_mean = S.cumsum(1) / np.arange(1, S.shape[1]+1).reshape((1,-1))\n",
        "        Asian[j] = np.exp(-r * T) * max(Total / K-(N + 1), 0)\n",
        "        path_payoff = K-S_path_mean[j,:]\n",
        "        path_payoff[path_payoff <= 0] = 0\n",
        "        Asian_option[j,:] = np.exp(-r * T) * path_payoff\n",
        "\n",
        "    return S, S_path_mean, Asian, Asian_option\n",
        "\n",
        "def get_delta_mcmc_asian_option(S_ini, K, T, r, sigma, N, M):\n",
        "    np.random.seed(42)\n",
        "    bump_value = 0.01*S_ini\n",
        "    S, S_path_mean, option_val, asian_option = asian_option_mc(S_ini, K, T, r, sigma, N, M)\n",
        "    S_bump, S_path_mean_bump, option_val_bump, asian_option_bump = asian_option_mc(S_ini-bump_value, K, T, r, sigma, N, M)\n",
        "\n",
        "    path_deltas = (asian_option_bump-asian_option)/(S_bump - S)\n",
        "    return path_deltas[:, 1:]\n"
      ]
    },
    {
      "cell_type": "code",
      "execution_count": null,
      "metadata": {
        "id": "UR5i7TseVjir"
      },
      "outputs": [],
      "source": [
        "S_ini=100\n",
        "r=0.02\n",
        "sigma=0.25\n",
        "T=1\n",
        "K = 95 # as requested, it is an Asian ATM put option\n",
        "N=25\n",
        "M = 1000"
      ]
    },
    {
      "cell_type": "code",
      "execution_count": null,
      "metadata": {
        "colab": {
          "base_uri": "https://localhost:8080/"
        },
        "id": "RBTxGsoWVVbp",
        "outputId": "ac024d23-8a78-414f-f1c5-3c805d49ed04"
      },
      "outputs": [
        {
          "name": "stdout",
          "output_type": "stream",
          "text": [
            "[[-0.00000000e+00 -3.51008070e-02 -9.52504719e-02 ... -1.24664496e+01\n",
            "  -1.32492326e+01 -1.23809539e+00]\n",
            " [-0.00000000e+00 -3.51008070e-02 -6.88411321e-02 ... -5.10511131e-01\n",
            "  -2.85288485e-01 -2.09516510e-01]\n",
            " [-0.00000000e+00 -3.51008070e-02 -9.52504719e-02 ... -1.25236057e-02\n",
            "  -5.06442563e-02 -8.88930671e-02]\n",
            " ...\n",
            " [-0.00000000e+00 -0.00000000e+00 -0.00000000e+00 ... -1.89860389e-01\n",
            "  -2.69405750e-01 -2.29049324e-01]\n",
            " [ 0.00000000e+00 -0.00000000e+00 -0.00000000e+00 ... -2.31407591e-02\n",
            "  -2.82583493e-01 -3.23345967e-01]\n",
            " [-0.00000000e+00 -0.00000000e+00 -0.00000000e+00 ... -0.00000000e+00\n",
            "  -0.00000000e+00 -0.00000000e+00]]\n"
          ]
        }
      ],
      "source": [
        "path_deltas = get_delta_mcmc_asian_option(S_ini, K, T, r, sigma, N, M)\n",
        "print(path_deltas)"
      ]
    },
    {
      "cell_type": "code",
      "execution_count": null,
      "metadata": {
        "id": "cp7a4fG3VZsC"
      },
      "outputs": [],
      "source": []
    }
  ],
  "metadata": {
    "colab": {
      "provenance": [],
      "include_colab_link": true
    },
    "kernelspec": {
      "display_name": "Python 3",
      "name": "python3"
    },
    "language_info": {
      "name": "python"
    }
  },
  "nbformat": 4,
  "nbformat_minor": 0
}